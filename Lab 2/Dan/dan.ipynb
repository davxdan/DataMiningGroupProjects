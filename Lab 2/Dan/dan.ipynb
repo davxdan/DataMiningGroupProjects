{
 "cells": [
  {
   "cell_type": "markdown",
   "metadata": {},
   "source": [
    "Over Sample and undersample? Bootstrap? repeated holdout? Stratefied k Fold Scikit learn has weights feature\n",
    "\n",
    "We are interested in precision for no default, recall for default"
   ]
  },
  {
   "cell_type": "code",
   "execution_count": 1,
   "metadata": {},
   "outputs": [],
   "source": [
    "import pandas as pd\n",
    "import numpy as np\n",
    "from sklearn.linear_model import LogisticRegression\n",
    "from sklearn.model_selection import ShuffleSplit\n",
    "from sklearn import metrics as mt\n",
    "from sklearn.preprocessing import StandardScaler\n",
    "\n",
    "df = pd.read_csv('DefaultCreditcardClients.csv')\n",
    "df.rename(columns={'default payment next month':'default'}, inplace=True)\n",
    "\n",
    "#set index to the \"ID\" value and remove the ID column\n",
    "df.index = df.ID\n",
    "del df['ID']\n",
    "\n",
    "#Create Lists for Analysis\n",
    "continuous_features = ['LIMIT_BAL', 'BILL_AMT1', 'BILL_AMT2','BILL_AMT3',\n",
    "                       'BILL_AMT4', 'BILL_AMT5', 'BILL_AMT6', 'PAY_AMT1',\n",
    "                       'PAY_AMT2', 'PAY_AMT3', 'PAY_AMT4', 'PAY_AMT5',\n",
    "                       'PAY_AMT6']\n",
    "ordinal_features = ['EDUCATION', 'MARRIAGE', 'AGE', 'PAY_0','PAY_2', 'PAY_3',\n",
    "                    'PAY_4', 'PAY_5', 'PAY_6','default']\n",
    "\n",
    "#Convert datatypes\n",
    "df[continuous_features] = df[continuous_features].astype(np.float64)\n",
    "df[ordinal_features] = df[ordinal_features].astype(np.int64)\n",
    "\n",
    "#convert any non-identified education categories to 'OTHER'\n",
    "df['EDUCATION'] = df['EDUCATION'].replace(to_replace=(0,5,6),value=4)\n",
    "\n",
    "#convert any non-identified marriage categories to 'OTHER'\n",
    "df['MARRIAGE'] = df['MARRIAGE'].replace(to_replace=(0),value=3)\n",
    "\n",
    "#Log transform continuous variables; as they each have a mostly \n",
    "##exponential distribution\n",
    "df[\"log_LIMIT_BAL\"]=np.log(df.LIMIT_BAL)\n",
    "df[\"log_PAY_AMT1\"]=np.log(df.PAY_AMT1+1)\n",
    "df[\"log_PAY_AMT2\"]=np.log(df.PAY_AMT2+1)\n",
    "df[\"log_PAY_AMT3\"]=np.log(df.PAY_AMT3+1)\n",
    "df[\"log_PAY_AMT4\"]=np.log(df.PAY_AMT4+1)\n",
    "df[\"log_PAY_AMT5\"]=np.log(df.PAY_AMT5+1)\n",
    "df[\"log_PAY_AMT6\"]=np.log(df.PAY_AMT6+1)\n",
    "\n",
    "#Create a separate dataset with only useful variables as identified in Lab1 and Mini-lab1.\n",
    "dfsub = df.loc[:,['SEX','EDUCATION','MARRIAGE','AGE','PAY_0','PAY_2','PAY_3','PAY_4','PAY_5','PAY_6','default','log_LIMIT_BAL','log_PAY_AMT1','log_PAY_AMT2','log_PAY_AMT3','log_PAY_AMT4','log_PAY_AMT5','log_PAY_AMT6']]"
   ]
  },
  {
   "cell_type": "markdown",
   "metadata": {},
   "source": [
    "We found in Lab1 that there is high correlation between BILL Amount and Pay so we ignored them"
   ]
  },
  {
   "cell_type": "code",
   "execution_count": 2,
   "metadata": {},
   "outputs": [
    {
     "data": {
      "text/html": [
       "<div>\n",
       "<style scoped>\n",
       "    .dataframe tbody tr th:only-of-type {\n",
       "        vertical-align: middle;\n",
       "    }\n",
       "\n",
       "    .dataframe tbody tr th {\n",
       "        vertical-align: top;\n",
       "    }\n",
       "\n",
       "    .dataframe thead th {\n",
       "        text-align: right;\n",
       "    }\n",
       "</style>\n",
       "<table border=\"1\" class=\"dataframe\">\n",
       "  <thead>\n",
       "    <tr style=\"text-align: right;\">\n",
       "      <th></th>\n",
       "      <th>SEX</th>\n",
       "      <th>EDUCATION</th>\n",
       "      <th>MARRIAGE</th>\n",
       "      <th>AGE</th>\n",
       "      <th>PAY_0</th>\n",
       "      <th>PAY_2</th>\n",
       "      <th>PAY_3</th>\n",
       "      <th>PAY_4</th>\n",
       "      <th>PAY_5</th>\n",
       "      <th>PAY_6</th>\n",
       "      <th>default</th>\n",
       "      <th>log_LIMIT_BAL</th>\n",
       "      <th>log_PAY_AMT1</th>\n",
       "      <th>log_PAY_AMT2</th>\n",
       "      <th>log_PAY_AMT3</th>\n",
       "      <th>log_PAY_AMT4</th>\n",
       "      <th>log_PAY_AMT5</th>\n",
       "      <th>log_PAY_AMT6</th>\n",
       "    </tr>\n",
       "    <tr>\n",
       "      <th>ID</th>\n",
       "      <th></th>\n",
       "      <th></th>\n",
       "      <th></th>\n",
       "      <th></th>\n",
       "      <th></th>\n",
       "      <th></th>\n",
       "      <th></th>\n",
       "      <th></th>\n",
       "      <th></th>\n",
       "      <th></th>\n",
       "      <th></th>\n",
       "      <th></th>\n",
       "      <th></th>\n",
       "      <th></th>\n",
       "      <th></th>\n",
       "      <th></th>\n",
       "      <th></th>\n",
       "      <th></th>\n",
       "    </tr>\n",
       "  </thead>\n",
       "  <tbody>\n",
       "    <tr>\n",
       "      <th>1</th>\n",
       "      <td>2</td>\n",
       "      <td>2</td>\n",
       "      <td>1</td>\n",
       "      <td>24</td>\n",
       "      <td>2</td>\n",
       "      <td>2</td>\n",
       "      <td>-1</td>\n",
       "      <td>-1</td>\n",
       "      <td>-2</td>\n",
       "      <td>-2</td>\n",
       "      <td>1</td>\n",
       "      <td>9.903488</td>\n",
       "      <td>0.000000</td>\n",
       "      <td>6.536692</td>\n",
       "      <td>0.000000</td>\n",
       "      <td>0.000000</td>\n",
       "      <td>0.000000</td>\n",
       "      <td>0.000000</td>\n",
       "    </tr>\n",
       "    <tr>\n",
       "      <th>2</th>\n",
       "      <td>2</td>\n",
       "      <td>2</td>\n",
       "      <td>2</td>\n",
       "      <td>26</td>\n",
       "      <td>-1</td>\n",
       "      <td>2</td>\n",
       "      <td>0</td>\n",
       "      <td>0</td>\n",
       "      <td>0</td>\n",
       "      <td>2</td>\n",
       "      <td>1</td>\n",
       "      <td>11.695247</td>\n",
       "      <td>0.000000</td>\n",
       "      <td>6.908755</td>\n",
       "      <td>6.908755</td>\n",
       "      <td>6.908755</td>\n",
       "      <td>0.000000</td>\n",
       "      <td>7.601402</td>\n",
       "    </tr>\n",
       "    <tr>\n",
       "      <th>3</th>\n",
       "      <td>2</td>\n",
       "      <td>2</td>\n",
       "      <td>2</td>\n",
       "      <td>34</td>\n",
       "      <td>0</td>\n",
       "      <td>0</td>\n",
       "      <td>0</td>\n",
       "      <td>0</td>\n",
       "      <td>0</td>\n",
       "      <td>0</td>\n",
       "      <td>0</td>\n",
       "      <td>11.407565</td>\n",
       "      <td>7.325808</td>\n",
       "      <td>7.313887</td>\n",
       "      <td>6.908755</td>\n",
       "      <td>6.908755</td>\n",
       "      <td>6.908755</td>\n",
       "      <td>8.517393</td>\n",
       "    </tr>\n",
       "    <tr>\n",
       "      <th>4</th>\n",
       "      <td>2</td>\n",
       "      <td>2</td>\n",
       "      <td>1</td>\n",
       "      <td>37</td>\n",
       "      <td>0</td>\n",
       "      <td>0</td>\n",
       "      <td>0</td>\n",
       "      <td>0</td>\n",
       "      <td>0</td>\n",
       "      <td>0</td>\n",
       "      <td>0</td>\n",
       "      <td>10.819778</td>\n",
       "      <td>7.601402</td>\n",
       "      <td>7.610853</td>\n",
       "      <td>7.090910</td>\n",
       "      <td>7.003974</td>\n",
       "      <td>6.975414</td>\n",
       "      <td>6.908755</td>\n",
       "    </tr>\n",
       "    <tr>\n",
       "      <th>5</th>\n",
       "      <td>1</td>\n",
       "      <td>2</td>\n",
       "      <td>1</td>\n",
       "      <td>57</td>\n",
       "      <td>-1</td>\n",
       "      <td>0</td>\n",
       "      <td>-1</td>\n",
       "      <td>0</td>\n",
       "      <td>0</td>\n",
       "      <td>0</td>\n",
       "      <td>0</td>\n",
       "      <td>10.819778</td>\n",
       "      <td>7.601402</td>\n",
       "      <td>10.510041</td>\n",
       "      <td>9.210440</td>\n",
       "      <td>9.105091</td>\n",
       "      <td>6.536692</td>\n",
       "      <td>6.522093</td>\n",
       "    </tr>\n",
       "  </tbody>\n",
       "</table>\n",
       "</div>"
      ],
      "text/plain": [
       "    SEX  EDUCATION  MARRIAGE  AGE  PAY_0  PAY_2  PAY_3  PAY_4  PAY_5  PAY_6  \\\n",
       "ID                                                                            \n",
       "1     2          2         1   24      2      2     -1     -1     -2     -2   \n",
       "2     2          2         2   26     -1      2      0      0      0      2   \n",
       "3     2          2         2   34      0      0      0      0      0      0   \n",
       "4     2          2         1   37      0      0      0      0      0      0   \n",
       "5     1          2         1   57     -1      0     -1      0      0      0   \n",
       "\n",
       "    default  log_LIMIT_BAL  log_PAY_AMT1  log_PAY_AMT2  log_PAY_AMT3  \\\n",
       "ID                                                                     \n",
       "1         1       9.903488      0.000000      6.536692      0.000000   \n",
       "2         1      11.695247      0.000000      6.908755      6.908755   \n",
       "3         0      11.407565      7.325808      7.313887      6.908755   \n",
       "4         0      10.819778      7.601402      7.610853      7.090910   \n",
       "5         0      10.819778      7.601402     10.510041      9.210440   \n",
       "\n",
       "    log_PAY_AMT4  log_PAY_AMT5  log_PAY_AMT6  \n",
       "ID                                            \n",
       "1       0.000000      0.000000      0.000000  \n",
       "2       6.908755      0.000000      7.601402  \n",
       "3       6.908755      6.908755      8.517393  \n",
       "4       7.003974      6.975414      6.908755  \n",
       "5       9.105091      6.536692      6.522093  "
      ]
     },
     "execution_count": 2,
     "metadata": {},
     "output_type": "execute_result"
    }
   ],
   "source": [
    "dfsub.head()"
   ]
  },
  {
   "cell_type": "markdown",
   "metadata": {},
   "source": [
    "## Random Forests for Payment Default Analysis"
   ]
  },
  {
   "cell_type": "code",
   "execution_count": 3,
   "metadata": {
    "scrolled": true
   },
   "outputs": [
    {
     "name": "stdout",
     "output_type": "stream",
     "text": [
      "Number of Observations 30000\n"
     ]
    },
    {
     "data": {
      "image/png": "[encoded data removed]",
      "text/plain": [
       "<Figure size 432x288 with 1 Axes>"
      ]
     },
     "metadata": {},
     "output_type": "display_data"
    }
   ],
   "source": [
    "print ('Number of Observations', len(dfsub.default))\n",
    "\n",
    "from matplotlib import pyplot as plt\n",
    "import numpy as np\n",
    "%matplotlib inline\n",
    "\n",
    "plt.hist(dfsub.default )\n",
    "plt.xlabel('Value')\n",
    "plt.ylabel('Class Frequency')\n",
    "plt.show()"
   ]
  },
  {
   "cell_type": "code",
   "execution_count": 4,
   "metadata": {},
   "outputs": [],
   "source": [
    "def per_class_accuracy(ytrue,yhat):\n",
    "    conf = mt.confusion_matrix(ytrue,yhat)\n",
    "    norm_conf = conf.astype('float') / conf.sum(axis=1)[:, np.newaxis]\n",
    "    return np.diag(norm_conf)\n",
    "\n",
    "def plot_class_acc(ytrue,yhat, title=''):\n",
    "    acc_list = per_class_accuracy(ytrue,yhat)\n",
    "    plt.bar(range(len(acc_list)), acc_list)\n",
    "    plt.xlabel('Class value (one per face)')\n",
    "    plt.ylabel('Accuracy within class')\n",
    "    plt.title(title+\", Total Acc=%.1f\"%(100*mt.accuracy_score(ytrue,yhat)))\n",
    "    plt.grid()\n",
    "    plt.ylim([0,1])\n",
    "    plt.show()"
   ]
  },
  {
   "cell_type": "code",
   "execution_count": 5,
   "metadata": {},
   "outputs": [
    {
     "name": "stdout",
     "output_type": "stream",
     "text": [
      "Accuracy 0.8174333333333333\n"
     ]
    },
    {
     "data": {
      "image/png": "[encoded data removed]",
      "text/plain": [
       "<Figure size 432x288 with 1 Axes>"
      ]
     },
     "metadata": {},
     "output_type": "display_data"
    },
    {
     "name": "stdout",
     "output_type": "stream",
     "text": [
      "Wall time: 17.3 s\n"
     ]
    }
   ],
   "source": [
    "%%time\n",
    "from sklearn.ensemble import RandomForestClassifier\n",
    "from sklearn.preprocessing import StandardScaler\n",
    "from sklearn.model_selection import StratifiedKFold\n",
    "import numpy as np\n",
    "from sklearn import metrics as mt\n",
    "\n",
    "# create variables we are more familiar with\n",
    "if 'default' in dfsub:\n",
    "    y = dfsub['default'].values\n",
    "    del dfsub['default'] \n",
    "    X = dfsub.values\n",
    "    yhat = np.zeros(y.shape) # we will fill this with predictions\n",
    "    \n",
    "cv = StratifiedKFold(n_splits=10)\n",
    "scl = StandardScaler()\n",
    "X = scl.fit_transform(X)\n",
    "\n",
    "clf = RandomForestClassifier(max_depth=50, n_estimators=200, n_jobs=-1, oob_score=True)\n",
    "\n",
    "# now iterate through and get predictions, saved to the correct row in yhat\n",
    "for train, test in cv.split(X,y):\n",
    "    clf.fit(X[train],y[train])\n",
    "    yhat[test] = clf.predict(X[test])\n",
    "    \n",
    "total_accuracy = mt.accuracy_score(y, yhat)\n",
    "print ('Accuracy', total_accuracy)\n",
    "plot_class_acc(y,yhat,title=\"Random Forest, Raw\")\n",
    "\n",
    "\n",
    "#https://www.youtube.com/watch?v=DQC_YE3I5ig"
   ]
  },
  {
   "cell_type": "markdown",
   "metadata": {},
   "source": [
    "Trial and error with different estimators yielded simmilar results:  \n",
    "Estimators = Accuracy  \n",
    "1000=81%   \n",
    "400 = 81.7%   \n",
    "200 = 81.8%   \n",
    "20 = 81.1% "
   ]
  },
  {
   "cell_type": "code",
   "execution_count": 6,
   "metadata": {},
   "outputs": [
    {
     "name": "stdout",
     "output_type": "stream",
     "text": [
      "RandomForestClassifier(bootstrap=True, class_weight=None, criterion='gini',\n",
      "            max_depth=50, max_features='auto', max_leaf_nodes=None,\n",
      "            min_impurity_decrease=0.0, min_impurity_split=None,\n",
      "            min_samples_leaf=1, min_samples_split=2,\n",
      "            min_weight_fraction_leaf=0.0, n_estimators=200, n_jobs=-1,\n",
      "            oob_score=True, random_state=None, verbose=0, warm_start=False)\n"
     ]
    },
    {
     "data": {
      "image/png": "[encoded data removed]",
      "text/plain": [
       "<Figure size 432x288 with 1 Axes>"
      ]
     },
     "metadata": {},
     "output_type": "display_data"
    },
    {
     "name": "stdout",
     "output_type": "stream",
     "text": [
      "Generalization score estimate from training data 0.8153031369208548\n"
     ]
    }
   ],
   "source": [
    "print (clf)\n",
    "\n",
    "plt.barh(range(len(clf.feature_importances_)), clf.feature_importances_)\n",
    "plt.show()\n",
    "\n",
    "print ('Generalization score estimate from training data', clf.oob_score_)"
   ]
  },
  {
   "cell_type": "markdown",
   "metadata": {},
   "source": [
    "Try 100 splits  \n",
    "Accuracy = 0.8162666666666667"
   ]
  },
  {
   "cell_type": "code",
   "execution_count": 7,
   "metadata": {},
   "outputs": [
    {
     "name": "stdout",
     "output_type": "stream",
     "text": [
      "Accuracy 0.8173333333333334\n"
     ]
    },
    {
     "data": {
      "image/png": "[encoded data removed]",
      "text/plain": [
       "<Figure size 432x288 with 1 Axes>"
      ]
     },
     "metadata": {},
     "output_type": "display_data"
    },
    {
     "name": "stdout",
     "output_type": "stream",
     "text": [
      "Wall time: 3min 6s\n"
     ]
    }
   ],
   "source": [
    "%%time\n",
    "cv = StratifiedKFold(n_splits=100)\n",
    "scl = StandardScaler()\n",
    "X = scl.fit_transform(X)\n",
    "\n",
    "clf = RandomForestClassifier(max_depth=50, n_estimators=200, n_jobs=-1, oob_score=True)\n",
    "\n",
    "# now iterate through and get predictions, saved to the correct row in yhat\n",
    "for train, test in cv.split(X,y):\n",
    "    clf.fit(X[train],y[train])\n",
    "    yhat[test] = clf.predict(X[test])\n",
    "    \n",
    "total_accuracy = mt.accuracy_score(y, yhat)\n",
    "print ('Accuracy', total_accuracy)\n",
    "plot_class_acc(y,yhat,title=\"Random Forest, Raw\")\n",
    "#1000 81\n",
    "#400 = 81.7\n",
    "#200 = 81.8\n",
    "#20 = 81.1\n",
    "\n",
    "#https://www.youtube.com/watch?v=DQC_YE3I5ig"
   ]
  },
  {
   "cell_type": "markdown",
   "metadata": {},
   "source": [
    "Try Balanced Subsample  \n",
    "Accuracy 0.8170333333333333"
   ]
  },
  {
   "cell_type": "code",
   "execution_count": 8,
   "metadata": {},
   "outputs": [
    {
     "name": "stdout",
     "output_type": "stream",
     "text": [
      "Accuracy 0.8168666666666666\n"
     ]
    },
    {
     "data": {
      "image/png": "[encoded data removed]",
      "text/plain": [
       "<Figure size 432x288 with 1 Axes>"
      ]
     },
     "metadata": {},
     "output_type": "display_data"
    },
    {
     "name": "stdout",
     "output_type": "stream",
     "text": [
      "Wall time: 20.7 s\n"
     ]
    }
   ],
   "source": [
    "%%time\n",
    "cv = StratifiedKFold(n_splits=10)\n",
    "scl = StandardScaler()\n",
    "X = scl.fit_transform(X)\n",
    "\n",
    "clf = RandomForestClassifier(class_weight='balanced_subsample',max_depth=50, n_estimators=200, n_jobs=-1, oob_score=True)\n",
    "\n",
    "# now iterate through and get predictions, saved to the correct row in yhat\n",
    "for train, test in cv.split(X,y):\n",
    "    clf.fit(X[train],y[train])\n",
    "    yhat[test] = clf.predict(X[test])\n",
    "    \n",
    "total_accuracy = mt.accuracy_score(y, yhat)\n",
    "print ('Accuracy', total_accuracy)\n",
    "plot_class_acc(y,yhat,title=\"Random Forest, Raw\")\n",
    "\n",
    "#https://www.youtube.com/watch?v=DQC_YE3I5ig\n",
    "#balanced_subsample' = 81.7"
   ]
  },
  {
   "cell_type": "markdown",
   "metadata": {},
   "source": [
    "Try different weights  \n",
    "Accuracy 0.8153666666666667"
   ]
  },
  {
   "cell_type": "code",
   "execution_count": 9,
   "metadata": {},
   "outputs": [
    {
     "name": "stdout",
     "output_type": "stream",
     "text": [
      "Accuracy 0.8146\n"
     ]
    },
    {
     "data": {
      "image/png": "[encoded data removed]",
      "text/plain": [
       "<Figure size 432x288 with 1 Axes>"
      ]
     },
     "metadata": {},
     "output_type": "display_data"
    },
    {
     "name": "stdout",
     "output_type": "stream",
     "text": [
      "Wall time: 18.1 s\n"
     ]
    }
   ],
   "source": [
    "%%time\n",
    "weights ={1:.1, 0: .9}\n",
    "cv = StratifiedKFold(n_splits=10)\n",
    "scl = StandardScaler()\n",
    "X = scl.fit_transform(X)\n",
    "\n",
    "clf = RandomForestClassifier(class_weight=weights,max_depth=50, n_estimators=200, n_jobs=-1, oob_score=True)\n",
    "\n",
    "# now iterate through and get predictions, saved to the correct row in yhat\n",
    "for train, test in cv.split(X,y):\n",
    "    clf.fit(X[train],y[train])\n",
    "    yhat[test] = clf.predict(X[test])\n",
    "    \n",
    "total_accuracy = mt.accuracy_score(y, yhat)\n",
    "print ('Accuracy', total_accuracy)\n",
    "plot_class_acc(y,yhat,title=\"Random Forest, Raw\")\n",
    "#weights ={1:.1, 0: .9} = 81.4\n",
    "\n",
    "#https://www.youtube.com/watch?v=DQC_YE3I5ig"
   ]
  },
  {
   "cell_type": "markdown",
   "metadata": {},
   "source": [
    "## Random Forests for Education Analysis"
   ]
  },
  {
   "cell_type": "code",
   "execution_count": 10,
   "metadata": {
    "scrolled": true
   },
   "outputs": [
    {
     "data": {
      "text/html": [
       "<div>\n",
       "<style scoped>\n",
       "    .dataframe tbody tr th:only-of-type {\n",
       "        vertical-align: middle;\n",
       "    }\n",
       "\n",
       "    .dataframe tbody tr th {\n",
       "        vertical-align: top;\n",
       "    }\n",
       "\n",
       "    .dataframe thead th {\n",
       "        text-align: right;\n",
       "    }\n",
       "</style>\n",
       "<table border=\"1\" class=\"dataframe\">\n",
       "  <thead>\n",
       "    <tr style=\"text-align: right;\">\n",
       "      <th></th>\n",
       "      <th>EDUCATION</th>\n",
       "    </tr>\n",
       "  </thead>\n",
       "  <tbody>\n",
       "    <tr>\n",
       "      <th>count</th>\n",
       "      <td>30000.000000</td>\n",
       "    </tr>\n",
       "    <tr>\n",
       "      <th>mean</th>\n",
       "      <td>1.842267</td>\n",
       "    </tr>\n",
       "    <tr>\n",
       "      <th>std</th>\n",
       "      <td>0.744494</td>\n",
       "    </tr>\n",
       "    <tr>\n",
       "      <th>min</th>\n",
       "      <td>1.000000</td>\n",
       "    </tr>\n",
       "    <tr>\n",
       "      <th>25%</th>\n",
       "      <td>1.000000</td>\n",
       "    </tr>\n",
       "    <tr>\n",
       "      <th>50%</th>\n",
       "      <td>2.000000</td>\n",
       "    </tr>\n",
       "    <tr>\n",
       "      <th>75%</th>\n",
       "      <td>2.000000</td>\n",
       "    </tr>\n",
       "    <tr>\n",
       "      <th>max</th>\n",
       "      <td>4.000000</td>\n",
       "    </tr>\n",
       "  </tbody>\n",
       "</table>\n",
       "</div>"
      ],
      "text/plain": [
       "          EDUCATION\n",
       "count  30000.000000\n",
       "mean       1.842267\n",
       "std        0.744494\n",
       "min        1.000000\n",
       "25%        1.000000\n",
       "50%        2.000000\n",
       "75%        2.000000\n",
       "max        4.000000"
      ]
     },
     "execution_count": 10,
     "metadata": {},
     "output_type": "execute_result"
    }
   ],
   "source": [
    "dfsub[['EDUCATION']].describe()"
   ]
  },
  {
   "cell_type": "markdown",
   "metadata": {},
   "source": [
    "Categorize observations into categories \"College\" and \"High School\""
   ]
  },
  {
   "cell_type": "markdown",
   "metadata": {},
   "source": [
    " - EDUCATION\n",
    "     - 1 = Graduate School\n",
    "     - 2 = University\n",
    "     - 3 = High School\n",
    "     - 4 = Other"
   ]
  },
  {
   "cell_type": "code",
   "execution_count": 21,
   "metadata": {
    "scrolled": true
   },
   "outputs": [
    {
     "name": "stdout",
     "output_type": "stream",
     "text": [
      "    SEX  EDUCATION  MARRIAGE  AGE  PAY_0  PAY_2  PAY_3  PAY_4  PAY_5  PAY_6  \\\n",
      "ID                                                                            \n",
      "1     2          2         1   24      2      2     -1     -1     -2     -2   \n",
      "2     2          2         2   26     -1      2      0      0      0      2   \n",
      "3     2          2         2   34      0      0      0      0      0      0   \n",
      "4     2          2         1   37      0      0      0      0      0      0   \n",
      "5     1          2         1   57     -1      0     -1      0      0      0   \n",
      "6     1          1         2   37      0      0      0      0      0      0   \n",
      "7     1          1         2   29      0      0      0      0      0      0   \n",
      "8     2          2         2   23      0     -1     -1      0      0     -1   \n",
      "9     2          3         1   28      0      0      2      0      0      0   \n",
      "10    1          3         2   35     -2     -2     -2     -2     -1     -1   \n",
      "11    2          3         2   34      0      0      2      0      0     -1   \n",
      "12    2          1         2   51     -1     -1     -1     -1     -1      2   \n",
      "13    2          2         2   41     -1      0     -1     -1     -1     -1   \n",
      "14    1          2         2   30      1      2      2      0      0      2   \n",
      "15    1          1         2   29      0      0      0      0      0      0   \n",
      "16    2          3         3   23      1      2      0      0      0      0   \n",
      "17    1          1         2   24      0      0      2      2      2      2   \n",
      "18    1          1         1   49      0      0      0     -1     -1     -1   \n",
      "19    2          1         1   49      1     -2     -2     -2     -2     -2   \n",
      "20    2          1         2   29      1     -2     -2     -2     -2     -2   \n",
      "21    2          3         2   39      0      0      0      0      0     -1   \n",
      "22    2          2         1   39     -1     -1     -1     -1     -1     -1   \n",
      "23    2          2         2   26      2      0      0      2      2      2   \n",
      "24    2          1         1   40     -2     -2     -2     -2     -2     -2   \n",
      "25    1          1         2   23      0      0      0     -1      0      0   \n",
      "26    1          3         2   23      0      0      0      0      0      0   \n",
      "27    1          1         2   27      1     -2     -1     -1     -1     -1   \n",
      "28    2          3         2   30      0      0      0      0      0      0   \n",
      "29    2          3         1   47     -1     -1     -1     -1     -1     -1   \n",
      "30    1          1         2   26      0      0      0      0      0      0   \n",
      "31    2          1         2   27     -1     -1     -1     -1     -1     -1   \n",
      "32    1          2         2   33      2      0      0      0      0      0   \n",
      "33    1          1         2   32      0      0      0      0      0      0   \n",
      "34    2          2         1   54     -2     -2     -2     -2     -2     -2   \n",
      "35    1          1         1   58     -2     -2     -2     -2     -2     -2   \n",
      "36    1          1         2   30     -1     -1     -2     -2     -2     -1   \n",
      "37    1          2         1   40      0      0      0      0      0      0   \n",
      "38    2          2         2   22      0      0      0      0      0     -1   \n",
      "39    1          1         2   25      1     -1     -1     -2     -2     -2   \n",
      "40    1          1         2   31     -1     -1      2     -1      0     -1   \n",
      "41    1          1         2   33      0      0      0      0      0      0   \n",
      "42    2          1         2   25      0      0      0      0      0      0   \n",
      "43    1          2         2   22      0      0      0      0      0      0   \n",
      "44    2          2         1   37      0      0      0      0      0      0   \n",
      "45    2          1         2   30      0      0      0      2      0      0   \n",
      "46    1          1         2   29     -2     -2     -2     -2     -2     -2   \n",
      "47    2          1         2   22      0      0      2     -1      0      0   \n",
      "48    2          4         2   46      0      0     -1      0      0     -2   \n",
      "49    1          2         2   32     -1     -1     -1     -1     -1     -1   \n",
      "50    1          1         2   24      0      0      0      0      0      0   \n",
      "\n",
      "    log_LIMIT_BAL  log_PAY_AMT1  log_PAY_AMT2  log_PAY_AMT3  log_PAY_AMT4  \\\n",
      "ID                                                                          \n",
      "1        9.903488      0.000000      6.536692      0.000000      0.000000   \n",
      "2       11.695247      0.000000      6.908755      6.908755      6.908755   \n",
      "3       11.407565      7.325808      7.313887      6.908755      6.908755   \n",
      "4       10.819778      7.601402      7.610853      7.090910      7.003974   \n",
      "5       10.819778      7.601402     10.510041      9.210440      9.105091   \n",
      "6       10.819778      7.824446      7.504392      6.489205      6.908755   \n",
      "7       13.122363     10.915107     10.596660     10.545368      9.915416   \n",
      "8       11.512925      5.942799      6.400257      0.000000      6.366470   \n",
      "9       11.849398      8.110728      0.000000      6.070738      6.908755   \n",
      "10       9.903488      0.000000      0.000000      0.000000      9.473320   \n",
      "11      12.206073      7.743703      2.564949      3.931826      5.707110   \n",
      "12      12.468437      9.990536      9.207035      9.057655     10.012432   \n",
      "13      13.353475      6.908755      8.779711      8.779711      8.779711   \n",
      "14      11.156251      8.071219      0.000000      8.006701      8.006701   \n",
      "15      12.429216      8.006701      8.006701      8.006701      8.006701   \n",
      "16      10.819778      0.000000      7.313887      7.003974      7.090910   \n",
      "17       9.903488      8.071219      0.000000      7.313887      0.000000   \n",
      "18      12.676076      9.245611      9.210440     11.237712      9.903538   \n",
      "19      12.793859      0.000000      0.000000      0.000000      0.000000   \n",
      "20      12.100712      0.000000      0.000000      0.000000      0.000000   \n",
      "21      11.775290      8.006701      7.338238      6.908755      7.601402   \n",
      "22      11.695247      5.758902      5.758902      0.000000      6.450470   \n",
      "23      11.156251      7.604894      8.183956      0.000000      8.189245   \n",
      "24      13.017003      9.874522      7.295735      6.329721      0.000000   \n",
      "25      11.407565      8.658345      0.000000      8.593969      7.090910   \n",
      "26      10.819778      7.587817      7.263330      6.909753      7.267525   \n",
      "27      11.002100      0.000000      6.908755      0.000000      6.216606   \n",
      "28      10.819778      7.170888      7.170888      6.908755      7.313887   \n",
      "29      10.819778      8.136226      8.137980      7.623153     10.323217   \n",
      "30      10.819778      7.313887      7.313887      6.908755      6.908755   \n",
      "31      12.345835      9.756784      9.494165      9.638219      9.568574   \n",
      "32      10.819778      7.449498      7.313887      6.908755      6.908755   \n",
      "33      11.512925      8.014336      8.163941      8.102586      8.072467   \n",
      "34      13.122363      8.331586     10.035743      8.925587     11.176613   \n",
      "35      13.122363      8.518592     10.347500      8.064951      0.000000   \n",
      "36      11.982929      4.882802      5.983936      5.983936      6.338594   \n",
      "37      12.542545      8.990566      8.994793      8.748464      8.764210   \n",
      "38      11.002100      7.313887      7.325808      7.622664      0.000000   \n",
      "39      10.819778      6.660575      0.000000      0.000000      0.000000   \n",
      "40      12.542545      9.113389      0.000000      9.208038      8.987322   \n",
      "41      12.793859      9.210440      8.853808      8.699681     12.148661   \n",
      "42      11.156251      8.006701      8.412055      8.304742      7.824446   \n",
      "43       9.210340      7.313887      7.982075      6.908755      5.707110   \n",
      "44      11.849398      8.006701      8.006701      8.006701      8.294300   \n",
      "45      10.596635      8.006701      8.517393      0.000000      7.601402   \n",
      "46      12.254863      0.000000      0.000000      0.000000      0.000000   \n",
      "47       9.903488      8.006701      0.000000      9.725676      5.814131   \n",
      "48      11.918391      6.921658      7.065613      0.000000      0.000000   \n",
      "49      12.847927      9.977713      9.625029     10.113667      9.380252   \n",
      "50       9.903488      7.184629      7.182352      6.558198      6.834109   \n",
      "\n",
      "    log_PAY_AMT5  log_PAY_AMT6  College  \n",
      "ID                                       \n",
      "1       0.000000      0.000000        1  \n",
      "2       0.000000      7.601402        1  \n",
      "3       6.908755      8.517393        1  \n",
      "4       6.975414      6.908755        1  \n",
      "5       6.536692      6.522093        1  \n",
      "6       6.908755      6.685861        1  \n",
      "7       9.528867      9.530320        1  \n",
      "8       7.431300      7.341484        1  \n",
      "9       6.908755      6.908755        0  \n",
      "10      7.023759      0.000000        0  \n",
      "11      8.226573      4.204693        0  \n",
      "12      0.000000      8.200014        1  \n",
      "13      7.962416      0.000000        1  \n",
      "14      7.313887      0.000000        1  \n",
      "15      8.006701      8.006701        1  \n",
      "16      7.170888      7.003974        0  \n",
      "17      7.409136      0.000000        1  \n",
      "18     12.183827     10.819798        1  \n",
      "19      0.000000      0.000000        1  \n",
      "20      0.000000      0.000000        1  \n",
      "21      6.836259     10.427180        0  \n",
      "22      5.758902      0.000000        1  \n",
      "23      0.000000      7.507141        1  \n",
      "24      0.000000      7.029088        1  \n",
      "25      7.623642      7.601402        1  \n",
      "26      6.968850      6.905753        0  \n",
      "27      0.000000      6.908755        1  \n",
      "28      6.908755      6.920672        0  \n",
      "29      5.552960      0.000000        0  \n",
      "30      7.378384      0.000000        1  \n",
      "31     10.526561      0.000000        1  \n",
      "32      6.908755      6.575076        1  \n",
      "33      8.071219      7.826044        1  \n",
      "34      6.889591     10.850947        1  \n",
      "35      8.574329      6.645091        1  \n",
      "36      6.675823      0.000000        1  \n",
      "37      8.764210      8.815518        1  \n",
      "38     10.772100      6.426488        1  \n",
      "39      0.000000      0.000000        1  \n",
      "40      9.161780      6.661855        1  \n",
      "41     10.239996      8.294300        1  \n",
      "42      7.937732      7.824446        1  \n",
      "43      6.908755      6.216606        1  \n",
      "44      8.294300      8.006701        1  \n",
      "45      8.006701      0.000000        1  \n",
      "46      0.000000      0.000000        1  \n",
      "47      0.000000      0.000000        1  \n",
      "48      0.000000      0.000000        0  \n",
      "49      9.382275      9.018211        1  \n",
      "50      6.816736      6.975414        1  \n"
     ]
    }
   ],
   "source": [
    "dfsub['College'] = np.where(dfsub['EDUCATION']<3, 1, 0)\n",
    "print(dfsub[0:50])"
   ]
  },
  {
   "cell_type": "code",
   "execution_count": 22,
   "metadata": {},
   "outputs": [
    {
     "name": "stdout",
     "output_type": "stream",
     "text": [
      "Accuracy 0.8189666666666666\n"
     ]
    },
    {
     "data": {
      "image/png": "[encoded data removed]",
      "text/plain": [
       "<Figure size 432x288 with 1 Axes>"
      ]
     },
     "metadata": {},
     "output_type": "display_data"
    },
    {
     "name": "stdout",
     "output_type": "stream",
     "text": [
      "Wall time: 15.8 s\n"
     ]
    }
   ],
   "source": [
    "%%time\n",
    "# create variables we are more familiar with\n",
    "if 'College' in dfsub:\n",
    "    y = dfsub['College'].values\n",
    "    del dfsub['College'] \n",
    "    del dfsub['EDUCATION'] \n",
    "    X = dfsub.values\n",
    "    yhat = np.zeros(y.shape) # we will fill this with predictions\n",
    "    \n",
    "cv = StratifiedKFold(n_splits=10)\n",
    "scl = StandardScaler()\n",
    "X = scl.fit_transform(X)\n",
    "\n",
    "clf = RandomForestClassifier(max_depth=50, n_estimators=200, n_jobs=-1, oob_score=True)\n",
    "\n",
    "# now iterate through and get predictions, saved to the correct row in yhat\n",
    "for train, test in cv.split(X,y):\n",
    "    clf.fit(X[train],y[train])\n",
    "    yhat[test] = clf.predict(X[test])\n",
    "    \n",
    "total_accuracy = mt.accuracy_score(y, yhat)\n",
    "print ('Accuracy', total_accuracy)\n",
    "plot_class_acc(y,yhat,title=\"Random Forest, Raw\")"
   ]
  },
  {
   "cell_type": "code",
   "execution_count": null,
   "metadata": {},
   "outputs": [],
   "source": []
  }
 ],
 "metadata": {
  "anaconda-cloud": {},
  "kernelspec": {
   "display_name": "Python 3",
   "language": "python",
   "name": "python3"
  },
  "language_info": {
   "codemirror_mode": {
    "name": "ipython",
    "version": 3
   },
   "file_extension": ".py",
   "mimetype": "text/x-python",
   "name": "python",
   "nbconvert_exporter": "python",
   "pygments_lexer": "ipython3",
   "version": "3.6.5"
  }
 },
 "nbformat": 4,
 "nbformat_minor": 1
}
