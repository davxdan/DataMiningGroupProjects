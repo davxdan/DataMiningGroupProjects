{
 "cells": [
  {
   "cell_type": "code",
   "execution_count": 1,
   "metadata": {
    "collapsed": false
   },
   "outputs": [],
   "source": [
    "import pandas as pd\n",
    "import numpy as np\n",
    "from matplotlib import pyplot as plt\n",
    "%matplotlib inline\n",
    "\n",
    "df = pd.read_csv('data/CreditcardDefaults.csv')\n",
    "df.rename(columns={'default payment next month':'default'}, inplace=True)\n",
    "\n",
    "#set index to the \"ID\" value and remove the ID column\n",
    "df.index = df.ID\n",
    "del df['ID']\n",
    "\n",
    "#Create Lists for Analysis\n",
    "continuous_features = ['LIMIT_BAL', 'BILL_AMT1', 'BILL_AMT2','BILL_AMT3',\n",
    "                       'BILL_AMT4', 'BILL_AMT5', 'BILL_AMT6', 'PAY_AMT1',\n",
    "                       'PAY_AMT2', 'PAY_AMT3', 'PAY_AMT4', 'PAY_AMT5',\n",
    "                       'PAY_AMT6']\n",
    "ordinal_features = ['EDUCATION', 'MARRIAGE', 'AGE', 'PAY_0','PAY_2', 'PAY_3',\n",
    "                    'PAY_4', 'PAY_5', 'PAY_6','default']\n",
    "\n",
    "#Convert datatypes\n",
    "df[continuous_features] = df[continuous_features].astype(np.float64)\n",
    "df[ordinal_features] = df[ordinal_features].astype(np.int64)\n",
    "\n",
    "#convert any non-identified education categories to 'OTHER'\n",
    "df['EDUCATION'] = df['EDUCATION'].replace(to_replace=(0,5,6),value=4)\n",
    "\n",
    "#convert any non-identified marriage categories to 'OTHER'\n",
    "df['MARRIAGE'] = df['MARRIAGE'].replace(to_replace=(0),value=3)\n",
    "\n",
    "#Log transform continuous variables; as they each have a mostly \n",
    "##exponential distribution\n",
    "df[\"log_LIMIT_BAL\"]=np.log(df.LIMIT_BAL)\n",
    "df[\"log_PAY_AMT1\"]=np.log(df.PAY_AMT1+1)\n",
    "df[\"log_PAY_AMT2\"]=np.log(df.PAY_AMT2+1)\n",
    "df[\"log_PAY_AMT3\"]=np.log(df.PAY_AMT3+1)\n",
    "df[\"log_PAY_AMT4\"]=np.log(df.PAY_AMT4+1)\n",
    "df[\"log_PAY_AMT5\"]=np.log(df.PAY_AMT5+1)\n",
    "df[\"log_PAY_AMT6\"]=np.log(df.PAY_AMT6+1)\n",
    "\n",
    "# Creating a variable that counts how many times a client was two or more months late in making a payment\n",
    "# Charts showing relationship of this variable to Default is in the Appendix.\n",
    "#--------------------------------------------------------------------------------------------------------\n",
    "# First set up new variables.  These will act as counters for each month's payment if the payment was more than one month late.\n",
    "df['Del2Plus_0']=0 # Variable naming convention is \"Delinquent 1 month in Month 0\"\n",
    "df['Del2Plus_2']=0 # Month 2\n",
    "df['Del2Plus_3']=0 # etc ...\n",
    "df['Del2Plus_4']=0\n",
    "df['Del2Plus_5']=0\n",
    "df['Del2Plus_6']=0\n",
    "\n",
    "# set the values to 1 if payment was more month late.\n",
    "df.loc[df['PAY_0'] >=2, 'Del2Plus_0'] = 1\n",
    "df.loc[df['PAY_2'] >=2, 'Del2Plus_2'] = 1\n",
    "df.loc[df['PAY_3'] >=2, 'Del2Plus_3'] = 1\n",
    "df.loc[df['PAY_4'] >=2, 'Del2Plus_4'] = 1\n",
    "df.loc[df['PAY_5'] >=2, 'Del2Plus_5'] = 1\n",
    "df.loc[df['PAY_6'] >=2, 'Del2Plus_6'] = 1\n",
    "\n",
    "# Add up the times payments were more than one month late.\n",
    "df['Times2Plus']=df.Del2Plus_0+df.Del2Plus_2+df.Del2Plus_3+df.Del2Plus_4+df.Del2Plus_5+df.Del2Plus_6\n",
    "#-----------------------------------------------------------------------------------------------------\n",
    "\n",
    "# Creating an Attribute for % of billed Amounts Paid.  Cards not used have a rate of 1000\n",
    "# Charts showing relationship of this variable to Default is in the Appendix.\n",
    "df['TotalBilled'] = df.BILL_AMT1+df.BILL_AMT2+df.BILL_AMT3+df.BILL_AMT4+df.BILL_AMT5+df.BILL_AMT5\n",
    "df['TotalPaid'] = df.PAY_AMT1+df.PAY_AMT2+df.PAY_AMT3+df.PAY_AMT4+df.PAY_AMT5+df.BILL_AMT5\n",
    "\n",
    "df['PayRateCalc']  =  df['TotalPaid']/df['TotalBilled']\n",
    "df['PayRateLimit'] = 0\n",
    "df['PayRate'] = df['PayRateCalc'].where(df['PayRateCalc'] < 1.25, 1.25)\n",
    "df['PayRate'] = df['PayRate'].where(df['TotalBilled'] > 0, 1000) # Approximately isolates Cards not used.\n",
    "df['PayRate'] = df['PayRate'].where(df['PayRate'] > 0, 0)\n",
    "\n",
    "df['PayrateGroup'] = df['PayRate']*100//5*5\n",
    "\n",
    "# One-hot encoding of \"EDUCATION\", \"MARRIAGE\" and \"PAY RATE\".\n",
    "tmp_df_1 = pd.get_dummies(df.EDUCATION,prefix='EDUCATION')\n",
    "tmp_df_2 = pd.get_dummies(df.MARRIAGE,prefix='MARRIAGE')\n",
    "tmp_df_3 = pd.get_dummies(df.PayrateGroup,prefix='PayRate')\n",
    "tmp_df_4 = pd.get_dummies(df.Times2Plus,prefix='Times2Plus')\n",
    "df = pd.concat((df,tmp_df_1,tmp_df_2,tmp_df_3,tmp_df_4),axis=1)\n",
    "df2 =  pd.concat((df.default,tmp_df_1,tmp_df_2,tmp_df_3,tmp_df_4),axis=1)"
   ]
  },
  {
   "cell_type": "markdown",
   "metadata": {},
   "source": [
    "# Setting up CV and Scaling\n",
    "\n",
    "##  What's the difference between this and Stratified KFold?"
   ]
  },
  {
   "cell_type": "code",
   "execution_count": 5,
   "metadata": {
    "collapsed": false
   },
   "outputs": [
    {
     "name": "stdout",
     "output_type": "stream",
     "text": [
      "ShuffleSplit(n_splits=5, random_state=0, test_size=0.2, train_size=None)\n"
     ]
    }
   ],
   "source": [
    "from sklearn.model_selection import ShuffleSplit\n",
    "\n",
    "# we want to predict the X and y data as follows:\n",
    "if 'default' in df2:\n",
    "    y = df2['default'].values # get the labels we want\n",
    "    del df2['default'] # get rid of the class label\n",
    "    X = df2.values # use everything else to predict!\n",
    "\n",
    "    ## X and y are now numpy matrices, by calling 'values' on the pandas data frames we\n",
    "    #    have converted them into simple matrices to use with scikit learn\n",
    "    \n",
    "    \n",
    "# CV and Test/Training Splits\n",
    "num_cv_iterations = 5\n",
    "cv_object = ShuffleSplit(n_splits=num_cv_iterations, random_state=0,\n",
    "                         test_size  = 0.2)\n",
    "                         \n",
    "print(cv_object)"
   ]
  },
  {
   "cell_type": "code",
   "execution_count": 6,
   "metadata": {
    "collapsed": false
   },
   "outputs": [
    {
     "name": "stderr",
     "output_type": "stream",
     "text": [
      "C:\\Users\\X\\Anaconda3\\lib\\site-packages\\sklearn\\utils\\validation.py:429: DataConversionWarning: Data with input dtype uint8 was converted to float64 by StandardScaler.\n",
      "  warnings.warn(msg, _DataConversionWarning)\n"
     ]
    }
   ],
   "source": [
    "from sklearn.preprocessing import StandardScaler\n",
    "\n",
    "scl_obj = StandardScaler()\n",
    "\n",
    "for train_indices, test_indices in cv_object.split(X,y): \n",
    "    \n",
    "    X_train = X[train_indices]\n",
    "    y_train = y[train_indices]\n",
    "    \n",
    "    X_test = X[test_indices]\n",
    "    y_test = y[test_indices]\n",
    "    \n",
    "scl_obj.fit(X_train)\n",
    "\n",
    "X_train_scaled = scl_obj.transform(X_train)\n",
    "X_test_scaled = scl_obj.transform(X_test)"
   ]
  },
  {
   "cell_type": "markdown",
   "metadata": {},
   "source": [
    "#### Visualizations"
   ]
  },
  {
   "cell_type": "code",
   "execution_count": 18,
   "metadata": {
    "collapsed": true
   },
   "outputs": [],
   "source": [
    "def per_class_accuracy(ytrue,yhat):\n",
    "    conf = mt.confusion_matrix(ytrue,yhat)\n",
    "    norm_conf = conf.astype('float') / conf.sum(axis=1)[:, np.newaxis]\n",
    "    return np.diag(norm_conf)\n",
    "\n",
    "def plot_class_acc(ytrue,yhat, title=''):\n",
    "    acc_list = per_class_accuracy(ytrue,yhat)\n",
    "    plt.bar(range(len(acc_list)), acc_list)\n",
    "    plt.xlabel('Not Default and Default')\n",
    "    plt.ylabel('Accuracy within class')\n",
    "    plt.title(title+\", Total Acc=%.1f\"%(100*mt.accuracy_score(ytrue,yhat)))\n",
    "    plt.grid()\n",
    "    plt.show()"
   ]
  },
  {
   "cell_type": "markdown",
   "metadata": {},
   "source": [
    "# Predicting Default Rate"
   ]
  },
  {
   "cell_type": "code",
   "execution_count": 31,
   "metadata": {
    "collapsed": false
   },
   "outputs": [
    {
     "name": "stdout",
     "output_type": "stream",
     "text": [
      "KNN accuracy 0.7226666666666667\n",
      "Confusion matrix:\n",
      "[[3857  785]\n",
      " [ 879  479]]\n",
      "f1_score: 0.36536994660564465\n",
      "Precision: 0.37895569620253167\n",
      "Recall: 0.35272459499263625\n"
     ]
    },
    {
     "data": {
      "image/png": "[encoded data removed]",
      "text/plain": [
       "<Figure size 432x288 with 1 Axes>"
      ]
     },
     "metadata": {},
     "output_type": "display_data"
    },
    {
     "name": "stdout",
     "output_type": "stream",
     "text": [
      "Wall time: 20.2 s\n"
     ]
    }
   ],
   "source": [
    "%%time\n",
    "\n",
    "# )1 KNN \n",
    "\n",
    "from sklearn.neighbors import KNeighborsClassifier\n",
    "from sklearn import metrics as mt\n",
    "\n",
    "# The Classifier\n",
    "clf = KNeighborsClassifier(n_neighbors=3)\n",
    "\n",
    "for train, test in cv_object.split(X,y):\n",
    "    clf.fit(X[train],y[train])\n",
    "    yhat = clf.predict(X[test])\n",
    "\n",
    "total_accuracy = mt.accuracy_score(y_test, yhat)\n",
    "print ('KNN accuracy', total_accuracy)\n",
    "conf = mt.confusion_matrix(y_test,yhat)\n",
    "print('Confusion matrix:')\n",
    "print(conf)\n",
    "print('f1_score:', mt.f1_score(y_test, yhat))\n",
    "print('Precision:', mt.precision_score(y_test, yhat))\n",
    "print('Recall:', mt.recall_score(y_test, yhat))  \n",
    "plot_class_acc(y_test,yhat,title=\"KNN\")"
   ]
  },
  {
   "cell_type": "code",
   "execution_count": 33,
   "metadata": {
    "collapsed": false
   },
   "outputs": [
    {
     "name": "stdout",
     "output_type": "stream",
     "text": [
      "-----Number of Neighbors:  1\n",
      "KNN accuracy 0.7226666666666667\n",
      "f1_score: 0.36536994660564465\n",
      "Precision: 0.37895569620253167\n",
      "Recall: 0.35272459499263625\n",
      "-----Number of Neighbors:  3\n",
      "KNN accuracy 0.7563333333333333\n",
      "f1_score: 0.3687392055267703\n",
      "Precision: 0.44572025052192066\n",
      "Recall: 0.31443298969072164\n",
      "-----Number of Neighbors:  5\n",
      "KNN accuracy 0.788\n",
      "f1_score: 0.39715639810426545\n",
      "Precision: 0.5571808510638298\n",
      "Recall: 0.3085419734904271\n",
      "-----Number of Neighbors:  7\n",
      "KNN accuracy 0.7911666666666667\n",
      "f1_score: 0.3984637542006721\n",
      "Precision: 0.5724137931034483\n",
      "Recall: 0.30559646539027985\n",
      "-----Number of Neighbors:  9\n",
      "KNN accuracy 0.8003333333333333\n",
      "f1_score: 0.39311043566362713\n",
      "Precision: 0.6298701298701299\n",
      "Recall: 0.2857142857142857\n",
      "-----Number of Neighbors:  11\n",
      "KNN accuracy 0.8001666666666667\n",
      "f1_score: 0.4043715846994535\n",
      "Precision: 0.6213740458015267\n",
      "Recall: 0.29970544918998526\n"
     ]
    }
   ],
   "source": [
    "Neighbors = [1,3,5,7,9,11]\n",
    "\n",
    "for n in Neighbors:\n",
    "    clf = KNeighborsClassifier(n_neighbors=n)\n",
    "\n",
    "    for train, test in cv_object.split(X,y):\n",
    "        clf.fit(X[train],y[train])\n",
    "        yhat = clf.predict(X[test])\n",
    "        \n",
    "    print('-----Number of Neighbors: ', n)\n",
    "    print ('KNN accuracy', mt.accuracy_score(y_test, yhat))\n",
    "    print('f1_score:', mt.f1_score(y_test, yhat))\n",
    "    print('Precision:', mt.precision_score(y_test, yhat))\n",
    "    print('Recall:', mt.recall_score(y_test, yhat))  \n",
    "        \n",
    "        \n",
    "\n"
   ]
  },
  {
   "cell_type": "markdown",
   "metadata": {},
   "source": [
    "# Appendix"
   ]
  },
  {
   "cell_type": "code",
   "execution_count": 25,
   "metadata": {
    "collapsed": false
   },
   "outputs": [
    {
     "data": {
      "image/png": "[encoded data removed]",
      "text/plain": [
       "<Figure size 432x288 with 1 Axes>"
      ]
     },
     "metadata": {},
     "output_type": "display_data"
    },
    {
     "data": {
      "image/png": "[encoded data removed]",
      "text/plain": [
       "<Figure size 432x288 with 1 Axes>"
      ]
     },
     "metadata": {},
     "output_type": "display_data"
    }
   ],
   "source": [
    "#  Default Rates increase with the number of times clients are 2 or more months late on their payments.\n",
    "%matplotlib inline\n",
    "\n",
    "Counts = pd.crosstab(df['Times2Plus'],df.default.astype(bool))\n",
    "Counts.plot(kind='bar', stacked=True)#, ax=axes[fi,0])\n",
    "    \n",
    "Rate = Counts.div(Counts.sum(1).astype(float),axis=0)\n",
    "Rate.plot(kind='barh', stacked=True)#, ax=axes[fi,1])\n",
    "    \n",
    "plt.show()"
   ]
  },
  {
   "cell_type": "code",
   "execution_count": 26,
   "metadata": {
    "collapsed": false
   },
   "outputs": [
    {
     "data": {
      "image/png": "[encoded data removed]",
      "text/plain": [
       "<Figure size 432x288 with 1 Axes>"
      ]
     },
     "metadata": {},
     "output_type": "display_data"
    },
    {
     "data": {
      "image/png": "[encoded data removed]",
      "text/plain": [
       "<Figure size 432x288 with 1 Axes>"
      ]
     },
     "metadata": {},
     "output_type": "display_data"
    }
   ],
   "source": [
    "# Default Rates Increase with low payments as % of billed amounts.\n",
    "\n",
    "Counts = pd.crosstab(df['PayrateGroup'],df.default.astype(bool))\n",
    "Counts.plot(kind='bar', stacked=True)#, ax=axes[0,0])\n",
    "    \n",
    "Rate = Counts.div(Counts.sum(1).astype(float),axis=0)\n",
    "Rate.plot(kind='barh', stacked=True)#, ax=axes[0,1])\n",
    "    \n",
    "plt.show()\n"
   ]
  },
  {
   "cell_type": "raw",
   "metadata": {},
   "source": []
  },
  {
   "cell_type": "markdown",
   "metadata": {},
   "source": [
    "# GARBAGE"
   ]
  },
  {
   "cell_type": "code",
   "execution_count": null,
   "metadata": {
    "collapsed": true
   },
   "outputs": [],
   "source": [
    "# Creating an Attribute for whether or not card was ever used.\n",
    "# Charts showing relationship of this variable to Default is in the Appendix.\n",
    "# Not used if Maximum Billed amount <=0.\n",
    "df['MaxBilledAmount']=df[['BILL_AMT1','BILL_AMT2','BILL_AMT3','BILL_AMT4','BILL_AMT5','BILL_AMT6']].max(axis=1)\n",
    "df['Usage'] = 1\n",
    "df['Usage'] = df['Usage'].where(df['MaxBilledAmount'] > 0, 0)\n",
    "\n",
    "#  Default Rates increase if clients don't use their cards.\n",
    "%matplotlib inline\n",
    "\n",
    "Counts = pd.crosstab(df['Usage'],df.default.astype(bool))\n",
    "Counts.plot(kind='bar', stacked=True)#, ax=axes[fi,0])\n",
    "    \n",
    "Rate = Counts.div(Counts.sum(1).astype(float),axis=0)\n",
    "Rate.plot(kind='barh', stacked=True)#, ax=axes[fi,1])\n",
    "    \n",
    "plt.show()"
   ]
  }
 ],
 "metadata": {
  "kernelspec": {
   "display_name": "Python 3",
   "language": "python",
   "name": "python3"
  },
  "language_info": {
   "codemirror_mode": {
    "name": "ipython",
    "version": 3
   },
   "file_extension": ".py",
   "mimetype": "text/x-python",
   "name": "python",
   "nbconvert_exporter": "python",
   "pygments_lexer": "ipython3",
   "version": "3.6.6"
  }
 },
 "nbformat": 4,
 "nbformat_minor": 2
}
