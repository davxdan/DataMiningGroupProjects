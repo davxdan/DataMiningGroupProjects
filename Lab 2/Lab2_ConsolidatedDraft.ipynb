{
 "cells": [
  {
   "cell_type": "markdown",
   "metadata": {},
   "source": [
    "# Second Project Work Week Assignment\n",
    "### Authors: Dan Davieau, Paul Panek, Olga Tanyuk, Nathan Wall"
   ]
  },
  {
   "cell_type": "markdown",
   "metadata": {},
   "source": [
    "### Initial Data Prep\n",
    "\n",
    "For the purpose of this assignment we view the data prep as conditional to the specific classification task. However, there are several minor data cleaning tasks that are applicable to either task and are performed in the code below"
   ]
  },
  {
   "cell_type": "code",
   "execution_count": 1,
   "metadata": {},
   "outputs": [
    {
     "name": "stdout",
     "output_type": "stream",
     "text": [
      "<class 'pandas.core.frame.DataFrame'>\n",
      "Int64Index: 30000 entries, 1 to 30000\n",
      "Data columns (total 38 columns):\n",
      "LIMIT_BAL        30000 non-null float64\n",
      "SEX              30000 non-null int64\n",
      "EDUCATION        30000 non-null int64\n",
      "MARRIAGE         30000 non-null int64\n",
      "AGE              30000 non-null int64\n",
      "PAY_0            30000 non-null int64\n",
      "PAY_2            30000 non-null int64\n",
      "PAY_3            30000 non-null int64\n",
      "PAY_4            30000 non-null int64\n",
      "PAY_5            30000 non-null int64\n",
      "PAY_6            30000 non-null int64\n",
      "BILL_AMT1        30000 non-null float64\n",
      "BILL_AMT2        30000 non-null float64\n",
      "BILL_AMT3        30000 non-null float64\n",
      "BILL_AMT4        30000 non-null float64\n",
      "BILL_AMT5        30000 non-null float64\n",
      "BILL_AMT6        30000 non-null float64\n",
      "PAY_AMT1         30000 non-null float64\n",
      "PAY_AMT2         30000 non-null float64\n",
      "PAY_AMT3         30000 non-null float64\n",
      "PAY_AMT4         30000 non-null float64\n",
      "PAY_AMT5         30000 non-null float64\n",
      "PAY_AMT6         30000 non-null float64\n",
      "default          30000 non-null int64\n",
      "log_LIMIT_BAL    30000 non-null float64\n",
      "log_PAY_AMT1     30000 non-null float64\n",
      "log_PAY_AMT2     30000 non-null float64\n",
      "log_PAY_AMT3     30000 non-null float64\n",
      "log_PAY_AMT4     30000 non-null float64\n",
      "log_PAY_AMT5     30000 non-null float64\n",
      "log_PAY_AMT6     30000 non-null float64\n",
      "log_BILL_AMT1    30000 non-null float64\n",
      "log_BILL_AMT2    30000 non-null float64\n",
      "log_BILL_AMT3    30000 non-null float64\n",
      "log_BILL_AMT4    30000 non-null float64\n",
      "log_BILL_AMT5    30000 non-null float64\n",
      "log_BILL_AMT6    30000 non-null float64\n",
      "COLLEGE          30000 non-null int32\n",
      "dtypes: float64(26), int32(1), int64(11)\n",
      "memory usage: 8.8 MB\n"
     ]
    }
   ],
   "source": [
    "import pandas as pd\n",
    "import numpy as np\n",
    "\n",
    "df = pd.read_csv('DefaultCreditcardClients.csv')\n",
    "df.rename(columns={'default payment next month':'default'}, inplace=True)\n",
    "\n",
    "#set index to the \"ID\" value and remove the ID column\n",
    "df.index = df.ID\n",
    "del df['ID']\n",
    "\n",
    "#Create Lists for Analysis\n",
    "continuous_features = ['LIMIT_BAL', 'BILL_AMT1', 'BILL_AMT2','BILL_AMT3',\n",
    "                       'BILL_AMT4', 'BILL_AMT5', 'BILL_AMT6', 'PAY_AMT1',\n",
    "                       'PAY_AMT2', 'PAY_AMT3', 'PAY_AMT4', 'PAY_AMT5',\n",
    "                       'PAY_AMT6']\n",
    "ordinal_features = ['EDUCATION', 'MARRIAGE', 'AGE', 'PAY_0','PAY_2', 'PAY_3',\n",
    "                    'PAY_4', 'PAY_5', 'PAY_6','default']\n",
    "\n",
    "#Convert datatypes\n",
    "df[continuous_features] = df[continuous_features].astype(np.float64)\n",
    "df[ordinal_features] = df[ordinal_features].astype(np.int64)\n",
    "\n",
    "#convert any non-identified education categories to 'OTHER'\n",
    "df['EDUCATION'] = df['EDUCATION'].replace(to_replace=(0,5,6),value=4)\n",
    "\n",
    "#convert any non-identified marriage categories to 'OTHER'\n",
    "df['MARRIAGE'] = df['MARRIAGE'].replace(to_replace=(0),value=3)\n",
    "\n",
    "#Log transform continuous variables; as they each have a mostly \n",
    "##exponential distribution\n",
    "df[\"log_LIMIT_BAL\"]=np.log(df.LIMIT_BAL)\n",
    "df[\"log_PAY_AMT1\"]=np.log(df.PAY_AMT1+1)\n",
    "df[\"log_PAY_AMT2\"]=np.log(df.PAY_AMT2+1)\n",
    "df[\"log_PAY_AMT3\"]=np.log(df.PAY_AMT3+1)\n",
    "df[\"log_PAY_AMT4\"]=np.log(df.PAY_AMT4+1)\n",
    "df[\"log_PAY_AMT5\"]=np.log(df.PAY_AMT5+1)\n",
    "df[\"log_PAY_AMT6\"]=np.log(df.PAY_AMT6+1)\n",
    "df[\"log_BILL_AMT1\"]=np.log(df.BILL_AMT1.abs()+1)\n",
    "df[\"log_BILL_AMT2\"]=np.log(df.BILL_AMT2.abs()+1)\n",
    "df[\"log_BILL_AMT3\"]=np.log(df.BILL_AMT3.abs()+1)\n",
    "df[\"log_BILL_AMT4\"]=np.log(df.BILL_AMT4.abs()+1)\n",
    "df[\"log_BILL_AMT5\"]=np.log(df.BILL_AMT5.abs()+1)\n",
    "df[\"log_BILL_AMT6\"]=np.log(df.BILL_AMT6.abs()+1)\n",
    "\n",
    "df['COLLEGE'] = np.where(df['EDUCATION']==2, 1, 0)\n",
    "\n",
    "df.info()"
   ]
  },
  {
   "cell_type": "markdown",
   "metadata": {},
   "source": [
    "# Predicting Customer \"Default\"\n",
    "The first portion of the report we will explore various models to try and classify customer's likelihood of default.\n",
    "\n",
    "### Modeling & Evaluation Considerations\n",
    "\n",
    "Part 1)\n",
    "For this particular classification model we will assessing our models based on their F1 scores.\n",
    "\n",
    "A client may use this model to determine which customer-facing strategies to deploy for a given customer. If a customer is expected to default, there should be a more intesive collection strategy, and management of credit lines should be more conservative. While such strategies are designed to limit losses from defaults, they may also lead to sub-optimal customer experiences for those who do not default. Customers who are treated as likely to default are expected to attrit if they do not default.\n",
    "\n",
    "Precision is therefore important. Low precision would lead to higher customer attrition. Recall is also important. Low Recall represents missed opportunity to apply loss-mitigation strategies to customer who need them, and will result in high default costs.\n",
    "\n",
    "Since balancing these two factors is important, we will choose F1 as the evaluation metric for this suite of models.\n",
    "\n",
    "Part 2)\n",
    "In order to effectively evaluate our model performance we will splitting our data into training & test sets using an initial 80/20 split. Additionally, due to the class imbalance between default customers and non-default customers we will be oversampling default customers in our training data. If left unbalanced our model will bias towards assuming most customers will not default. This is a costly bias as described above. In order to overcome that limitation we will provide the classifiers more examples of default by sampling from replacement from our positive cases. This will likely lower our overall accuracy but will improve our "
   ]
  },
  {
   "cell_type": "markdown",
   "metadata": {},
   "source": [
    "### Data Preperation - Default Classification Specific\n",
    "Below we perform several steps that explain some of the data preparation tasks that are specific to the goal of classifying customers default on credit card payments.\n",
    "\n",
    "First we remove the variables that we identified as not important from Lab1 & Mini-Lab1. We also one hot encode our categorical features for use in our models. Below you will find the fields that are considered in our model.\n",
    "\n",
    "Field Definitions:\n",
    "- The items in the final data set are shown below.\n",
    "- Monetary amounts are in New Taiwanese dollars\n",
    "- SEX\n",
    "    * 1 = Male\n",
    "    * 2 = Female\n",
    "- AGE = Credit Card holder age in years\n",
    "- default: Whether or not the customer defaulted (Target for predicting default)\n",
    "- Payment history (2005)\n",
    "- PAY_0 = September\n",
    "- PAY_2 = August\n",
    "- PAY_3 = July\n",
    "- PAY_4 = June\n",
    "- PAY_5 = May\n",
    "- PAY_6 = April\n",
    "-1 = payment received on time\n",
    "    - 1 = payment received one month late\n",
    "    - 2 = payment received two months late\n",
    "    - 9 = payment received nine months late or more\n",
    "- log_LIMIT_BAL: Natural log of the Credit Limit (max amount of credit allowed)\n",
    "- log_PAY_AMT: Natural log of the amount paid by month + $1\n",
    "- log_PAY_AMT1 = September\n",
    "- log_PAY_AMT2 = August\n",
    "- log_PAY_AMT3 = July\n",
    "- log_PAY_AMT4 = June\n",
    "- log_PAY_AMT5 = May\n",
    "- log_PAY_AMT6 = April\n",
    "- EDUCATION (One-Hot Encoded when Predicting Default. Used in the form below when used as target.)\n",
    "- EDUCATION_1 = Graduate School\n",
    "- EDUCATION_2 = University\n",
    "- EDUCATION_3 = High School\n",
    "- EDUCATION_4 = Other\n",
    "- EDUCATION (This variable appears only as the target only when predicting Education. Not one-hot encoded.)\n",
    "- 1 = Graduate School\n",
    "- 2 = University\n",
    "- 3 = High School\n",
    "- 4 = Other\n",
    "- MARRIAGE (One-Hot Encoded)\n",
    "- MARRIAGE_1 = Married\n",
    "- MARRIAGE_2 = Single\n",
    "- MARRIAGE_3 = Other"
   ]
  },
  {
   "cell_type": "code",
   "execution_count": 2,
   "metadata": {},
   "outputs": [
    {
     "name": "stdout",
     "output_type": "stream",
     "text": [
      "<class 'pandas.core.frame.DataFrame'>\n",
      "Int64Index: 30000 entries, 1 to 30000\n",
      "Data columns (total 23 columns):\n",
      "SEX              30000 non-null int64\n",
      "AGE              30000 non-null int64\n",
      "default          30000 non-null int64\n",
      "PAY_0            30000 non-null int64\n",
      "PAY_2            30000 non-null int64\n",
      "PAY_3            30000 non-null int64\n",
      "PAY_4            30000 non-null int64\n",
      "PAY_5            30000 non-null int64\n",
      "PAY_6            30000 non-null int64\n",
      "log_LIMIT_BAL    30000 non-null float64\n",
      "log_PAY_AMT1     30000 non-null float64\n",
      "log_PAY_AMT2     30000 non-null float64\n",
      "log_PAY_AMT3     30000 non-null float64\n",
      "log_PAY_AMT4     30000 non-null float64\n",
      "log_PAY_AMT5     30000 non-null float64\n",
      "log_PAY_AMT6     30000 non-null float64\n",
      "EDUCATION_1      30000 non-null uint8\n",
      "EDUCATION_2      30000 non-null uint8\n",
      "EDUCATION_3      30000 non-null uint8\n",
      "EDUCATION_4      30000 non-null uint8\n",
      "MARRIAGE_1       30000 non-null uint8\n",
      "MARRIAGE_2       30000 non-null uint8\n",
      "MARRIAGE_3       30000 non-null uint8\n",
      "dtypes: float64(7), int64(9), uint8(7)\n",
      "memory usage: 4.1 MB\n"
     ]
    }
   ],
   "source": [
    "#Create a separate dataset with only useful variables as identified in Lab1 and Mini-lab1.\n",
    "default = df[['SEX','EDUCATION','MARRIAGE','AGE', 'default'\n",
    "            ,'PAY_0','PAY_2', 'PAY_3', 'PAY_4', 'PAY_5','PAY_6', \"log_LIMIT_BAL\"\n",
    "            ,\"log_PAY_AMT1\",\"log_PAY_AMT2\",\"log_PAY_AMT3\",\"log_PAY_AMT4\",\"log_PAY_AMT5\"\n",
    "            ,\"log_PAY_AMT6\"]]\n",
    "\n",
    "# One-hot encoding of \"EDUCATION\" and \"MARRIAGE\".\n",
    "tmp_df_1 = pd.get_dummies(default.EDUCATION,prefix='EDUCATION')\n",
    "tmp_df_2 = pd.get_dummies(default.MARRIAGE,prefix='MARRIAGE')\n",
    "default = pd.concat((default,tmp_df_1,tmp_df_2),axis=1)\n",
    "#Drop variables for which we used one-hot encoding\n",
    "del default['EDUCATION']\n",
    "del default['MARRIAGE']\n",
    "default.info()"
   ]
  },
  {
   "cell_type": "markdown",
   "metadata": {},
   "source": [
    "Once the dataset is cleaned and the variables are prepared, we begin the process of building our training and test datasets for use in building our models. Below is we split our data into test and traing sets and fit our scaler using the training data before we oversample."
   ]
  },
  {
   "cell_type": "code",
   "execution_count": 3,
   "metadata": {},
   "outputs": [
    {
     "name": "stdout",
     "output_type": "stream",
     "text": [
      "Dimensions of training data  (23938, 23)\n",
      "Dimensions of test are  (6062, 23)\n",
      "<class 'pandas.core.frame.DataFrame'>\n",
      "Int64Index: 23938 entries, 2 to 30000\n",
      "Data columns (total 23 columns):\n",
      "SEX              23938 non-null int64\n",
      "AGE              23938 non-null int64\n",
      "default          23938 non-null int64\n",
      "PAY_0            23938 non-null int64\n",
      "PAY_2            23938 non-null int64\n",
      "PAY_3            23938 non-null int64\n",
      "PAY_4            23938 non-null int64\n",
      "PAY_5            23938 non-null int64\n",
      "PAY_6            23938 non-null int64\n",
      "log_LIMIT_BAL    23938 non-null float64\n",
      "log_PAY_AMT1     23938 non-null float64\n",
      "log_PAY_AMT2     23938 non-null float64\n",
      "log_PAY_AMT3     23938 non-null float64\n",
      "log_PAY_AMT4     23938 non-null float64\n",
      "log_PAY_AMT5     23938 non-null float64\n",
      "log_PAY_AMT6     23938 non-null float64\n",
      "EDUCATION_1      23938 non-null uint8\n",
      "EDUCATION_2      23938 non-null uint8\n",
      "EDUCATION_3      23938 non-null uint8\n",
      "EDUCATION_4      23938 non-null uint8\n",
      "MARRIAGE_1       23938 non-null uint8\n",
      "MARRIAGE_2       23938 non-null uint8\n",
      "MARRIAGE_3       23938 non-null uint8\n",
      "dtypes: float64(7), int64(9), uint8(7)\n",
      "memory usage: 3.3 MB\n"
     ]
    }
   ],
   "source": [
    "from sklearn.preprocessing import StandardScaler\n",
    "\n",
    "split = np.random.rand(len(default)) < 0.8\n",
    "\n",
    "default_train = default[split]\n",
    "default_test = default[~split]\n",
    "\n",
    "# fit training for scaling after upsampling\n",
    "X_train = default_train.drop(columns=['default']).values     \n",
    "scl_obj = StandardScaler()\n",
    "scl_obj.fit(X_train)\n",
    "\n",
    "print(\"Dimensions of training data \" , default_train.shape)\n",
    "print(\"Dimensions of test are \" , default_test.shape)\n",
    "\n",
    "default_train.info()"
   ]
  },
  {
   "cell_type": "markdown",
   "metadata": {},
   "source": [
    "Once we have the data split and have performed the neccesary operations on the training data we can then begin building our oversampled training data then apply our scaler to the training and test data sets to begin exploring differnt estimators."
   ]
  },
  {
   "cell_type": "code",
   "execution_count": 4,
   "metadata": {},
   "outputs": [
    {
     "name": "stdout",
     "output_type": "stream",
     "text": [
      "Dimensions of final training features are  (37276, 22)\n"
     ]
    },
    {
     "data": {
      "image/png": "[encoded data removed]",
      "text/plain": [
       "<Figure size 432x288 with 1 Axes>"
      ]
     },
     "metadata": {},
     "output_type": "display_data"
    }
   ],
   "source": [
    "target_count = default.default.value_counts()\n",
    "# Class count\n",
    "default_class_0, default_class_1 = default_train.default.value_counts()\n",
    "\n",
    "# Divide by class\n",
    "default_class_0 = default_train[default_train['default'] == 0]\n",
    "default_class_1 = default_train[default_train['default'] == 1]\n",
    "\n",
    "default_class_1_over = default_class_1.sample(frac=target_count[0]/target_count[1], replace=True)\n",
    "default_OverSampled = pd.concat([default_class_0, default_class_1_over], axis=0)\n",
    "\n",
    "#Isolate the \"default\" variable into y and keep everythign else in X to use for predictions:\n",
    "if 'default' in default_OverSampled:\n",
    "    y_train = default_OverSampled['default'].values\n",
    "    del default_OverSampled['default'] \n",
    "    X_train = default_OverSampled.values\n",
    "    \n",
    "if 'default' in default_test:\n",
    "    y_test = default_test['default'].values\n",
    "    del default_test['default'] \n",
    "    X_test = default_test.values\n",
    "\n",
    "# use the previously fit scalines to transform the data after the over sampling\n",
    "X_train_scaled = scl_obj.transform(X_train) # apply to training\n",
    "X_test_scaled = scl_obj.transform(X_test) # apply those means and std to the test set (without snooping at the test set values)\n",
    "\n",
    "\n",
    "print(\"Dimensions of final training features are \" , X_train_scaled.shape)\n",
    "from matplotlib import pyplot as plt\n",
    "import numpy as np\n",
    "%matplotlib inline\n",
    "plt.hist(y_train )\n",
    "plt.xlabel('Value')\n",
    "plt.ylabel('Observations')\n",
    "plt.title('Class Frequency after OverSampling')\n",
    "plt.show()"
   ]
  },
  {
   "cell_type": "markdown",
   "metadata": {},
   "source": [
    "From above we can see that we now have 37k observations in our training set and the labels are balanced. We can now proceed with our reviewing various estimators and how they perform when classifying customer defaults."
   ]
  },
  {
   "cell_type": "markdown",
   "metadata": {},
   "source": [
    "### Comparing Different Classifier Models (Part 3)\n",
    "\n",
    "For this particular problem we will compare three different models:\n",
    "\n",
    "1. Support Vector Machine\n",
    "2. K Nearest Neighbor \n",
    "3. Random Forest\n",
    "\n",
    "To ensure we are chosing the right parameters of each model we will be using sklearns GridSearchCV with a 3 fold cross validation to identify the best estimators based on the F1 scores. This provides us a dynamic means of testing out many different model parameters.\n",
    "\n",
    "We first train each model and look at some metrics for preliminary evaluation, then evaluate each model more thoroughly once all the models have been developed.\n",
    "\n",
    "### Support Vector Machines"
   ]
  },
  {
   "cell_type": "code",
   "execution_count": 5,
   "metadata": {},
   "outputs": [
    {
     "name": "stdout",
     "output_type": "stream",
     "text": [
      "Fitting 3 folds for each of 9 candidates, totalling 27 fits\n"
     ]
    },
    {
     "name": "stderr",
     "output_type": "stream",
     "text": [
      "[Parallel(n_jobs=8)]: Done  27 out of  27 | elapsed:  9.6min finished\n"
     ]
    },
    {
     "name": "stdout",
     "output_type": "stream",
     "text": [
      "The best estimator based on F1 is  SVC(C=1, cache_size=200, class_weight=None, coef0=0.0,\n",
      "  decision_function_shape='ovr', degree=3, gamma='auto', kernel='rbf',\n",
      "  max_iter=-1, probability=False, random_state=None, shrinking=True,\n",
      "  tol=0.001, verbose=False)\n"
     ]
    }
   ],
   "source": [
    "from sklearn.svm import SVC\n",
    "\n",
    "svcEstimator = SVC()\n",
    "cv = 3\n",
    "\n",
    "#compare various values of C, kernels (rbf vs linear vs poly),decision_function_shape (ovo vs ovr) \n",
    "parameters = { 'C': [0.01, 0.1, 1]\n",
    "              ,'kernel': ['rbf','linear','poly']\n",
    "             }\n",
    "\n",
    "#Create a grid search object using the  \n",
    "from sklearn.model_selection import GridSearchCV\n",
    "svcGridSearch = GridSearchCV(estimator=svcEstimator\n",
    "                    , n_jobs=8 # jobs to run in parallel\n",
    "                    , verbose=1 # low verbosity\n",
    "                    , param_grid=parameters\n",
    "                    , cv=cv # KFolds = 2\n",
    "                    , scoring='f1')\n",
    "\n",
    "#Perform hyperparameter search to find the best combination of parameters for our data\n",
    "svcGridSearch.fit(X_train_scaled, y_train)\n",
    "#Display the best estimator parameters\n",
    "print(\"The best estimator based on F1 is \", svcGridSearch.best_estimator_)\n",
    "svm_clf = svcGridSearch.best_estimator_ "
   ]
  },
  {
   "cell_type": "code",
   "execution_count": 17,
   "metadata": {},
   "outputs": [
    {
     "name": "stdout",
     "output_type": "stream",
     "text": [
      "SVC(C=1, cache_size=200, class_weight=None, coef0=0.0,\n",
      "  decision_function_shape='ovr', degree=3, gamma='auto', kernel='rbf',\n",
      "  max_iter=-1, probability=False, random_state=None, shrinking=True,\n",
      "  tol=0.001, verbose=False)\n",
      "Accuracy 0.7692180798416364\n",
      "Confusion matrix:\n",
      "[[3883  834]\n",
      " [ 565  780]]\n",
      "f1_score: 0.5272051368705643\n",
      "Precision: 0.483271375464684\n",
      "Recall: 0.5799256505576208\n"
     ]
    }
   ],
   "source": [
    "from sklearn import metrics as mt\n",
    "from sklearn.metrics import accuracy_score, f1_score, precision_score, recall_score, classification_report, confusion_matrix\n",
    "\n",
    "print(svm_clf)\n",
    "\n",
    "clf = svm_clf\n",
    "\n",
    "clf.fit(X_train_scaled,y_train)\n",
    "yhat = clf.predict(X_test_scaled)\n",
    "    \n",
    "total_accuracy = mt.accuracy_score(y_test, yhat)\n",
    "print ('Accuracy', total_accuracy)\n",
    "conf = mt.confusion_matrix(y_test,yhat)\n",
    "print('Confusion matrix:')\n",
    "print(conf)\n",
    "print('f1_score:', f1_score(y_test, yhat))\n",
    "print('Precision:', precision_score(y_test, yhat))\n",
    "print('Recall:', recall_score(y_test, yhat)) "
   ]
  },
  {
   "cell_type": "markdown",
   "metadata": {},
   "source": [
    "### K-Nearest Neighbor"
   ]
  },
  {
   "cell_type": "code",
   "execution_count": 7,
   "metadata": {},
   "outputs": [
    {
     "name": "stdout",
     "output_type": "stream",
     "text": [
      "Fitting 3 folds for each of 4 candidates, totalling 12 fits\n"
     ]
    },
    {
     "name": "stderr",
     "output_type": "stream",
     "text": [
      "[Parallel(n_jobs=8)]: Done  10 out of  12 | elapsed:  3.2min remaining:   38.9s\n",
      "[Parallel(n_jobs=8)]: Done  12 out of  12 | elapsed:  3.4min finished\n"
     ]
    },
    {
     "name": "stdout",
     "output_type": "stream",
     "text": [
      "The best estimator based on F1 is  KNeighborsClassifier(algorithm='auto', leaf_size=30, metric='minkowski',\n",
      "           metric_params=None, n_jobs=1, n_neighbors=3, p=2,\n",
      "           weights='uniform')\n"
     ]
    }
   ],
   "source": [
    "from sklearn.neighbors import KNeighborsClassifier\n",
    "svcEstimator = KNeighborsClassifier()\n",
    "cv = 3\n",
    "\n",
    "#compare various values of C, kernels (rbf vs linear vs poly),decision_function_shape (ovo vs ovr) \n",
    "parameters = {'n_neighbors': [3,5,7,11]}\n",
    "\n",
    "#Create a grid search object using the  \n",
    "from sklearn.model_selection import GridSearchCV\n",
    "svcGridSearch = GridSearchCV(estimator=svcEstimator\n",
    "                    , n_jobs=8 # jobs to run in parallel\n",
    "                    , verbose=1 # low verbosity\n",
    "                    , param_grid=parameters\n",
    "                    , cv=cv # KFolds = 3\n",
    "                    , scoring='accuracy')\n",
    "\n",
    "svcGridSearch.fit(X_train_scaled, y_train)\n",
    "print(\"The best estimator based on F1 is \", svcGridSearch.best_estimator_)\n",
    "knn_clf = svcGridSearch.best_estimator_"
   ]
  },
  {
   "cell_type": "code",
   "execution_count": 8,
   "metadata": {},
   "outputs": [
    {
     "name": "stdout",
     "output_type": "stream",
     "text": [
      "KNeighborsClassifier(algorithm='auto', leaf_size=30, metric='minkowski',\n",
      "           metric_params=None, n_jobs=1, n_neighbors=3, p=2,\n",
      "           weights='uniform')\n",
      "Accuracy 0.686407126360937\n",
      "Confusion matrix:\n",
      "[[3445 1272]\n",
      " [ 629  716]]\n",
      "f1_score: 0.4296429642964297\n",
      "Precision: 0.36016096579476864\n",
      "Recall: 0.5323420074349442\n"
     ]
    }
   ],
   "source": [
    "print(knn_clf)\n",
    "\n",
    "clf = knn_clf\n",
    "\n",
    "clf.fit(X_train_scaled,y_train)\n",
    "yhat = clf.predict(X_test_scaled)\n",
    "    \n",
    "total_accuracy = mt.accuracy_score(y_test, yhat)\n",
    "print ('Accuracy', total_accuracy)\n",
    "conf = mt.confusion_matrix(y_test,yhat)\n",
    "print('Confusion matrix:')\n",
    "print(conf)\n",
    "print('f1_score:', f1_score(y_test, yhat))\n",
    "print('Precision:', precision_score(y_test, yhat))\n",
    "print('Recall:', recall_score(y_test, yhat)) "
   ]
  },
  {
   "cell_type": "markdown",
   "metadata": {},
   "source": [
    "### Random Forest"
   ]
  },
  {
   "cell_type": "code",
   "execution_count": 9,
   "metadata": {},
   "outputs": [
    {
     "name": "stdout",
     "output_type": "stream",
     "text": [
      "Fitting 3 folds for each of 12 candidates, totalling 36 fits\n"
     ]
    },
    {
     "name": "stderr",
     "output_type": "stream",
     "text": [
      "[Parallel(n_jobs=8)]: Done  36 out of  36 | elapsed:  2.1min finished\n"
     ]
    },
    {
     "name": "stdout",
     "output_type": "stream",
     "text": [
      "The best estimator based on F1 is  RandomForestClassifier(bootstrap=True, class_weight=None, criterion='gini',\n",
      "            max_depth=50, max_features='auto', max_leaf_nodes=None,\n",
      "            min_impurity_decrease=0.0, min_impurity_split=None,\n",
      "            min_samples_leaf=1, min_samples_split=2,\n",
      "            min_weight_fraction_leaf=0.0, n_estimators=500, n_jobs=1,\n",
      "            oob_score=False, random_state=None, verbose=0,\n",
      "            warm_start=False)\n"
     ]
    }
   ],
   "source": [
    "from sklearn.ensemble import RandomForestClassifier\n",
    "svcEstimator = RandomForestClassifier()\n",
    "cv = 3\n",
    "\n",
    "#compare various values of C, kernels (rbf vs linear vs poly),decision_function_shape (ovo vs ovr) \n",
    "parameters = {'n_estimators': [100,250,500]\n",
    "             , 'max_depth': [5,25,50,100]}\n",
    "\n",
    "#Create a grid search object using the  \n",
    "from sklearn.model_selection import GridSearchCV\n",
    "svcGridSearch = GridSearchCV(estimator=svcEstimator\n",
    "                    , n_jobs=8 # jobs to run in parallel\n",
    "                    , verbose=1 # low verbosity\n",
    "                    , param_grid=parameters\n",
    "                    , cv=cv # KFolds = 3\n",
    "                    , scoring='accuracy')\n",
    "\n",
    "svcGridSearch.fit(X_train_scaled, y_train)\n",
    "print(\"The best estimator based on F1 is \", svcGridSearch.best_estimator_)\n",
    "rf_clf = svcGridSearch.best_estimator_"
   ]
  },
  {
   "cell_type": "code",
   "execution_count": 10,
   "metadata": {},
   "outputs": [
    {
     "name": "stdout",
     "output_type": "stream",
     "text": [
      "Accuracy 0.8140877598152425\n",
      "Confusion matrix:\n",
      "[[4363  354]\n",
      " [ 773  572]]\n",
      "f1_score: 0.5037428445618671\n",
      "Precision: 0.6177105831533477\n",
      "Recall: 0.42527881040892196\n"
     ]
    }
   ],
   "source": [
    "clf = rf_clf\n",
    "\n",
    "clf.fit(X_train_scaled,y_train)\n",
    "yhat = clf.predict(X_test_scaled)\n",
    "    \n",
    "total_accuracy = mt.accuracy_score(y_test, yhat)\n",
    "print ('Accuracy', total_accuracy)\n",
    "conf = mt.confusion_matrix(y_test,yhat)\n",
    "print('Confusion matrix:')\n",
    "print(conf)\n",
    "print('f1_score:', f1_score(y_test, yhat))\n",
    "print('Precision:', precision_score(y_test, yhat))\n",
    "print('Recall:', recall_score(y_test, yhat)) "
   ]
  },
  {
   "cell_type": "markdown",
   "metadata": {},
   "source": [
    "### Classifier Evaluation\n",
    "In the following section we evaluate the different classifiers and determine the model that we would like to use going forward."
   ]
  },
  {
   "cell_type": "code",
   "execution_count": null,
   "metadata": {},
   "outputs": [],
   "source": [
    "#get the predictions from the three models for evaluation\n",
    "yhat_svm = svm_clf.predict(X_test_scaled)\n",
    "yhat_knn = knn_clf.predict(X_test_scaled)\n",
    "yhat_rf = rf_clf.predict(X_test_scaled)\n",
    "\n",
    "print(\"SVM F1 Score \", f1_score(y_test, yhat_svm))\n",
    "print(\"KNN F1 Score \", f1_score(y_test, yhat_knn))\n",
    "print(\"KNN F1 Score \", f1_score(y_test, yhat_rf))\n"
   ]
  },
  {
   "cell_type": "markdown",
   "metadata": {},
   "source": [
    "The Table below shows various statistics to evaluate the effectiveness of our models.\n",
    "\n",
    "From an error rate perspective, the best model to predict defaults is Random Forest, and to predict Education it's KNN.  The differences shown in the table below,  are significant at the 95% confidence level.\n",
    "\n",
    "The primary statistic we will evaluate our model on, as stated earlier, is F1.  This is because it focuses on the % of positive cases modeled correctly and the % of positive predictions which are correct.  This is consistent with the assumed business/client objectives.\n",
    "\n",
    "In terms of F1, the best model to predict Default is the Support Vector Machine, and to predict Education it's Random Forest.  For Education, the difference between the the SVC and Random Forest models does not seem meaningful.  (Not sure if we can do a confidence interval on F1 since it has two variables).\n",
    "\n",
    "In general with some exceptions, in terms of F1, Precision and Recall which are the metrics we are interested in, SVC and Random Forest models are fairly close to each other. In general, KNN lags the other models with the exception of Recall in predicting default.  In that instance, the Random Forest model performed poorly.\n",
    "\n",
    "While in ROC Curves and Precision/Recall curves would normally be interesting in evaluating and comparing models, they are not particularly relevant here because not all models are \"score-Based\".\n"
   ]
  },
  {
   "cell_type": "markdown",
   "metadata": {},
   "source": [
    "### Feature Importance"
   ]
  },
  {
   "cell_type": "markdown",
   "metadata": {},
   "source": [
    "Based on the analysis above we determined that the Support Vector classifier is our best performing model based on the F1 statistic. In order to understand a little more about that model lets take a look at some of the important features and hypothesis some potential explanations of the what the model is learning."
   ]
  },
  {
   "cell_type": "code",
   "execution_count": 25,
   "metadata": {},
   "outputs": [
    {
     "name": "stdout",
     "output_type": "stream",
     "text": [
      "(23199, 22)\n",
      "(23199,)\n",
      "[11281 11918]\n"
     ]
    },
    {
     "name": "stderr",
     "output_type": "stream",
     "text": [
      "C:\\Users\\bsnxw01\\AppData\\Local\\Continuum\\anaconda3\\lib\\site-packages\\ipykernel_launcher.py:10: SettingWithCopyWarning: \n",
      "A value is trying to be set on a copy of a slice from a DataFrame.\n",
      "Try using .loc[row_indexer,col_indexer] = value instead\n",
      "\n",
      "See the caveats in the documentation: http://pandas.pydata.org/pandas-docs/stable/indexing.html#indexing-view-versus-copy\n",
      "  # Remove the CWD from sys.path while we load stuff.\n"
     ]
    },
    {
     "data": {
      "image/png": "[encoded data removed]",
      "text/plain": [
       "<Figure size 720x288 with 2 Axes>"
      ]
     },
     "metadata": {},
     "output_type": "display_data"
    },
    {
     "data": {
      "image/png": "[encoded data removed]",
      "text/plain": [
       "<Figure size 720x288 with 2 Axes>"
      ]
     },
     "metadata": {},
     "output_type": "display_data"
    },
    {
     "data": {
      "image/png": "[encoded data removed]",
      "text/plain": [
       "<Figure size 720x288 with 2 Axes>"
      ]
     },
     "metadata": {},
     "output_type": "display_data"
    }
   ],
   "source": [
    "# look at the support vectors\n",
    "print(svm_clf.support_vectors_.shape)\n",
    "print(svm_clf.support_.shape)\n",
    "print(svm_clf.n_support_ )\n",
    "\n",
    "\n",
    "# get the support vectors from the trained model\n",
    "df_support = default_OverSampled.iloc[svm_clf.support_,:]\n",
    "\n",
    "df_support['default'] = y_train[svm_clf.support_] \n",
    "default_OverSampled['default'] = y_train # also add it back in for the original data\n",
    "\n",
    "# now lets see the statistics of these attributes\n",
    "from pandas.tools.plotting import boxplot\n",
    "\n",
    "# group the original data and the support vectors\n",
    "df_grouped_support = df_support.groupby(['default'])\n",
    "df_grouped = default.groupby(['default'])\n",
    "\n",
    "# plot KDE of Different variables\n",
    "vars_to_plot = ['PAY_0','log_PAY_AMT1','log_LIMIT_BAL']\n",
    "\n",
    "for v in vars_to_plot:\n",
    "    plt.figure(figsize=(10,4))\n",
    "    # plot support vector stats\n",
    "    plt.subplot(1,2,1)\n",
    "    ax = df_grouped_support[v].plot.kde() \n",
    "    plt.legend(['Default','No Default'])\n",
    "    plt.title(v+' (Instances chosen as Support Vectors)')\n",
    "    \n",
    "    # plot original distributions\n",
    "    plt.subplot(1,2,2)\n",
    "    ax = df_grouped[v].plot.kde() \n",
    "    plt.legend(['Default','No Default'])\n",
    "    plt.title(v+' (Original)')\n"
   ]
  },
  {
   "cell_type": "markdown",
   "metadata": {},
   "source": [
    "Based on the charts from above, we can see that the separation in three distributions is not as great as the separation for the original data. \n",
    "\n",
    "Given, that the chosen support vectors tend to be instances on the edge of the class boundaries and also instances that are classified incorrectly in the training data. \n",
    "\n",
    "Once way to interpret this is that as we move closer towards the class boundaries the values of the three features share begin to share a more similar statistical profile between the two classes. Meaning the seperation of the two classes may be largely dependent on the values in these three features. \n",
    "\n",
    "Given the seperation we see in the two classes and our past experiences with logistic regression these three features exhibit some sort of pattern that this SVM classifier is picking up on.\n",
    "\n",
    "1. PAY_0 is the variable that indicates the payment status of the last payment, with postive integers indicating how many months late the payment was. This seems intuitive that it this would be telling us the more delinquent the payment, the more likely the account is to default.\n",
    "\n",
    "2. log_PAY_AMT_1 the log of the most recent payment amount. It seems likely that customers that are able to higher amounts for their last statement they will likely be able to make at least the minimum payment for the month we are trying to predict.\n",
    "\n",
    "3. log_LIMIT_BAL this feature would likely lead us to believe that the higher the balance limit the bank has given a customer the less likely they would be to default. This makes sense if you think about how the bank would conduct business. Reliable customers can be affored higher credit limits as they are a lower risk investment.\n"
   ]
  },
  {
   "cell_type": "markdown",
   "metadata": {},
   "source": [
    "# Predicting Education Level from Credit History\n",
    "The goal of these models is to try and classify a customer as having post graduate education vs not having post graduate education. \n",
    "\n",
    "### Modeling & Evaluation Considerations\n",
    "\n",
    "Part 1)\n",
    "\n",
    "One use for this suite of models is to apply marketing strategies for other products to these demographic groups if the customer does not provide the information.\n",
    "\n",
    "The evaluation metric should again consider a balance between Recall and Precision. Low Recall again represents a missed opportunity to apply a more targeted strategy, and low Precision would result in the wrong strategy applied to a given prospect.\n",
    "\n",
    "Applying the wrong strategy can be expected to decrease the credibility of the business in the customer's view, and may make the customer less likely to respond to other offers.\n",
    "\n",
    "Since F1 considers both, we will choose it as the evaluation metric for this as well.\n",
    "\n",
    "Part 2)\n",
    "\n",
    "Our cross validation technique is the same as before. We split the data into training and test sets using an 80/20 split. Using the training data to train our models and evaluating on the remaining 20. We do not have the same class imbalance problem as the other classifier so we do not have to address this "
   ]
  },
  {
   "cell_type": "markdown",
   "metadata": {},
   "source": [
    "### Data Preperation - Education Classification Specific\n",
    "Below we perform several steps that explain some of the data preparation tasks that are specific to the goal of classifying education.\n",
    "\n",
    "Field Definitions:\n",
    "- The items in the final data set are shown below.\n",
    "- Monetary amounts are in New Taiwanese dollars\n",
    "- SEX\n",
    "    * 1 = Male\n",
    "    * 2 = Female\n",
    "- AGE = Credit Card holder age in years\n",
    "- default: Whether or not the customer defaulted (Target for predicting default)\n",
    "- Payment history (2005)\n",
    "- PAY_0 = September\n",
    "- PAY_2 = August\n",
    "- PAY_3 = July\n",
    "- PAY_4 = June\n",
    "- PAY_5 = May\n",
    "- PAY_6 = April\n",
    "-1 = payment received on time\n",
    "    - 1 = payment received one month late\n",
    "    - 2 = payment received two months late\n",
    "    - 9 = payment received nine months late or more\n",
    "- log_LIMIT_BAL: Natural log of the Credit Limit (max amount of credit allowed)\n",
    "- log_PAY_AMT: Natural log of the amount paid by month + $1\n",
    "- log_PAY_AMT1 = September\n",
    "- log_PAY_AMT2 = August\n",
    "- log_PAY_AMT3 = July\n",
    "- log_PAY_AMT4 = June\n",
    "- log_PAY_AMT5 = May\n",
    "- log_PAY_AMT6 = April\n",
    "- log_BILL_AMT1 = September\n",
    "- log_BILL_AMT2 = August\n",
    "- log_BILL_AMT3 = July\n",
    "- log_BILL_AMT4 = June\n",
    "- log_BILL_AMT5 = May\n",
    "- log_BILL_AMT6 = April\n",
    "- COLLEGE - Binary response variable where 1 indicates Post Grad education & 0 indicates High School, Undergrad, or Other\n",
    "- MARRIAGE (One-Hot Encoded)\n",
    "- MARRIAGE_1 = Married\n",
    "- MARRIAGE_2 = Single\n",
    "- MARRIAGE_3 = Other"
   ]
  },
  {
   "cell_type": "code",
   "execution_count": 28,
   "metadata": {},
   "outputs": [
    {
     "name": "stdout",
     "output_type": "stream",
     "text": [
      "<class 'pandas.core.frame.DataFrame'>\n",
      "Int64Index: 30000 entries, 1 to 30000\n",
      "Data columns (total 24 columns):\n",
      "SEX              30000 non-null int64\n",
      "COLLEGE          30000 non-null int32\n",
      "MARRIAGE         30000 non-null int64\n",
      "AGE              30000 non-null int64\n",
      "default          30000 non-null int64\n",
      "PAY_0            30000 non-null int64\n",
      "PAY_2            30000 non-null int64\n",
      "PAY_3            30000 non-null int64\n",
      "PAY_4            30000 non-null int64\n",
      "PAY_5            30000 non-null int64\n",
      "PAY_6            30000 non-null int64\n",
      "log_LIMIT_BAL    30000 non-null float64\n",
      "log_PAY_AMT1     30000 non-null float64\n",
      "log_PAY_AMT2     30000 non-null float64\n",
      "log_PAY_AMT3     30000 non-null float64\n",
      "log_PAY_AMT4     30000 non-null float64\n",
      "log_PAY_AMT5     30000 non-null float64\n",
      "log_PAY_AMT6     30000 non-null float64\n",
      "log_BILL_AMT1    30000 non-null float64\n",
      "log_BILL_AMT2    30000 non-null float64\n",
      "log_BILL_AMT3    30000 non-null float64\n",
      "log_BILL_AMT4    30000 non-null float64\n",
      "log_BILL_AMT5    30000 non-null float64\n",
      "log_BILL_AMT6    30000 non-null float64\n",
      "dtypes: float64(13), int32(1), int64(10)\n",
      "memory usage: 5.6 MB\n",
      "ShuffleSplit(n_splits=5, random_state=None, test_size=0.2, train_size=None)\n"
     ]
    }
   ],
   "source": [
    "#Create a separate dataset with only useful variables as identified in Lab1 and Mini-lab1.\n",
    "educ = df[['SEX','COLLEGE','MARRIAGE','AGE', 'default'\n",
    "            ,'PAY_0','PAY_2', 'PAY_3', 'PAY_4', 'PAY_5','PAY_6', \"log_LIMIT_BAL\"\n",
    "            ,\"log_PAY_AMT1\",\"log_PAY_AMT2\",\"log_PAY_AMT3\",\"log_PAY_AMT4\",\"log_PAY_AMT5\"\n",
    "            ,\"log_PAY_AMT6\", \"log_BILL_AMT1\",\"log_BILL_AMT2\",\"log_BILL_AMT3\",\n",
    "             \"log_BILL_AMT4\",\"log_BILL_AMT5\",\"log_BILL_AMT6\"]]\n",
    "educ.info()\n",
    "\n",
    "# # # perform one-hot encoding of the categorical data \"EDUCATION\" and \"MARRIAGE\".\n",
    "tmp_df_2 = pd.get_dummies(df.MARRIAGE,prefix='MARRIAGE')\n",
    "educ = pd.concat((educ,tmp_df_2),axis=1)\n",
    "del educ['MARRIAGE']\n",
    "\n",
    "from sklearn.model_selection import ShuffleSplit\n",
    "\n",
    "y = educ['COLLEGE'].values # get the labels we want\n",
    "del educ['COLLEGE'] # get rid of the class label\n",
    "X = educ.values # use everything else to predict!\n",
    "\n",
    "    ## X and y are now numpy matrices, by calling 'values' on the pandas data frames we\n",
    "    #    have converted them into simple matrices to use with scikit learn\n",
    "    \n",
    "    \n",
    "# to use the cross validation object in scikit learn, we need to grab an instance\n",
    "#    of the object and set it up. This object will be able to split our data into \n",
    "#    training and testing splits\n",
    "num_cv_iterations = 5\n",
    "num_instances = len(y)\n",
    "cv_object = ShuffleSplit(n_splits=num_cv_iterations,\n",
    "                         test_size  = 0.2)\n",
    "                         \n",
    "print(cv_object)"
   ]
  },
  {
   "cell_type": "code",
   "execution_count": 29,
   "metadata": {},
   "outputs": [
    {
     "name": "stdout",
     "output_type": "stream",
     "text": [
      "Dimensions of training features are  (24000, 25)\n",
      "Dimensions of training target are  (24000,)\n",
      "Dimensions of testing features are  (6000, 25)\n",
      "Dimensions of testing target are  (6000,)\n"
     ]
    }
   ],
   "source": [
    "from sklearn.preprocessing import StandardScaler\n",
    "\n",
    "scl_obj = StandardScaler()\n",
    "\n",
    "for train_indices, test_indices in cv_object.split(X,y): \n",
    "    \n",
    "    X_train = X[train_indices]\n",
    "    y_train = y[train_indices]\n",
    "    \n",
    "    X_test = X[test_indices]\n",
    "    y_test = y[test_indices]\n",
    "    \n",
    "scl_obj.fit(X_train)\n",
    "\n",
    "X_train_scaled = scl_obj.transform(X_train)\n",
    "X_test_scaled = scl_obj.transform(X_test)\n",
    "\n",
    "print(\"Dimensions of training features are \" , X_train.shape)\n",
    "print(\"Dimensions of training target are \" , y_train.shape)\n",
    "print(\"Dimensions of testing features are \" , X_test.shape)\n",
    "print(\"Dimensions of testing target are \" , y_test.shape)"
   ]
  },
  {
   "cell_type": "markdown",
   "metadata": {},
   "source": [
    "### Comparing Different Classifier Models\n",
    "\n",
    "For this particular problem we will compare three different models:\n",
    "\n",
    "1. Support Vector Machine\n",
    "2. K Nearest Neighbor \n",
    "3. Random Forest\n",
    "\n",
    "To ensure we are chosing the right parameters of each model we will be using sklearns GridSearchCV with a 3 fold cross validation to identify the best estimators based on the accuracy. \n",
    "\n",
    "### Support Vector Machines"
   ]
  },
  {
   "cell_type": "code",
   "execution_count": 30,
   "metadata": {},
   "outputs": [
    {
     "name": "stdout",
     "output_type": "stream",
     "text": [
      "Fitting 3 folds for each of 9 candidates, totalling 27 fits\n"
     ]
    },
    {
     "name": "stderr",
     "output_type": "stream",
     "text": [
      "[Parallel(n_jobs=8)]: Done  27 out of  27 | elapsed:  7.4min finished\n"
     ]
    },
    {
     "name": "stdout",
     "output_type": "stream",
     "text": [
      "The best estimator based on F1 is  SVC(C=1, cache_size=200, class_weight=None, coef0=0.0,\n",
      "  decision_function_shape='ovr', degree=3, gamma='auto', kernel='rbf',\n",
      "  max_iter=-1, probability=False, random_state=None, shrinking=True,\n",
      "  tol=0.001, verbose=False)\n"
     ]
    }
   ],
   "source": [
    "from sklearn.svm import SVC\n",
    "\n",
    "svcEstimator = SVC()\n",
    "cv = 3\n",
    "\n",
    "#compare various values of C, kernels (rbf vs linear vs poly),decision_function_shape (ovo vs ovr) \n",
    "parameters = { 'C': [0.01, 0.1, 1]\n",
    "              ,'kernel': ['rbf','linear','poly']\n",
    "             }\n",
    "\n",
    "#Create a grid search object using the  \n",
    "from sklearn.model_selection import GridSearchCV\n",
    "svcGridSearch = GridSearchCV(estimator=svcEstimator\n",
    "                    , n_jobs=8 # jobs to run in parallel\n",
    "                    , verbose=1 # low verbosity\n",
    "                    , param_grid=parameters\n",
    "                    , cv=cv # KFolds = 2\n",
    "                    , scoring='f1')\n",
    "\n",
    "#Perform hyperparameter search to find the best combination of parameters for our data\n",
    "svcGridSearch.fit(X_train_scaled, y_train)\n",
    "#Display the best estimator parameters\n",
    "print(\"The best estimator based on F1 is \", svcGridSearch.best_estimator_)\n",
    "svm_clf2 = svcGridSearch.best_estimator_ "
   ]
  },
  {
   "cell_type": "code",
   "execution_count": 31,
   "metadata": {},
   "outputs": [
    {
     "name": "stdout",
     "output_type": "stream",
     "text": [
      "SVC(C=1, cache_size=200, class_weight=None, coef0=0.0,\n",
      "  decision_function_shape='ovr', degree=3, gamma='auto', kernel='rbf',\n",
      "  max_iter=-1, probability=False, random_state=None, shrinking=True,\n",
      "  tol=0.001, verbose=False)\n",
      "Accuracy 0.6008333333333333\n",
      "Confusion matrix:\n",
      "[[2194 1066]\n",
      " [1329 1411]]\n",
      "f1_score: 0.5409239026260303\n",
      "Precision: 0.5696406943883731\n",
      "Recall: 0.5149635036496351\n"
     ]
    }
   ],
   "source": [
    "from sklearn import metrics as mt\n",
    "from sklearn.metrics import accuracy_score, f1_score, precision_score, recall_score, classification_report, confusion_matrix\n",
    "\n",
    "print(svm_clf2)\n",
    "\n",
    "clf = svm_clf2\n",
    "\n",
    "clf.fit(X_train_scaled,y_train)\n",
    "yhat = clf.predict(X_test_scaled)\n",
    "    \n",
    "total_accuracy = mt.accuracy_score(y_test, yhat)\n",
    "print ('Accuracy', total_accuracy)\n",
    "conf = mt.confusion_matrix(y_test,yhat)\n",
    "print('Confusion matrix:')\n",
    "print(conf)\n",
    "print('f1_score:', f1_score(y_test, yhat))\n",
    "print('Precision:', precision_score(y_test, yhat))\n",
    "print('Recall:', recall_score(y_test, yhat)) "
   ]
  },
  {
   "cell_type": "markdown",
   "metadata": {},
   "source": [
    "### K-Nearest Neighbor"
   ]
  },
  {
   "cell_type": "code",
   "execution_count": 32,
   "metadata": {},
   "outputs": [
    {
     "name": "stdout",
     "output_type": "stream",
     "text": [
      "Fitting 3 folds for each of 4 candidates, totalling 12 fits\n"
     ]
    },
    {
     "name": "stderr",
     "output_type": "stream",
     "text": [
      "[Parallel(n_jobs=8)]: Done  10 out of  12 | elapsed:  1.6min remaining:   18.6s\n",
      "[Parallel(n_jobs=8)]: Done  12 out of  12 | elapsed:  1.6min finished\n"
     ]
    },
    {
     "name": "stdout",
     "output_type": "stream",
     "text": [
      "The best estimator based on F1 is  KNeighborsClassifier(algorithm='auto', leaf_size=30, metric='minkowski',\n",
      "           metric_params=None, n_jobs=1, n_neighbors=11, p=2,\n",
      "           weights='uniform')\n"
     ]
    }
   ],
   "source": [
    "from sklearn.neighbors import KNeighborsClassifier\n",
    "svcEstimator = KNeighborsClassifier()\n",
    "cv = 3\n",
    "\n",
    "#compare various values of C, kernels (rbf vs linear vs poly),decision_function_shape (ovo vs ovr) \n",
    "parameters = {'n_neighbors': [3,5,7,11]}\n",
    "\n",
    "#Create a grid search object using the  \n",
    "from sklearn.model_selection import GridSearchCV\n",
    "svcGridSearch = GridSearchCV(estimator=svcEstimator\n",
    "                    , n_jobs=8 # jobs to run in parallel\n",
    "                    , verbose=1 # low verbosity\n",
    "                    , param_grid=parameters\n",
    "                    , cv=cv # KFolds = 3\n",
    "                    , scoring='accuracy')\n",
    "\n",
    "svcGridSearch.fit(X_train_scaled, y_train)\n",
    "print(\"The best estimator based on F1 is \", svcGridSearch.best_estimator_)\n",
    "knn_clf2 = svcGridSearch.best_estimator_"
   ]
  },
  {
   "cell_type": "code",
   "execution_count": 33,
   "metadata": {},
   "outputs": [
    {
     "name": "stdout",
     "output_type": "stream",
     "text": [
      "KNeighborsClassifier(algorithm='auto', leaf_size=30, metric='minkowski',\n",
      "           metric_params=None, n_jobs=1, n_neighbors=11, p=2,\n",
      "           weights='uniform')\n",
      "Accuracy 0.5801666666666667\n",
      "Confusion matrix:\n",
      "[[2038 1222]\n",
      " [1297 1443]]\n",
      "f1_score: 0.5339500462534691\n",
      "Precision: 0.5414634146341464\n",
      "Recall: 0.5266423357664234\n"
     ]
    }
   ],
   "source": [
    "print(knn_clf2)\n",
    "\n",
    "clf = knn_clf2\n",
    "\n",
    "clf.fit(X_train_scaled,y_train)\n",
    "yhat = clf.predict(X_test_scaled)\n",
    "    \n",
    "total_accuracy = mt.accuracy_score(y_test, yhat)\n",
    "print ('Accuracy', total_accuracy)\n",
    "conf = mt.confusion_matrix(y_test,yhat)\n",
    "print('Confusion matrix:')\n",
    "print(conf)\n",
    "print('f1_score:', f1_score(y_test, yhat))\n",
    "print('Precision:', precision_score(y_test, yhat))\n",
    "print('Recall:', recall_score(y_test, yhat)) "
   ]
  },
  {
   "cell_type": "markdown",
   "metadata": {},
   "source": [
    "### Random Forest"
   ]
  },
  {
   "cell_type": "code",
   "execution_count": 34,
   "metadata": {},
   "outputs": [
    {
     "name": "stdout",
     "output_type": "stream",
     "text": [
      "Fitting 3 folds for each of 12 candidates, totalling 36 fits\n"
     ]
    },
    {
     "name": "stderr",
     "output_type": "stream",
     "text": [
      "[Parallel(n_jobs=8)]: Done  36 out of  36 | elapsed:  2.0min finished\n"
     ]
    },
    {
     "name": "stdout",
     "output_type": "stream",
     "text": [
      "The best estimator based on F1 is  RandomForestClassifier(bootstrap=True, class_weight=None, criterion='gini',\n",
      "            max_depth=5, max_features='auto', max_leaf_nodes=None,\n",
      "            min_impurity_decrease=0.0, min_impurity_split=None,\n",
      "            min_samples_leaf=1, min_samples_split=2,\n",
      "            min_weight_fraction_leaf=0.0, n_estimators=500, n_jobs=1,\n",
      "            oob_score=False, random_state=None, verbose=0,\n",
      "            warm_start=False)\n"
     ]
    }
   ],
   "source": [
    "from sklearn.ensemble import RandomForestClassifier\n",
    "svcEstimator = RandomForestClassifier()\n",
    "cv = 3\n",
    "\n",
    "#compare various values of C, kernels (rbf vs linear vs poly),decision_function_shape (ovo vs ovr) \n",
    "parameters = {'n_estimators': [100,250,500]\n",
    "             , 'max_depth': [5,25,50,100]}\n",
    "\n",
    "#Create a grid search object using the  \n",
    "from sklearn.model_selection import GridSearchCV\n",
    "svcGridSearch = GridSearchCV(estimator=svcEstimator\n",
    "                    , n_jobs=8 # jobs to run in parallel\n",
    "                    , verbose=1 # low verbosity\n",
    "                    , param_grid=parameters\n",
    "                    , cv=cv # KFolds = 3\n",
    "                    , scoring='accuracy')\n",
    "\n",
    "svcGridSearch.fit(X_train_scaled, y_train)\n",
    "print(\"The best estimator based on F1 is \", svcGridSearch.best_estimator_)\n",
    "rf_clf2 = svcGridSearch.best_estimator_"
   ]
  },
  {
   "cell_type": "code",
   "execution_count": 35,
   "metadata": {},
   "outputs": [
    {
     "name": "stdout",
     "output_type": "stream",
     "text": [
      "RandomForestClassifier(bootstrap=True, class_weight=None, criterion='gini',\n",
      "            max_depth=5, max_features='auto', max_leaf_nodes=None,\n",
      "            min_impurity_decrease=0.0, min_impurity_split=None,\n",
      "            min_samples_leaf=1, min_samples_split=2,\n",
      "            min_weight_fraction_leaf=0.0, n_estimators=500, n_jobs=1,\n",
      "            oob_score=False, random_state=None, verbose=0,\n",
      "            warm_start=False)\n",
      "Accuracy 0.5916666666666667\n",
      "Confusion matrix:\n",
      "[[2104 1156]\n",
      " [1294 1446]]\n",
      "f1_score: 0.541370273305878\n",
      "Precision: 0.5557263643351268\n",
      "Recall: 0.5277372262773723\n"
     ]
    }
   ],
   "source": [
    "print(rf_clf2)\n",
    "\n",
    "clf = rf_clf2\n",
    "\n",
    "clf.fit(X_train_scaled,y_train)\n",
    "yhat = clf.predict(X_test_scaled)\n",
    "    \n",
    "total_accuracy = mt.accuracy_score(y_test, yhat)\n",
    "print ('Accuracy', total_accuracy)\n",
    "conf = mt.confusion_matrix(y_test,yhat)\n",
    "print('Confusion matrix:')\n",
    "print(conf)\n",
    "print('f1_score:', f1_score(y_test, yhat))\n",
    "print('Precision:', precision_score(y_test, yhat))\n",
    "print('Recall:', recall_score(y_test, yhat)) "
   ]
  },
  {
   "cell_type": "markdown",
   "metadata": {},
   "source": [
    "### Model Evaluations"
   ]
  },
  {
   "cell_type": "markdown",
   "metadata": {},
   "source": [
    "### Feature Importance\n",
    "\n",
    "As we describe above based on the F1 statistic we have determined that the Random Forest model was the most ideal model for our analysis. One benefit of that is how relatively easy it is to determine feature importance the trained model. This is acheivable by identifying features or splits that are commmon across many of the trees in the forest.\n",
    "\n",
    "Luckily for us the sklearn package produces the feature importance in the random forest object, so we can easily plot them and make some hypthesis.\n"
   ]
  },
  {
   "cell_type": "code",
   "execution_count": 42,
   "metadata": {},
   "outputs": [
    {
     "name": "stdout",
     "output_type": "stream",
     "text": [
      "Top 3 Feature Importances for Classifying Education\n"
     ]
    },
    {
     "data": {
      "text/html": [
       "<div>\n",
       "<style scoped>\n",
       "    .dataframe tbody tr th:only-of-type {\n",
       "        vertical-align: middle;\n",
       "    }\n",
       "\n",
       "    .dataframe tbody tr th {\n",
       "        vertical-align: top;\n",
       "    }\n",
       "\n",
       "    .dataframe thead th {\n",
       "        text-align: right;\n",
       "    }\n",
       "</style>\n",
       "<table border=\"1\" class=\"dataframe\">\n",
       "  <thead>\n",
       "    <tr style=\"text-align: right;\">\n",
       "      <th></th>\n",
       "      <th>importance</th>\n",
       "    </tr>\n",
       "  </thead>\n",
       "  <tbody>\n",
       "    <tr>\n",
       "      <th>log_LIMIT_BAL</th>\n",
       "      <td>0.149489</td>\n",
       "    </tr>\n",
       "    <tr>\n",
       "      <th>PAY_2</th>\n",
       "      <td>0.122550</td>\n",
       "    </tr>\n",
       "    <tr>\n",
       "      <th>AGE</th>\n",
       "      <td>0.116262</td>\n",
       "    </tr>\n",
       "  </tbody>\n",
       "</table>\n",
       "</div>"
      ],
      "text/plain": [
       "               importance\n",
       "log_LIMIT_BAL    0.149489\n",
       "PAY_2            0.122550\n",
       "AGE              0.116262"
      ]
     },
     "execution_count": 42,
     "metadata": {},
     "output_type": "execute_result"
    },
    {
     "data": {
      "image/png": "[encoded data removed]",
      "text/plain": [
       "<Figure size 432x288 with 1 Axes>"
      ]
     },
     "metadata": {},
     "output_type": "display_data"
    }
   ],
   "source": [
    "feature_importances = pd.DataFrame(clf.feature_importances_,\n",
    "                                   index = educ.columns, \n",
    "                                   columns=['importance']).sort_values('importance', ascending=False)\n",
    "\n",
    "ax = feature_importances.plot(kind='barh')\n",
    "print(\"Top 3 Feature Importances for Classifying Education\")\n",
    "feature_importances.head(3)"
   ]
  },
  {
   "cell_type": "markdown",
   "metadata": {},
   "source": [
    "From above we can see that of some of the main features used in the trees for classifying Education as Post Graduate vs All Other we can see that there are several features of importance.\n",
    "\n",
    "1) log_limit_bal could likely be attributed to the fact that people with post graduate eductations often have a higher salary than ones without. Thus when the bank ran the initial credit check those with higher salaries were afforded a larger credit limit.\n",
    "\n",
    "2) pay_2 this is the payment status two month out. Interestingly when you look at the plot you can see that the payment status of the last three months all have some level of importance for predicting post graduate education. This is seemingly in line with the expectation that people with graduate degrees have higher salaries. These higher salaries allow them to more reliably pay off their credit cards or not accrue debt on them at all.\n",
    "\n",
    "3) Age is the third most important feature. Considering that post graduate school would require you to finish a four year school at first it makes sense that age would be an important factor. Card holders aged 18-23 more than likely wouldn't have a post graduate degree."
   ]
  },
  {
   "cell_type": "markdown",
   "metadata": {},
   "source": [
    "# Model Deployment\n",
    "\n",
    "\n",
    "#### Precision  \n",
    "If we mistakenly assume a customer will default and act too soon we may lose that customer and make him/her angry. There are intangible costs in addition to the customer in question (word of mouth).\n",
    "\n",
    "#### Recall  \n",
    "If we mistakenly assume the customer is just accidentally late when they are not we could lose the opportunity to collect prior to other creditors.  \n",
    "\n",
    "We prefer not to anger good customers. It is difficult to quantify profit and loss since the balance varies and it is difficult to measure the financial cost of an angry customer. Therefore, this model focuses on a balance between precision and recall (F Statistic).  \n",
    "\n",
    "The model can be used for reporting by Customer Service Representatives (CSR) to prioritize contact with likely late paying customers. Alternatively, or in addition it can be used cautiously to prioritize who to robotically auto-dial or email with payment reminders.  \n",
    "\n",
    "Additional data can be collected during any interaction to improve accuracy. For example, Hang-up, Positive Response About Payment and more.  \n",
    "\n",
    "This model can be deployed and run automatically via script daily (or whenever new data is available). Because it uses stratified k-fold cross validation and re-trains every time it runs; the accuracy will improve over time. However it should be monitored for performance.\n",
    "\n"
   ]
  },
  {
   "cell_type": "markdown",
   "metadata": {},
   "source": [
    "# Exceptional Work"
   ]
  },
  {
   "cell_type": "markdown",
   "metadata": {},
   "source": [
    "Our Attempt At GPU Computing\n",
    "\n",
    "We found a project called H2O4GPU by H2O AI https://github.com/h2oai/h2o4gpu#installation which is a collection of GPU solvers with APIs for Python:  \n",
    "\n",
    "\"The Python API builds upon the easy-to-use scikit-learn API and its well-tested CPU-based algorithms. It can be used as a drop-in replacement for scikit-learn (i.e. import h2o4gpu as sklearn) with support for GPUs on selected (and ever-growing) algorithms. H2O4GPU inherits all the existing scikit-learn algorithms and falls back to CPU algorithms when the GPU algorithm does not support an important existing scikit-learn class option.\"  \n",
    "\n",
    "We have access to an Nvidia Geforce RTX 2080.  \n",
    "We installed:  \n",
    "- Ubuntu 18.04LTS  \n",
    "- NVidia Drivers for Ubuntu  \n",
    "- NVidia Cuda Kit\n",
    "- H2O4GPU  \n",
    "- Many other small things  \n",
    "\n",
    "We were able to run the following test which indicates that the enivironment is doing something:"
   ]
  },
  {
   "cell_type": "code",
   "execution_count": 1,
   "metadata": {},
   "outputs": [
    {
     "data": {
      "text/plain": [
       "array([[1. , 0.5],\n",
       "       [1. , 4. ]])"
      ]
     },
     "execution_count": 1,
     "metadata": {},
     "output_type": "execute_result"
    }
   ],
   "source": [
    "import h2o4gpu\n",
    "import numpy as np\n",
    "\n",
    "X = np.array([[1.,1.], [1.,4.], [1.,0.]])\n",
    "model = h2o4gpu.KMeans(n_clusters=2,random_state=1234).fit(X)\n",
    "model.cluster_centers_"
   ]
  },
  {
   "cell_type": "markdown",
   "metadata": {},
   "source": [
    "However our attempts to make our models (SVM's in particular) function resulted in crashing kernels.  \n",
    "\n",
    "The libraries are designed for  \n",
    "-Ubuntu 16.04  \n",
    "-Python 3.6  \n",
    "-Cuda 9.2  \n",
    "\n",
    "Our RTX2080 GPU is the very latest technology (as of the time of this writing) from NVIdia. It's driver version is only compatible with Cuda 10.0 which conflicts with H2O4GPU's 9.2 requirement. Also in hindsight we should have been running Ubuntu 16.04 rather than 18.04."
   ]
  },
  {
   "cell_type": "markdown",
   "metadata": {},
   "source": [
    "There is a PCA example provided by H2O which apparently is functional in this simple case (see below) however again when we adapted our PCA our Kernel crashed."
   ]
  },
  {
   "cell_type": "code",
   "execution_count": 2,
   "metadata": {},
   "outputs": [],
   "source": [
    "%matplotlib inline\n",
    "import numpy as np\n",
    "import matplotlib.pyplot as plt\n",
    "import seaborn as sns; sns.set()"
   ]
  },
  {
   "cell_type": "code",
   "execution_count": 3,
   "metadata": {
    "scrolled": true
   },
   "outputs": [
    {
     "data": {
      "image/png": "[encoded data removed]",
      "text/plain": [
       "<matplotlib.figure.Figure at 0x7f340c11f630>"
      ]
     },
     "metadata": {},
     "output_type": "display_data"
    }
   ],
   "source": [
    "rng = np.random.RandomState(1)\n",
    "X = np.dot(rng.rand(2, 2), rng.randn(2, 200)).T\n",
    "plt.scatter(X[:, 0], X[:, 1])\n",
    "plt.axis('equal');"
   ]
  },
  {
   "cell_type": "code",
   "execution_count": 4,
   "metadata": {},
   "outputs": [
    {
     "data": {
      "text/plain": [
       "<h2o4gpu.solvers.pca.PCAH2O at 0x7f340c0ff550>"
      ]
     },
     "execution_count": 4,
     "metadata": {},
     "output_type": "execute_result"
    }
   ],
   "source": [
    "from h2o4gpu.solvers.pca import PCAH2O\n",
    "pca = PCAH2O(n_components=2)\n",
    "pca.fit(X)"
   ]
  },
  {
   "cell_type": "code",
   "execution_count": 5,
   "metadata": {},
   "outputs": [
    {
     "name": "stdout",
     "output_type": "stream",
     "text": [
      "[[-0.94446027 -0.32862556]\n",
      " [-0.32862556  0.94446027]]\n"
     ]
    }
   ],
   "source": [
    "print(pca.components_)"
   ]
  },
  {
   "cell_type": "code",
   "execution_count": 6,
   "metadata": {},
   "outputs": [
    {
     "name": "stdout",
     "output_type": "stream",
     "text": [
      "[0.7625315 0.0184779]\n"
     ]
    }
   ],
   "source": [
    "print(pca.explained_variance_)"
   ]
  },
  {
   "cell_type": "code",
   "execution_count": 8,
   "metadata": {},
   "outputs": [
    {
     "name": "stdout",
     "output_type": "stream",
     "text": [
      "original shape:    (200, 2)\n",
      "transformed shape: (200, 1)\n"
     ]
    }
   ],
   "source": [
    "pca = PCAH2O(n_components=1)\n",
    "pca.fit(X)\n",
    "X_pca = pca.transform(X)\n",
    "print(\"original shape:   \", X.shape)\n",
    "print(\"transformed shape:\", X_pca.shape)"
   ]
  },
  {
   "cell_type": "code",
   "execution_count": 7,
   "metadata": {
    "scrolled": true
   },
   "outputs": [
    {
     "data": {
      "image/png": "[encoded data removed]",
      "text/plain": [
       "<matplotlib.figure.Figure at 0x7f340c0b3208>"
      ]
     },
     "metadata": {},
     "output_type": "display_data"
    }
   ],
   "source": [
    "def draw_vector(v0, v1, ax=None):\n",
    "    ax = ax or plt.gca()\n",
    "    arrowprops=dict(arrowstyle='->',\n",
    "                    linewidth=2,\n",
    "                    shrinkA=0, shrinkB=0)\n",
    "    ax.annotate('', v1, v0, arrowprops=arrowprops)\n",
    "\n",
    "# plot data\n",
    "plt.scatter(X[:, 0], X[:, 1], alpha=0.2)\n",
    "for length, vector in zip(pca.explained_variance_, pca.components_):\n",
    "    v = vector * 3 * np.sqrt(length)\n",
    "    draw_vector(pca.mean_, pca.mean_ + v)\n",
    "plt.axis('equal');"
   ]
  },
  {
   "cell_type": "code",
   "execution_count": 8,
   "metadata": {},
   "outputs": [
    {
     "name": "stdout",
     "output_type": "stream",
     "text": [
      "original shape:    (200, 2)\n",
      "transformed shape: (200, 1)\n"
     ]
    }
   ],
   "source": [
    "pca = PCAH2O(n_components=1)\n",
    "pca.fit(X)\n",
    "X_pca = pca.transform(X)\n",
    "print(\"original shape:   \", X.shape)\n",
    "print(\"transformed shape:\", X_pca.shape)"
   ]
  },
  {
   "cell_type": "code",
   "execution_count": 9,
   "metadata": {
    "scrolled": true
   },
   "outputs": [
    {
     "data": {
      "image/png": "[encoded data removed]",
      "text/plain": [
       "<matplotlib.figure.Figure at 0x7f3405b22978>"
      ]
     },
     "metadata": {},
     "output_type": "display_data"
    }
   ],
   "source": [
    "X_new = pca.inverse_transform(X_pca)\n",
    "plt.scatter(X[:, 0], X[:, 1], alpha=0.2)\n",
    "plt.scatter(X_new[:, 0], X_new[:, 1], alpha=0.8)\n",
    "plt.axis('equal');"
   ]
  },
  {
   "cell_type": "markdown",
   "metadata": {},
   "source": [
    "### Conclusion  \n",
    "\n",
    "H2O4GPU can function for some use cases with the right hardware and software environment. However it still needs development before we can rely on it unless we enhance our C++ programming skills."
   ]
  }
 ],
 "metadata": {
  "kernelspec": {
   "display_name": "Python 3",
   "language": "python",
   "name": "python3"
  },
  "language_info": {
   "codemirror_mode": {
    "name": "ipython",
    "version": 3
   },
   "file_extension": ".py",
   "mimetype": "text/x-python",
   "name": "python",
   "nbconvert_exporter": "python",
   "pygments_lexer": "ipython3",
   "version": "3.6.5"
  }
 },
 "nbformat": 4,
 "nbformat_minor": 2
}
