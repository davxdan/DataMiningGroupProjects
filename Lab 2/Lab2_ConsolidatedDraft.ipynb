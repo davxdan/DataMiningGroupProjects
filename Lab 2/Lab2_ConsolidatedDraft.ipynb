{
 "cells": [
  {
   "cell_type": "markdown",
   "metadata": {},
   "source": [
    "# Second Project Work Week Assignment\n",
    "### Authors: Dan Davieau, Paul Panek, Olga Tanyuk, Nathan Wall"
   ]
  },
  {
   "cell_type": "markdown",
   "metadata": {},
   "source": [
    "### Initial Data Prep\n",
    "\n",
    "For the purpose of this assignment we view the data prep as conditional to the specific classification task. However, there are several minor data cleaning tasks that are applicable to either task and are performed in the code below"
   ]
  },
  {
   "cell_type": "code",
   "execution_count": 8,
   "metadata": {},
   "outputs": [
    {
     "name": "stdout",
     "output_type": "stream",
     "text": [
      "<class 'pandas.core.frame.DataFrame'>\n",
      "Int64Index: 30000 entries, 1 to 30000\n",
      "Data columns (total 37 columns):\n",
      "LIMIT_BAL        30000 non-null float64\n",
      "SEX              30000 non-null int64\n",
      "EDUCATION        30000 non-null int64\n",
      "MARRIAGE         30000 non-null int64\n",
      "AGE              30000 non-null int64\n",
      "PAY_0            30000 non-null int64\n",
      "PAY_2            30000 non-null int64\n",
      "PAY_3            30000 non-null int64\n",
      "PAY_4            30000 non-null int64\n",
      "PAY_5            30000 non-null int64\n",
      "PAY_6            30000 non-null int64\n",
      "BILL_AMT1        30000 non-null float64\n",
      "BILL_AMT2        30000 non-null float64\n",
      "BILL_AMT3        30000 non-null float64\n",
      "BILL_AMT4        30000 non-null float64\n",
      "BILL_AMT5        30000 non-null float64\n",
      "BILL_AMT6        30000 non-null float64\n",
      "PAY_AMT1         30000 non-null float64\n",
      "PAY_AMT2         30000 non-null float64\n",
      "PAY_AMT3         30000 non-null float64\n",
      "PAY_AMT4         30000 non-null float64\n",
      "PAY_AMT5         30000 non-null float64\n",
      "PAY_AMT6         30000 non-null float64\n",
      "default          30000 non-null int64\n",
      "log_LIMIT_BAL    30000 non-null float64\n",
      "log_PAY_AMT1     30000 non-null float64\n",
      "log_PAY_AMT2     30000 non-null float64\n",
      "log_PAY_AMT3     30000 non-null float64\n",
      "log_PAY_AMT4     30000 non-null float64\n",
      "log_PAY_AMT5     30000 non-null float64\n",
      "log_PAY_AMT6     30000 non-null float64\n",
      "log_BILL_AMT1    30000 non-null float64\n",
      "log_BILL_AMT2    30000 non-null float64\n",
      "log_BILL_AMT3    30000 non-null float64\n",
      "log_BILL_AMT4    30000 non-null float64\n",
      "log_BILL_AMT5    30000 non-null float64\n",
      "log_BILL_AMT6    30000 non-null float64\n",
      "dtypes: float64(26), int64(11)\n",
      "memory usage: 8.7 MB\n"
     ]
    }
   ],
   "source": [
    "import pandas as pd\n",
    "import numpy as np\n",
    "\n",
    "df = pd.read_csv('DefaultCreditcardClients.csv')\n",
    "df.rename(columns={'default payment next month':'default'}, inplace=True)\n",
    "\n",
    "#set index to the \"ID\" value and remove the ID column\n",
    "df.index = df.ID\n",
    "del df['ID']\n",
    "\n",
    "#Create Lists for Analysis\n",
    "continuous_features = ['LIMIT_BAL', 'BILL_AMT1', 'BILL_AMT2','BILL_AMT3',\n",
    "                       'BILL_AMT4', 'BILL_AMT5', 'BILL_AMT6', 'PAY_AMT1',\n",
    "                       'PAY_AMT2', 'PAY_AMT3', 'PAY_AMT4', 'PAY_AMT5',\n",
    "                       'PAY_AMT6']\n",
    "ordinal_features = ['EDUCATION', 'MARRIAGE', 'AGE', 'PAY_0','PAY_2', 'PAY_3',\n",
    "                    'PAY_4', 'PAY_5', 'PAY_6','default']\n",
    "\n",
    "#Convert datatypes\n",
    "df[continuous_features] = df[continuous_features].astype(np.float64)\n",
    "df[ordinal_features] = df[ordinal_features].astype(np.int64)\n",
    "\n",
    "#convert any non-identified education categories to 'OTHER'\n",
    "df['EDUCATION'] = df['EDUCATION'].replace(to_replace=(0,5,6),value=4)\n",
    "\n",
    "#convert any non-identified marriage categories to 'OTHER'\n",
    "df['MARRIAGE'] = df['MARRIAGE'].replace(to_replace=(0),value=3)\n",
    "\n",
    "#Log transform continuous variables; as they each have a mostly \n",
    "##exponential distribution\n",
    "df[\"log_LIMIT_BAL\"]=np.log(df.LIMIT_BAL)\n",
    "df[\"log_PAY_AMT1\"]=np.log(df.PAY_AMT1+1)\n",
    "df[\"log_PAY_AMT2\"]=np.log(df.PAY_AMT2+1)\n",
    "df[\"log_PAY_AMT3\"]=np.log(df.PAY_AMT3+1)\n",
    "df[\"log_PAY_AMT4\"]=np.log(df.PAY_AMT4+1)\n",
    "df[\"log_PAY_AMT5\"]=np.log(df.PAY_AMT5+1)\n",
    "df[\"log_PAY_AMT6\"]=np.log(df.PAY_AMT6+1)\n",
    "df[\"log_BILL_AMT1\"]=np.log(df.BILL_AMT1.abs()+1)\n",
    "df[\"log_BILL_AMT2\"]=np.log(df.BILL_AMT2.abs()+1)\n",
    "df[\"log_BILL_AMT3\"]=np.log(df.BILL_AMT3.abs()+1)\n",
    "df[\"log_BILL_AMT4\"]=np.log(df.BILL_AMT4.abs()+1)\n",
    "df[\"log_BILL_AMT5\"]=np.log(df.BILL_AMT5.abs()+1)\n",
    "df[\"log_BILL_AMT6\"]=np.log(df.BILL_AMT6.abs()+1)\n",
    "\n",
    "df.info()"
   ]
  },
  {
   "cell_type": "markdown",
   "metadata": {},
   "source": [
    "# Predicting Customer \"Default\"\n",
    "The first portion of the report we will explore various models to try and classify customer's likelihood of default.\n",
    "\n",
    "### Modeling & Evaluation Considerations\n",
    "\n",
    "Part 1)\n",
    "For this particular classification model we will assessing our models based on their F1 scores.\n",
    "\n",
    "A client may use this model to determine which customer-facing strategies to deploy for a given customer. If a customer is expected to default, there should be a more intesive collection strategy, and management of credit lines should be more conservative. While such strategies are designed to limit losses from defaults, they may also lead to sub-optimal customer experiences for those who do not default. Customers who are treated as likely to default are expected to attrit if they do not default.\n",
    "\n",
    "Precision is therefore important. Low precision would lead to higher customer attrition. Recall is also important. Low Recall represents missed opportunity to apply loss-mitigation strategies to customer who need them, and will result in high default costs.\n",
    "\n",
    "Since balancing these two factors is important, we will choose F1 as the evaluation metric for this suite of models.\n",
    "\n",
    "Part 2)\n",
    "In order to effectively evaluate our model performance we will splitting our data into training & test sets using an initial 80/20 split. Additionally, due to the class imbalance between default customers and non-default customers we will be oversampling default customers in our training data. If left unbalanced our model will bias towards assuming most customers will not default. This is a costly bias as described above. In order to overcome that limitation we will provide the classifiers more examples of default by sampling from replacement from our positive cases. This will likely lower our overall accuracy but will improve our "
   ]
  },
  {
   "cell_type": "markdown",
   "metadata": {},
   "source": [
    "### Data Preperation - Default Classification Specific\n",
    "Below we perform several steps that explain some of the data preparation tasks that are specific to the goal of classifying customers default on credit card payments.\n",
    "\n",
    "First we remove the variables that we identified as not important from Lab1 & Mini-Lab1. We also one hot encode our categorical features for use in our models. Below you will find the fields that are considered in our model.\n",
    "\n",
    "Field Definitions:\n",
    "- The items in the final data set are shown below.\n",
    "- Monetary amounts are in New Taiwanese dollars\n",
    "- SEX\n",
    "    * 1 = Male\n",
    "    * 2 = Female\n",
    "- AGE = Credit Card holder age in years\n",
    "- default: Whether or not the customer defaulted (Target for predicting default)\n",
    "- Payment history (2005)\n",
    "- PAY_0 = September\n",
    "- PAY_2 = August\n",
    "- PAY_3 = July\n",
    "- PAY_4 = June\n",
    "- PAY_5 = May\n",
    "- PAY_6 = April\n",
    "-1 = payment received on time\n",
    "    - 1 = payment received one month late\n",
    "    - 2 = payment received two months late\n",
    "    - 9 = payment received nine months late or more\n",
    "- log_LIMIT_BAL: Natural log of the Credit Limit (max amount of credit allowed)\n",
    "- log_PAY_AMT: Natural log of the amount paid by month + $1\n",
    "- log_PAY_AMT1 = September\n",
    "- log_PAY_AMT2 = August\n",
    "- log_PAY_AMT3 = July\n",
    "- log_PAY_AMT4 = June\n",
    "- log_PAY_AMT5 = May\n",
    "- log_PAY_AMT6 = April\n",
    "- EDUCATION (One-Hot Encoded when Predicting Default. Used in the form below when used as target.)\n",
    "- EDUCATION_1 = Graduate School\n",
    "- EDUCATION_2 = University\n",
    "- EDUCATION_3 = High School\n",
    "- EDUCATION_4 = Other\n",
    "- EDUCATION (This variable appears only as the target only when predicting Education. Not one-hot encoded.)\n",
    "- 1 = Graduate School\n",
    "- 2 = University\n",
    "- 3 = High School\n",
    "- 4 = Other\n",
    "- MARRIAGE (One-Hot Encoded)\n",
    "- MARRIAGE_1 = Married\n",
    "- MARRIAGE_2 = Single\n",
    "- MARRIAGE_3 = Other"
   ]
  },
  {
   "cell_type": "code",
   "execution_count": 2,
   "metadata": {},
   "outputs": [
    {
     "name": "stdout",
     "output_type": "stream",
     "text": [
      "<class 'pandas.core.frame.DataFrame'>\n",
      "Int64Index: 30000 entries, 1 to 30000\n",
      "Data columns (total 23 columns):\n",
      "SEX              30000 non-null int64\n",
      "AGE              30000 non-null int64\n",
      "default          30000 non-null int64\n",
      "PAY_0            30000 non-null int64\n",
      "PAY_2            30000 non-null int64\n",
      "PAY_3            30000 non-null int64\n",
      "PAY_4            30000 non-null int64\n",
      "PAY_5            30000 non-null int64\n",
      "PAY_6            30000 non-null int64\n",
      "log_LIMIT_BAL    30000 non-null float64\n",
      "log_PAY_AMT1     30000 non-null float64\n",
      "log_PAY_AMT2     30000 non-null float64\n",
      "log_PAY_AMT3     30000 non-null float64\n",
      "log_PAY_AMT4     30000 non-null float64\n",
      "log_PAY_AMT5     30000 non-null float64\n",
      "log_PAY_AMT6     30000 non-null float64\n",
      "EDUCATION_1      30000 non-null uint8\n",
      "EDUCATION_2      30000 non-null uint8\n",
      "EDUCATION_3      30000 non-null uint8\n",
      "EDUCATION_4      30000 non-null uint8\n",
      "MARRIAGE_1       30000 non-null uint8\n",
      "MARRIAGE_2       30000 non-null uint8\n",
      "MARRIAGE_3       30000 non-null uint8\n",
      "dtypes: float64(7), int64(9), uint8(7)\n",
      "memory usage: 4.1 MB\n"
     ]
    }
   ],
   "source": [
    "#Create a separate dataset with only useful variables as identified in Lab1 and Mini-lab1.\n",
    "default = df[['SEX','EDUCATION','MARRIAGE','AGE', 'default'\n",
    "            ,'PAY_0','PAY_2', 'PAY_3', 'PAY_4', 'PAY_5','PAY_6', \"log_LIMIT_BAL\"\n",
    "            ,\"log_PAY_AMT1\",\"log_PAY_AMT2\",\"log_PAY_AMT3\",\"log_PAY_AMT4\",\"log_PAY_AMT5\"\n",
    "            ,\"log_PAY_AMT6\"]]\n",
    "\n",
    "# One-hot encoding of \"EDUCATION\" and \"MARRIAGE\".\n",
    "tmp_df_1 = pd.get_dummies(default.EDUCATION,prefix='EDUCATION')\n",
    "tmp_df_2 = pd.get_dummies(default.MARRIAGE,prefix='MARRIAGE')\n",
    "default = pd.concat((default,tmp_df_1,tmp_df_2),axis=1)\n",
    "#Drop variables for which we used one-hot encoding\n",
    "del default['EDUCATION']\n",
    "del default['MARRIAGE']\n",
    "default.info()"
   ]
  },
  {
   "cell_type": "markdown",
   "metadata": {},
   "source": [
    "Once the dataset is cleaned and the variables are prepared, we begin the process of building our training and test datasets for use in building our models. Below is we split our data into test and traing sets and fit our scaler using the training data before we oversample."
   ]
  },
  {
   "cell_type": "code",
   "execution_count": 3,
   "metadata": {},
   "outputs": [
    {
     "name": "stdout",
     "output_type": "stream",
     "text": [
      "Dimensions of training data  (24054, 23)\n",
      "Dimensions of test are  (5946, 23)\n",
      "<class 'pandas.core.frame.DataFrame'>\n",
      "Int64Index: 24054 entries, 2 to 30000\n",
      "Data columns (total 23 columns):\n",
      "SEX              24054 non-null int64\n",
      "AGE              24054 non-null int64\n",
      "default          24054 non-null int64\n",
      "PAY_0            24054 non-null int64\n",
      "PAY_2            24054 non-null int64\n",
      "PAY_3            24054 non-null int64\n",
      "PAY_4            24054 non-null int64\n",
      "PAY_5            24054 non-null int64\n",
      "PAY_6            24054 non-null int64\n",
      "log_LIMIT_BAL    24054 non-null float64\n",
      "log_PAY_AMT1     24054 non-null float64\n",
      "log_PAY_AMT2     24054 non-null float64\n",
      "log_PAY_AMT3     24054 non-null float64\n",
      "log_PAY_AMT4     24054 non-null float64\n",
      "log_PAY_AMT5     24054 non-null float64\n",
      "log_PAY_AMT6     24054 non-null float64\n",
      "EDUCATION_1      24054 non-null uint8\n",
      "EDUCATION_2      24054 non-null uint8\n",
      "EDUCATION_3      24054 non-null uint8\n",
      "EDUCATION_4      24054 non-null uint8\n",
      "MARRIAGE_1       24054 non-null uint8\n",
      "MARRIAGE_2       24054 non-null uint8\n",
      "MARRIAGE_3       24054 non-null uint8\n",
      "dtypes: float64(7), int64(9), uint8(7)\n",
      "memory usage: 3.3 MB\n"
     ]
    }
   ],
   "source": [
    "from sklearn.preprocessing import StandardScaler\n",
    "\n",
    "split = np.random.rand(len(default)) < 0.8\n",
    "\n",
    "default_train = default[split]\n",
    "default_test = default[~split]\n",
    "\n",
    "# fit training for scaling after upsampling\n",
    "X_train = default_train.drop(columns=['default']).values     \n",
    "scl_obj = StandardScaler()\n",
    "scl_obj.fit(X_train)\n",
    "\n",
    "print(\"Dimensions of training data \" , default_train.shape)\n",
    "print(\"Dimensions of test are \" , default_test.shape)\n",
    "\n",
    "default_train.info()"
   ]
  },
  {
   "cell_type": "markdown",
   "metadata": {},
   "source": [
    "Once we have the data split and have performed the neccesary operations on the training data we can then begin building our oversampled training data then apply our scaler to the training and test data sets to begin exploring differnt estimators."
   ]
  },
  {
   "cell_type": "code",
   "execution_count": 12,
   "metadata": {},
   "outputs": [
    {
     "name": "stdout",
     "output_type": "stream",
     "text": [
      "Dimensions of final training features are  (37485, 22)\n"
     ]
    },
    {
     "data": {
      "image/png": "[encoded data removed]",
      "text/plain": [
       "<Figure size 432x288 with 1 Axes>"
      ]
     },
     "metadata": {},
     "output_type": "display_data"
    }
   ],
   "source": [
    "target_count = default.default.value_counts()\n",
    "# Class count\n",
    "default_class_0, default_class_1 = default_train.default.value_counts()\n",
    "\n",
    "# Divide by class\n",
    "default_class_0 = default_train[default_train['default'] == 0]\n",
    "default_class_1 = default_train[default_train['default'] == 1]\n",
    "\n",
    "default_class_1_over = default_class_1.sample(frac=target_count[0]/target_count[1], replace=True)\n",
    "default_OverSampled = pd.concat([default_class_0, default_class_1_over], axis=0)\n",
    "\n",
    "#Isolate the \"default\" variable into y and keep everythign else in X to use for predictions:\n",
    "if 'default' in default_OverSampled:\n",
    "    y_train = default_OverSampled['default'].values\n",
    "    del default_OverSampled['default'] \n",
    "    X_train = default_OverSampled.values\n",
    "    \n",
    "if 'default' in default_test:\n",
    "    y_test = default_test['default'].values\n",
    "    del default_test['default'] \n",
    "    X_test = default_test.values\n",
    "\n",
    "# use the previously fit scalines to transform the data after the over sampling\n",
    "X_train_scaled = scl_obj.transform(X_train) # apply to training\n",
    "X_test_scaled = scl_obj.transform(X_test) # apply those means and std to the test set (without snooping at the test set values)\n",
    "\n",
    "\n",
    "print(\"Dimensions of final training features are \" , X_train_scaled.shape)\n",
    "from matplotlib import pyplot as plt\n",
    "import numpy as np\n",
    "%matplotlib inline\n",
    "plt.hist(y_train )\n",
    "plt.xlabel('Value')\n",
    "plt.ylabel('Observations')\n",
    "plt.title('Class Frequency after OverSampling')\n",
    "plt.show()"
   ]
  },
  {
   "cell_type": "markdown",
   "metadata": {},
   "source": [
    "From above we can see that we now have 37k observations in our training set and the labels are balanced. We can now proceed with our reviewing various estimators and how they perform when classifying customer defaults."
   ]
  },
  {
   "cell_type": "markdown",
   "metadata": {},
   "source": [
    "### Comparing Different Classifier Models (Part 3)\n",
    "\n",
    "For this particular problem we will compare three different models:\n",
    "\n",
    "1. Support Vector Machine\n",
    "2. K Nearest Neighbor \n",
    "3. Random Forest\n",
    "\n",
    "To ensure we are chosing the right parameters of each model we will be using sklearns GridSearchCV with a 3 fold cross validation to identify the best estimators based on the F1 scores. This provides us a dynamic means of testing out many different model parameters.\n",
    "\n",
    "We first train each model and look at some metrics for preliminary evaluation, then evaluate each model more thoroughly once all the models have been developed.\n",
    "\n",
    "### Support Vector Machines"
   ]
  },
  {
   "cell_type": "code",
   "execution_count": 13,
   "metadata": {},
   "outputs": [
    {
     "name": "stdout",
     "output_type": "stream",
     "text": [
      "Fitting 3 folds for each of 9 candidates, totalling 27 fits\n"
     ]
    },
    {
     "name": "stderr",
     "output_type": "stream",
     "text": [
      "[Parallel(n_jobs=8)]: Done  27 out of  27 | elapsed:  9.4min finished\n"
     ]
    },
    {
     "name": "stdout",
     "output_type": "stream",
     "text": [
      "The best estimator based on F1 is  SVC(C=1, cache_size=200, class_weight=None, coef0=0.0,\n",
      "  decision_function_shape='ovr', degree=3, gamma='auto', kernel='rbf',\n",
      "  max_iter=-1, probability=False, random_state=None, shrinking=True,\n",
      "  tol=0.001, verbose=False)\n"
     ]
    }
   ],
   "source": [
    "from sklearn.svm import SVC\n",
    "\n",
    "svcEstimator = SVC()\n",
    "cv = 3\n",
    "\n",
    "#compare various values of C, kernels (rbf vs linear vs poly),decision_function_shape (ovo vs ovr) \n",
    "parameters = { 'C': [0.01, 0.1, 1]\n",
    "              ,'kernel': ['rbf','linear','poly']\n",
    "             }\n",
    "\n",
    "#Create a grid search object using the  \n",
    "from sklearn.model_selection import GridSearchCV\n",
    "svcGridSearch = GridSearchCV(estimator=svcEstimator\n",
    "                    , n_jobs=8 # jobs to run in parallel\n",
    "                    , verbose=1 # low verbosity\n",
    "                    , param_grid=parameters\n",
    "                    , cv=cv # KFolds = 2\n",
    "                    , scoring='f1')\n",
    "\n",
    "#Perform hyperparameter search to find the best combination of parameters for our data\n",
    "svcGridSearch.fit(X_train_scaled, y_train)\n",
    "#Display the best estimator parameters\n",
    "print(\"The best estimator based on F1 is \", svcGridSearch.best_estimator_)\n",
    "svm_clf = svcGridSearch.best_estimator_ "
   ]
  },
  {
   "cell_type": "code",
   "execution_count": 25,
   "metadata": {},
   "outputs": [
    {
     "name": "stdout",
     "output_type": "stream",
     "text": [
      "SVC(C=1, cache_size=200, class_weight=None, coef0=0.0,\n",
      "  decision_function_shape='ovr', degree=3, gamma='auto', kernel='rbf',\n",
      "  max_iter=-1, probability=False, random_state=None, shrinking=True,\n",
      "  tol=0.001, verbose=False)\n",
      "Accuracy 0.7803565422132526\n",
      "Confusion matrix:\n",
      "[[3818  820]\n",
      " [ 486  822]]\n",
      "f1_score: 0.5572881355932203\n",
      "Precision: 0.5006090133982948\n",
      "Recall: 0.6284403669724771\n"
     ]
    }
   ],
   "source": [
    "from sklearn import metrics as mt\n",
    "from sklearn.metrics import accuracy_score, f1_score, precision_score, recall_score, classification_report, confusion_matrix\n",
    "\n",
    "print(svm_clf)\n",
    "\n",
    "clf = svm_clf\n",
    "\n",
    "clf.fit(X_train_scaled,y_train)\n",
    "yhat = clf.predict(X_test_scaled)\n",
    "    \n",
    "total_accuracy = mt.accuracy_score(y_test, yhat)\n",
    "print ('Accuracy', total_accuracy)\n",
    "conf = mt.confusion_matrix(y_test,yhat)\n",
    "print('Confusion matrix:')\n",
    "print(conf)\n",
    "print('f1_score:', f1_score(y_test, yhat))\n",
    "print('Precision:', precision_score(y_test, yhat))\n",
    "print('Recall:', recall_score(y_test, yhat)) "
   ]
  },
  {
   "cell_type": "markdown",
   "metadata": {},
   "source": [
    "### K-Nearest Neighbor"
   ]
  },
  {
   "cell_type": "code",
   "execution_count": 15,
   "metadata": {},
   "outputs": [
    {
     "name": "stdout",
     "output_type": "stream",
     "text": [
      "Fitting 3 folds for each of 4 candidates, totalling 12 fits\n"
     ]
    },
    {
     "name": "stderr",
     "output_type": "stream",
     "text": [
      "[Parallel(n_jobs=8)]: Done  10 out of  12 | elapsed:  2.7min remaining:   32.3s\n",
      "[Parallel(n_jobs=8)]: Done  12 out of  12 | elapsed:  2.8min finished\n"
     ]
    },
    {
     "name": "stdout",
     "output_type": "stream",
     "text": [
      "The best estimator based on F1 is  KNeighborsClassifier(algorithm='auto', leaf_size=30, metric='minkowski',\n",
      "           metric_params=None, n_jobs=1, n_neighbors=3, p=2,\n",
      "           weights='uniform')\n"
     ]
    }
   ],
   "source": [
    "from sklearn.neighbors import KNeighborsClassifier\n",
    "svcEstimator = KNeighborsClassifier()\n",
    "cv = 3\n",
    "\n",
    "#compare various values of C, kernels (rbf vs linear vs poly),decision_function_shape (ovo vs ovr) \n",
    "parameters = {'n_neighbors': [3,5,7,11]}\n",
    "\n",
    "#Create a grid search object using the  \n",
    "from sklearn.model_selection import GridSearchCV\n",
    "svcGridSearch = GridSearchCV(estimator=svcEstimator\n",
    "                    , n_jobs=8 # jobs to run in parallel\n",
    "                    , verbose=1 # low verbosity\n",
    "                    , param_grid=parameters\n",
    "                    , cv=cv # KFolds = 3\n",
    "                    , scoring='accuracy')\n",
    "\n",
    "svcGridSearch.fit(X_train_scaled, y_train)\n",
    "print(\"The best estimator based on F1 is \", svcGridSearch.best_estimator_)\n",
    "knn_clf = svcGridSearch.best_estimator_"
   ]
  },
  {
   "cell_type": "code",
   "execution_count": 26,
   "metadata": {},
   "outputs": [
    {
     "name": "stdout",
     "output_type": "stream",
     "text": [
      "KNeighborsClassifier(algorithm='auto', leaf_size=30, metric='minkowski',\n",
      "           metric_params=None, n_jobs=1, n_neighbors=3, p=2,\n",
      "           weights='uniform')\n",
      "Accuracy 0.7028254288597376\n",
      "Confusion matrix:\n",
      "[[3442 1196]\n",
      " [ 571  737]]\n",
      "f1_score: 0.45479790188213515\n",
      "Precision: 0.3812726332126229\n",
      "Recall: 0.5634556574923547\n"
     ]
    }
   ],
   "source": [
    "print(knn_clf)\n",
    "\n",
    "clf = knn_clf\n",
    "\n",
    "clf.fit(X_train_scaled,y_train)\n",
    "yhat = clf.predict(X_test_scaled)\n",
    "    \n",
    "total_accuracy = mt.accuracy_score(y_test, yhat)\n",
    "print ('Accuracy', total_accuracy)\n",
    "conf = mt.confusion_matrix(y_test,yhat)\n",
    "print('Confusion matrix:')\n",
    "print(conf)\n",
    "print('f1_score:', f1_score(y_test, yhat))\n",
    "print('Precision:', precision_score(y_test, yhat))\n",
    "print('Recall:', recall_score(y_test, yhat)) "
   ]
  },
  {
   "cell_type": "markdown",
   "metadata": {},
   "source": [
    "### Random Forest"
   ]
  },
  {
   "cell_type": "code",
   "execution_count": 27,
   "metadata": {},
   "outputs": [
    {
     "name": "stdout",
     "output_type": "stream",
     "text": [
      "Fitting 3 folds for each of 12 candidates, totalling 36 fits\n"
     ]
    },
    {
     "name": "stderr",
     "output_type": "stream",
     "text": [
      "[Parallel(n_jobs=8)]: Done  36 out of  36 | elapsed:  3.3min finished\n"
     ]
    },
    {
     "name": "stdout",
     "output_type": "stream",
     "text": [
      "The best estimator based on F1 is  RandomForestClassifier(bootstrap=True, class_weight=None, criterion='gini',\n",
      "            max_depth=50, max_features='auto', max_leaf_nodes=None,\n",
      "            min_impurity_decrease=0.0, min_impurity_split=None,\n",
      "            min_samples_leaf=1, min_samples_split=2,\n",
      "            min_weight_fraction_leaf=0.0, n_estimators=500, n_jobs=1,\n",
      "            oob_score=False, random_state=None, verbose=0,\n",
      "            warm_start=False)\n"
     ]
    }
   ],
   "source": [
    "from sklearn.ensemble import RandomForestClassifier\n",
    "svcEstimator = RandomForestClassifier()\n",
    "cv = 3\n",
    "\n",
    "#compare various values of C, kernels (rbf vs linear vs poly),decision_function_shape (ovo vs ovr) \n",
    "parameters = {'n_estimators': [100,250,500]\n",
    "             , 'max_depth': [5,25,50,100]}\n",
    "\n",
    "#Create a grid search object using the  \n",
    "from sklearn.model_selection import GridSearchCV\n",
    "svcGridSearch = GridSearchCV(estimator=svcEstimator\n",
    "                    , n_jobs=8 # jobs to run in parallel\n",
    "                    , verbose=1 # low verbosity\n",
    "                    , param_grid=parameters\n",
    "                    , cv=cv # KFolds = 3\n",
    "                    , scoring='accuracy')\n",
    "\n",
    "svcGridSearch.fit(X_train_scaled, y_train)\n",
    "print(\"The best estimator based on F1 is \", svcGridSearch.best_estimator_)\n",
    "rf_clf = svcGridSearch.best_estimator_"
   ]
  },
  {
   "cell_type": "code",
   "execution_count": 23,
   "metadata": {},
   "outputs": [
    {
     "name": "stdout",
     "output_type": "stream",
     "text": [
      "Accuracy 0.8227379751093172\n",
      "Confusion matrix:\n",
      "[[4291  347]\n",
      " [ 707  601]]\n",
      "f1_score: 0.5328014184397164\n",
      "Precision: 0.6339662447257384\n",
      "Recall: 0.459480122324159\n"
     ]
    }
   ],
   "source": [
    "clf = rf_clf\n",
    "\n",
    "clf.fit(X_train_scaled,y_train)\n",
    "yhat = clf.predict(X_test_scaled)\n",
    "    \n",
    "total_accuracy = mt.accuracy_score(y_test, yhat)\n",
    "print ('Accuracy', total_accuracy)\n",
    "conf = mt.confusion_matrix(y_test,yhat)\n",
    "print('Confusion matrix:')\n",
    "print(conf)\n",
    "print('f1_score:', f1_score(y_test, yhat))\n",
    "print('Precision:', precision_score(y_test, yhat))\n",
    "print('Recall:', recall_score(y_test, yhat)) "
   ]
  },
  {
   "cell_type": "markdown",
   "metadata": {},
   "source": [
    "### Classifier Evaluation\n",
    "In the following section we evaluate the different classifiers and determine the model that we would like to use going forward."
   ]
  },
  {
   "cell_type": "code",
   "execution_count": 36,
   "metadata": {},
   "outputs": [
    {
     "name": "stdout",
     "output_type": "stream",
     "text": [
      "SVM F1 Score  0.5572881355932203\n",
      "KNN F1 Score  0.45479790188213515\n",
      "KNN F1 Score  0.5261744966442953\n"
     ]
    }
   ],
   "source": [
    "#get the predictions from the three models for evaluation\n",
    "yhat_svm = svm_clf.predict(X_test_scaled)\n",
    "yhat_knn = knn_clf.predict(X_test_scaled)\n",
    "yhat_rf = rf_clf.predict(X_test_scaled)\n",
    "\n",
    "print(\"SVM F1 Score \", f1_score(y_test, yhat_svm))\n",
    "print(\"KNN F1 Score \", f1_score(y_test, yhat_knn))\n",
    "print(\"KNN F1 Score \", f1_score(y_test, yhat_rf))\n"
   ]
  },
  {
   "cell_type": "markdown",
   "metadata": {},
   "source": [
    "### Feature Importance"
   ]
  },
  {
   "cell_type": "markdown",
   "metadata": {},
   "source": [
    "Continue rigorous detailed evaluation of different components"
   ]
  },
  {
   "cell_type": "markdown",
   "metadata": {},
   "source": [
    "# Predicting Education Level from Credit History\n",
    "The goal of these models is to try and classify a customers education by looking at there payment history.\n",
    "\n",
    "### Modeling & Evaluation Considerations\n",
    "\n",
    "Part 1)\n",
    "\n",
    "One use for this suite of models is to apply marketing strategies for other products to these demographic groups if the customer does not provide the information.\n",
    "\n",
    "The evaluation metric should again consider a balance between Recall and Precision. Low Recall again represents a missed opportunity to apply a more targeted strategy, and low Precision would result in the wrong strategy applied to a given prospect.\n",
    "\n",
    "Applying the wrong strategy can be expected to decrease the credibility of the business in the customer's view, and may make the customer less likely to respond to other offers.\n",
    "\n",
    "Since F1 considers both, we will choose it as the evaluation metric for this as well.\n",
    "\n",
    "Part 2)\n",
    "\n",
    "For this part of the analysis we have a similar class imbalance problem as what we had in our default example. However, in order to better understand the effects of this issue we chose not to re-balance this data. Our cross validation technique is the same as before. We split the data into training and test sets using an 80/20 split. Using the training data to train our models and evaluating on the remaining 20."
   ]
  },
  {
   "cell_type": "markdown",
   "metadata": {},
   "source": [
    "### Data Preperation - Education Classification Specific\n",
    "Below we perform several steps that explain some of the data preparation tasks that are specific to the goal of classifying education."
   ]
  },
  {
   "cell_type": "code",
   "execution_count": 9,
   "metadata": {},
   "outputs": [
    {
     "name": "stdout",
     "output_type": "stream",
     "text": [
      "ShuffleSplit(n_splits=5, random_state=None, test_size=0.2, train_size=None)\n"
     ]
    }
   ],
   "source": [
    "#Create a separate dataset with only useful variables as identified in Lab1 and Mini-lab1.\n",
    "default = df[['SEX','EDUCATION','MARRIAGE','AGE', 'default'\n",
    "            ,'PAY_0','PAY_2', 'PAY_3', 'PAY_4', 'PAY_5','PAY_6', \"log_LIMIT_BAL\"\n",
    "            ,\"log_PAY_AMT1\",\"log_PAY_AMT2\",\"log_PAY_AMT3\",\"log_PAY_AMT4\",\"log_PAY_AMT5\"\n",
    "            ,\"log_PAY_AMT6\", \"log_BILL_AMT1\",\"log_BILL_AMT2\",\"log_BILL_AMT3\",\n",
    "             \"log_BILL_AMT4\",\"log_BILL_AMT5\",\"log_BILL_AMT6\"]]\n",
    "\n",
    "# perform one-hot encoding of the categorical data \"EDUCATION\" and \"MARRIAGE\".\n",
    "tmp_df_2 = pd.get_dummies(df.MARRIAGE,prefix='MARRIAGE')\n",
    "educ = pd.concat((df,tmp_df_2),axis=1)\n",
    "del educ['MARRIAGE']\n",
    "\n",
    "from sklearn.model_selection import ShuffleSplit\n",
    "\n",
    "# we want to predict the X and y data as follows:\n",
    "if 'default' in educ:\n",
    "    y = educ['EDUCATION'].values # get the labels we want\n",
    "    del educ['EDUCATION'] # get rid of the class label\n",
    "    X = educ.values # use everything else to predict!\n",
    "\n",
    "    ## X and y are now numpy matrices, by calling 'values' on the pandas data frames we\n",
    "    #    have converted them into simple matrices to use with scikit learn\n",
    "    \n",
    "    \n",
    "# to use the cross validation object in scikit learn, we need to grab an instance\n",
    "#    of the object and set it up. This object will be able to split our data into \n",
    "#    training and testing splits\n",
    "num_cv_iterations = 5\n",
    "num_instances = len(y)\n",
    "cv_object = ShuffleSplit(n_splits=num_cv_iterations,\n",
    "                         test_size  = 0.2)\n",
    "                         \n",
    "print(cv_object)"
   ]
  },
  {
   "cell_type": "code",
   "execution_count": 12,
   "metadata": {},
   "outputs": [
    {
     "name": "stdout",
     "output_type": "stream",
     "text": [
      "Dimensions of training features are  (24000, 38)\n",
      "Dimensions of training target are  (24000,)\n",
      "Dimensions of testing features are  (6000, 38)\n",
      "Dimensions of testing target are  (6000,)\n"
     ]
    }
   ],
   "source": [
    "from sklearn.preprocessing import StandardScaler\n",
    "\n",
    "scl_obj = StandardScaler()\n",
    "\n",
    "for train_indices, test_indices in cv_object.split(X,y): \n",
    "    \n",
    "    X_train = X[train_indices]\n",
    "    y_train = y[train_indices]\n",
    "    \n",
    "    X_test = X[test_indices]\n",
    "    y_test = y[test_indices]\n",
    "    \n",
    "scl_obj.fit(X_train)\n",
    "\n",
    "X_train_scaled = scl_obj.transform(X_train)\n",
    "X_test_scaled = scl_obj.transform(X_test)\n",
    "\n",
    "print(\"Dimensions of training features are \" , X_train.shape)\n",
    "print(\"Dimensions of training target are \" , y_train.shape)\n",
    "print(\"Dimensions of testing features are \" , X_test.shape)\n",
    "print(\"Dimensions of testing target are \" , y_test.shape)"
   ]
  },
  {
   "cell_type": "markdown",
   "metadata": {},
   "source": [
    "### Comparing Different Classifier Models\n",
    "\n",
    "For this particular problem we will compare three different models:\n",
    "\n",
    "1. Support Vector Machine\n",
    "2. K Nearest Neighbor \n",
    "3. Random Forest\n",
    "\n",
    "To ensure we are chosing the right parameters of each model we will be using sklearns GridSearchCV with a 3 fold cross validation to identify the best estimators based on the accuracy. \n",
    "\n",
    "### Support Vector Machines"
   ]
  },
  {
   "cell_type": "code",
   "execution_count": 15,
   "metadata": {},
   "outputs": [
    {
     "name": "stdout",
     "output_type": "stream",
     "text": [
      "Accuracy: 0.5338333333333334\n",
      "Confusion matrix:\n",
      "[[1029 1089    0    0]\n",
      " [ 655 2174    0    0]\n",
      " [ 173  794    0    0]\n",
      " [  19   67    0    0]]\n",
      "classification_report:\n",
      "             precision    recall  f1-score   support\n",
      "\n",
      "          1       0.55      0.49      0.52      2118\n",
      "          2       0.53      0.77      0.63      2829\n",
      "          3       0.00      0.00      0.00       967\n",
      "          4       0.00      0.00      0.00        86\n",
      "\n",
      "avg / total       0.44      0.53      0.48      6000\n",
      "\n"
     ]
    },
    {
     "name": "stderr",
     "output_type": "stream",
     "text": [
      "C:\\Users\\bsnxw01\\AppData\\Local\\Continuum\\anaconda3\\lib\\site-packages\\sklearn\\metrics\\classification.py:1135: UndefinedMetricWarning: Precision and F-score are ill-defined and being set to 0.0 in labels with no predicted samples.\n",
      "  'precision', 'predicted', average, warn_for)\n"
     ]
    },
    {
     "data": {
      "text/plain": [
       "<Figure size 640x480 with 1 Axes>"
      ]
     },
     "metadata": {},
     "output_type": "display_data"
    }
   ],
   "source": [
    "# lets investigate SVMs on the data\n",
    "from sklearn.svm import SVC\n",
    "from sklearn import metrics as mt\n",
    "from sklearn.metrics import accuracy_score, f1_score, precision_score, recall_score, classification_report, confusion_matrix\n",
    "\n",
    "# train the model\n",
    "svm_clf = SVC(C=0.5, kernel='linear', degree=5, gamma='auto') # get object\n",
    "svm_clf.fit(X_train_scaled, y_train)  # train object\n",
    "\n",
    "y_hat = svm_clf.predict(X_test_scaled) # get test set precitions\n",
    "\n",
    "acc = mt.accuracy_score(y_test,y_hat)\n",
    "conf = mt.confusion_matrix(y_test,y_hat)\n",
    "print('Accuracy:', acc )\n",
    "print('Confusion matrix:')\n",
    "print(conf)\n",
    "print('classification_report:')\n",
    "print(classification_report(y_test, y_hat))"
   ]
  },
  {
   "cell_type": "markdown",
   "metadata": {},
   "source": [
    "### K-Nearest Neighbor"
   ]
  },
  {
   "cell_type": "code",
   "execution_count": 16,
   "metadata": {},
   "outputs": [
    {
     "name": "stdout",
     "output_type": "stream",
     "text": [
      "KNN accuracy 0.403\n",
      "Confusion matrix:\n",
      "[[ 955  998  158    7]\n",
      " [1204 1369  254    2]\n",
      " [ 408  465   94    0]\n",
      " [  34   38   14    0]]\n",
      "classification_report:\n",
      "             precision    recall  f1-score   support\n",
      "\n",
      "          1       0.37      0.45      0.40      2118\n",
      "          2       0.48      0.48      0.48      2829\n",
      "          3       0.18      0.10      0.13       967\n",
      "          4       0.00      0.00      0.00        86\n",
      "\n",
      "avg / total       0.38      0.40      0.39      6000\n",
      "\n"
     ]
    },
    {
     "data": {
      "image/png": "[encoded data removed]",
      "text/plain": [
       "<Figure size 432x288 with 1 Axes>"
      ]
     },
     "metadata": {},
     "output_type": "display_data"
    }
   ],
   "source": [
    "from sklearn.neighbors import KNeighborsClassifier\n",
    "from sklearn.model_selection import StratifiedKFold\n",
    "from sklearn.preprocessing import StandardScaler\n",
    "import numpy as np\n",
    "from sklearn import metrics as mt\n",
    "\n",
    "\n",
    "# get a handle to the classifier object, which defines the type\n",
    "clf = KNeighborsClassifier(n_neighbors=3)\n",
    "\n",
    "# now iterate through and get predictions, saved to the correct row in yhat\n",
    "# NOTE: you can parallelize this using the cross_val_predict method\n",
    "for train, test in cv_object.split(X,y):\n",
    "    clf.fit(X[train],y[train])\n",
    "    yhat = clf.predict(X[test])\n",
    "\n",
    "total_accuracy = mt.accuracy_score(y_test, yhat)\n",
    "print ('KNN accuracy', total_accuracy)\n",
    "conf = mt.confusion_matrix(y_test,yhat)\n",
    "print('Confusion matrix:')\n",
    "print(conf)\n",
    "print('classification_report:')\n",
    "print(classification_report(y_test, yhat))  \n",
    "plot_class_acc(y_test,yhat,title=\"KNN\")"
   ]
  },
  {
   "cell_type": "markdown",
   "metadata": {},
   "source": [
    "### Random Forest"
   ]
  },
  {
   "cell_type": "code",
   "execution_count": 17,
   "metadata": {},
   "outputs": [
    {
     "name": "stdout",
     "output_type": "stream",
     "text": [
      "Accuracy 0.4195\n",
      "Confusion matrix:\n",
      "[[ 738 1284   96    0]\n",
      " [ 978 1733  117    1]\n",
      " [ 319  602   46    0]\n",
      " [  27   54    5    0]]\n",
      "classification_report:\n",
      "             precision    recall  f1-score   support\n",
      "\n",
      "          1       0.36      0.35      0.35      2118\n",
      "          2       0.47      0.61      0.53      2829\n",
      "          3       0.17      0.05      0.07       967\n",
      "          4       0.00      0.00      0.00        86\n",
      "\n",
      "avg / total       0.38      0.42      0.39      6000\n",
      "\n"
     ]
    },
    {
     "data": {
      "image/png": "[encoded data removed]",
      "text/plain": [
       "<Figure size 432x288 with 1 Axes>"
      ]
     },
     "metadata": {},
     "output_type": "display_data"
    }
   ],
   "source": [
    "from sklearn.ensemble import RandomForestClassifier\n",
    "from sklearn.metrics import accuracy_score, f1_score, precision_score, recall_score, classification_report, confusion_matrix\n",
    "\n",
    "clf = RandomForestClassifier(max_depth=100, n_estimators=300, n_jobs=-1, oob_score=True)\n",
    "\n",
    "# now iterate through and get predictions, saved to the correct row in yhat\n",
    "for train, test in cv_object.split(X,y):\n",
    "    clf.fit(X[train],y[train])\n",
    "    yhat = clf.predict(X[test])\n",
    "    \n",
    "total_accuracy = mt.accuracy_score(y_test, yhat)\n",
    "print ('Accuracy', total_accuracy)\n",
    "conf = mt.confusion_matrix(y_test,yhat)\n",
    "print('Confusion matrix:')\n",
    "print(conf)\n",
    "print('classification_report:')\n",
    "print(classification_report(y_test, yhat))\n",
    "plot_class_acc(y_test,yhat,title=\"Random Forest\")"
   ]
  },
  {
   "cell_type": "markdown",
   "metadata": {},
   "source": [
    "### Model Evaluation"
   ]
  },
  {
   "cell_type": "markdown",
   "metadata": {},
   "source": [
    "### Feature Importance"
   ]
  },
  {
   "cell_type": "markdown",
   "metadata": {},
   "source": [
    "# Model Deployment"
   ]
  },
  {
   "cell_type": "markdown",
   "metadata": {},
   "source": [
    "# Exceptional Work"
   ]
  },
  {
   "cell_type": "code",
   "execution_count": null,
   "metadata": {},
   "outputs": [],
   "source": []
  }
 ],
 "metadata": {
  "kernelspec": {
   "display_name": "Python 3",
   "language": "python",
   "name": "python3"
  },
  "language_info": {
   "codemirror_mode": {
    "name": "ipython",
    "version": 3
   },
   "file_extension": ".py",
   "mimetype": "text/x-python",
   "name": "python",
   "nbconvert_exporter": "python",
   "pygments_lexer": "ipython3",
   "version": "3.6.5"
  }
 },
 "nbformat": 4,
 "nbformat_minor": 2
}
