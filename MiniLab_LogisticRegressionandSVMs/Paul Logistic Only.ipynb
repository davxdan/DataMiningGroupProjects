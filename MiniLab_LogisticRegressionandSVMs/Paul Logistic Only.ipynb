{
 "cells": [
  {
   "cell_type": "markdown",
   "metadata": {},
   "source": [
    "## Mini-Lab 1\n",
    "Daniel Davieau, Nathan Wall, Olga Tanyuk and Paul Panek\n",
    "\n",
    "#### Project Review\n",
    "\n",
    "The purpose of this data set is to predict whether or not individual credit card clients (in Taiwan) will default.\n",
    "\n",
    "The primary explanatory variables include:\n",
    "- Six months of Payment Amounts, Billed Amounts and the Timeliness of each Payment.\n",
    "- Demographic information: Marital Status, Sex, Age and Level of Education.\n",
    "    \n",
    "A description of all variables in the data set is provided in the last cell of this notebook for reference.\n",
    "\n",
    "##### Data Preparation and Transformation\n",
    "\n"
   ]
  },
  {
   "cell_type": "code",
   "execution_count": 1,
   "metadata": {
    "collapsed": false
   },
   "outputs": [],
   "source": [
    "import pandas as pd\n",
    "import numpy as np\n",
    "from sklearn.linear_model import LogisticRegression\n",
    "from sklearn.model_selection import ShuffleSplit\n",
    "from sklearn import metrics as mt\n",
    "from sklearn.preprocessing import StandardScaler\n",
    "\n",
    "df = pd.read_csv('data/DefaultCreditcardClients.csv')\n",
    "df.rename(columns={'default payment next month':'default'}, inplace=True)\n",
    "\n",
    "#set index to the \"ID\" value and remove the ID column\n",
    "df.index = df.ID\n",
    "del df['ID']\n",
    "\n",
    "#Create Lists for Analysis\n",
    "continuous_features = ['LIMIT_BAL', 'BILL_AMT1', 'BILL_AMT2','BILL_AMT3',\n",
    "                       'BILL_AMT4', 'BILL_AMT5', 'BILL_AMT6', 'PAY_AMT1',\n",
    "                       'PAY_AMT2', 'PAY_AMT3', 'PAY_AMT4', 'PAY_AMT5',\n",
    "                       'PAY_AMT6']\n",
    "ordinal_features = ['EDUCATION', 'MARRIAGE', 'AGE', 'PAY_0','PAY_2', 'PAY_3',\n",
    "                    'PAY_4', 'PAY_5', 'PAY_6','default']\n",
    "\n",
    "#Convert datatypes\n",
    "df[continuous_features] = df[continuous_features].astype(np.float64)\n",
    "df[ordinal_features] = df[ordinal_features].astype(np.int64)\n",
    "\n",
    "#convert any non-identified education categories to 'OTHER'\n",
    "df['EDUCATION'] = df['EDUCATION'].replace(to_replace=(0,5,6),value=4)\n",
    "\n",
    "#convert any non-identified marriage categories to 'OTHER'\n",
    "df['MARRIAGE'] = df['MARRIAGE'].replace(to_replace=(0),value=3)\n",
    "\n",
    "#Log transform continuous variables; as they each have a mostly \n",
    "##exponential distribution\n",
    "df[\"log_LIMIT_BAL\"]=np.log(df.LIMIT_BAL)\n",
    "df[\"log_PAY_AMT1\"]=np.log(df.PAY_AMT1+1)\n",
    "df[\"log_PAY_AMT2\"]=np.log(df.PAY_AMT2+1)\n",
    "df[\"log_PAY_AMT3\"]=np.log(df.PAY_AMT3+1)\n",
    "df[\"log_PAY_AMT4\"]=np.log(df.PAY_AMT4+1)\n",
    "df[\"log_PAY_AMT5\"]=np.log(df.PAY_AMT5+1)\n",
    "df[\"log_PAY_AMT6\"]=np.log(df.PAY_AMT6+1)\n",
    "\n",
    "\n",
    "# One-hot encoding of \"EDUCATION\" and \"MARRIAGE\".\n",
    "tmp_df_1 = pd.get_dummies(df.EDUCATION,prefix='EDUCATION')\n",
    "tmp_df_2 = pd.get_dummies(df.MARRIAGE,prefix='MARRIAGE')\n",
    "df = pd.concat((df,tmp_df_1,tmp_df_2),axis=1)\n",
    "\n",
    "#Create a separate dataset in case we need to come back to original\n",
    "dfsub = df.copy()\n",
    "#dfsub = pd.concat((df,tmp_df_1,tmp_df_2),axis=1)\n",
    "\n",
    "#We will not need these attributes. We are using log of them instead.\n",
    "del dfsub['LIMIT_BAL']\n",
    "del dfsub['PAY_AMT1']\n",
    "del dfsub['PAY_AMT2']\n",
    "del dfsub['PAY_AMT3']\n",
    "del dfsub['PAY_AMT4']\n",
    "del dfsub['PAY_AMT5']\n",
    "del dfsub['PAY_AMT6']\n",
    "\n",
    "#We found in Lab1 that there is high correlation between BILL Amount and Pay \n",
    "##Amounts so ignore bill amount for now\n",
    "del dfsub['BILL_AMT1']\n",
    "del dfsub['BILL_AMT2']\n",
    "del dfsub['BILL_AMT3']\n",
    "del dfsub['BILL_AMT4']\n",
    "del dfsub['BILL_AMT5']\n",
    "del dfsub['BILL_AMT6']\n",
    "\n",
    "#Drop variables for which we used one-hot encoding\n",
    "del dfsub['EDUCATION']\n",
    "del dfsub['MARRIAGE']"
   ]
  },
  {
   "cell_type": "code",
   "execution_count": 2,
   "metadata": {
    "collapsed": false
   },
   "outputs": [
    {
     "name": "stdout",
     "output_type": "stream",
     "text": [
      "<class 'pandas.core.frame.DataFrame'>\n",
      "Int64Index: 30000 entries, 1 to 30000\n",
      "Data columns (total 23 columns):\n",
      "SEX              30000 non-null int64\n",
      "AGE              30000 non-null int64\n",
      "PAY_0            30000 non-null int64\n",
      "PAY_2            30000 non-null int64\n",
      "PAY_3            30000 non-null int64\n",
      "PAY_4            30000 non-null int64\n",
      "PAY_5            30000 non-null int64\n",
      "PAY_6            30000 non-null int64\n",
      "default          30000 non-null int64\n",
      "log_LIMIT_BAL    30000 non-null float64\n",
      "log_PAY_AMT1     30000 non-null float64\n",
      "log_PAY_AMT2     30000 non-null float64\n",
      "log_PAY_AMT3     30000 non-null float64\n",
      "log_PAY_AMT4     30000 non-null float64\n",
      "log_PAY_AMT5     30000 non-null float64\n",
      "log_PAY_AMT6     30000 non-null float64\n",
      "EDUCATION_1      30000 non-null uint8\n",
      "EDUCATION_2      30000 non-null uint8\n",
      "EDUCATION_3      30000 non-null uint8\n",
      "EDUCATION_4      30000 non-null uint8\n",
      "MARRIAGE_1       30000 non-null uint8\n",
      "MARRIAGE_2       30000 non-null uint8\n",
      "MARRIAGE_3       30000 non-null uint8\n",
      "dtypes: float64(7), int64(9), uint8(7)\n",
      "memory usage: 4.1 MB\n"
     ]
    }
   ],
   "source": [
    "dfsub.info()"
   ]
  },
  {
   "cell_type": "markdown",
   "metadata": {},
   "source": [
    "### Paul Comments:  \n",
    "\n",
    "#### In the cell above i changed dfsub = df to dfsub = df.copy()   - without the copy(), it wasn't keepig the original set.\n",
    "\n",
    "#### In the cell below, I added a seed to the ShuffleSplit by adding random_state=0.\n"
   ]
  },
  {
   "cell_type": "code",
   "execution_count": 3,
   "metadata": {
    "collapsed": false
   },
   "outputs": [
    {
     "name": "stdout",
     "output_type": "stream",
     "text": [
      "ShuffleSplit(n_splits=10, random_state=0, test_size=0.2, train_size=None)\n"
     ]
    }
   ],
   "source": [
    "#Isolate the \"default\" variable into y and keep everythign else in X to use for predictions:\n",
    "if 'default' in dfsub:\n",
    "    y = dfsub['default'].values\n",
    "    del dfsub['default'] \n",
    "    X = dfsub.values\n",
    "\n",
    "#Create a reuseable cv_object:  Random State keeps the seed.\n",
    "num_cv_iterations = 10\n",
    "num_instances = len(y)\n",
    "cv_object = ShuffleSplit(n_splits=num_cv_iterations,test_size  = 0.2,random_state=0)\n",
    "\n",
    "print(cv_object)"
   ]
  },
  {
   "cell_type": "markdown",
   "metadata": {
    "collapsed": true
   },
   "source": [
    "##  Logistic Regression Model"
   ]
  },
  {
   "cell_type": "code",
   "execution_count": 4,
   "metadata": {
    "collapsed": false
   },
   "outputs": [
    {
     "name": "stdout",
     "output_type": "stream",
     "text": [
      "accuracy: 0.8126666666666666\n",
      "[[4534  179]\n",
      " [ 945  342]]\n",
      "log_PAY_AMT1 has weight of -0.1807909712200579\n",
      "log_PAY_AMT3 has weight of -0.16150368469918397\n",
      "EDUCATION_4 has weight of -0.13477120833523076\n",
      "log_LIMIT_BAL has weight of -0.1344163816867008\n",
      "log_PAY_AMT2 has weight of -0.12031113408502857\n",
      "log_PAY_AMT4 has weight of -0.11991702387361629\n",
      "SEX has weight of -0.04916837255181689\n",
      "MARRIAGE_2 has weight of -0.041628652006493246\n",
      "log_PAY_AMT6 has weight of -0.03842323703413686\n",
      "log_PAY_AMT5 has weight of -0.037378558263821124\n",
      "MARRIAGE_3 has weight of -0.018674079818716403\n",
      "EDUCATION_3 has weight of -0.004393087552692627\n",
      "EDUCATION_2 has weight of 0.0071617032071382095\n",
      "PAY_4 has weight of 0.028147326180670777\n",
      "EDUCATION_1 has weight of 0.031269711563942815\n",
      "MARRIAGE_1 has weight of 0.045858186508005605\n",
      "PAY_2 has weight of 0.04656442628792501\n",
      "AGE has weight of 0.050218582144257645\n",
      "PAY_5 has weight of 0.10333476027718924\n",
      "PAY_6 has weight of 0.11501155541006708\n",
      "PAY_3 has weight of 0.12806157029791332\n",
      "PAY_0 has weight of 0.5392469996509014\n"
     ]
    }
   ],
   "source": [
    "###  I THINK this is still using the internal CV ....\n",
    "# Went directly to the case using standardScaler.\n",
    "from sklearn.preprocessing import StandardScaler\n",
    "\n",
    "#Train and test data set variables:\n",
    "for train_indices, test_indices in cv_object.split(X,y): \n",
    "    X_train = X[train_indices]\n",
    "    y_train = y[train_indices]\n",
    "    X_test = X[test_indices]\n",
    "    y_test = y[test_indices]\n",
    "\n",
    "# scale attributes by the training set\n",
    "scl_obj = StandardScaler()\n",
    "scl_obj.fit(X_train)\n",
    "\n",
    "X_train_scaled = scl_obj.transform(X_train) # apply to training\n",
    "X_test_scaled = scl_obj.transform(X_test) # apply those means and std to the test set (without snooping at the test set values)\n",
    "\n",
    "# train the model\n",
    "lr_clf = LogisticRegression(penalty='l2', C=.05) \n",
    "lr_clf.fit(X_train_scaled,y_train)  # train object\n",
    "\n",
    "y_hat = lr_clf.predict(X_test_scaled) # get test set precitions\n",
    "\n",
    "acc = mt.accuracy_score(y_test,y_hat)\n",
    "conf = mt.confusion_matrix(y_test,y_hat)\n",
    "\n",
    "print('accuracy:', acc )\n",
    "print(conf )\n",
    "\n",
    "# sort these attributes and print\n",
    "zip_vars = zip(lr_clf.coef_.T,dfsub.columns) # combine attributes\n",
    "zip_vars = sorted(zip_vars)\n",
    "for coef, name in zip_vars:\n",
    "    print(name, 'has weight of', coef[0]) # now print them out"
   ]
  },
  {
   "cell_type": "markdown",
   "metadata": {},
   "source": [
    "###### Model Quality: \n",
    "\n",
    "At initial tuning levels, while the accuracy of this model is more than 81%, performance is not acceptable.\n",
    "- Accuracy is similar to the overall share of Negative cases in the set.\n",
    "- Specificity (True Negatives/Total Actual Negatives) is 96%, but\n",
    "- Sensitivity/Recall (True Positives/Total Actual Positives) is only 27%.\n",
    "- Precision:  Only 66% of the predicted positives were correct."
   ]
  },
  {
   "cell_type": "markdown",
   "metadata": {},
   "source": [
    "### Tuning"
   ]
  },
  {
   "cell_type": "code",
   "execution_count": 5,
   "metadata": {
    "collapsed": false
   },
   "outputs": [
    {
     "name": "stdout",
     "output_type": "stream",
     "text": [
      "C= 0.05 Class_Weight=None\n",
      "accuracy: 0.8126666666666666\n",
      "[[4534  179]\n",
      " [ 945  342]]\n",
      "C= 1.0 Class_Weight=None\n",
      "accuracy: 0.8126666666666666\n",
      "[[4534  179]\n",
      " [ 945  342]]\n",
      "C= 20.0 Class_Weight=None\n",
      "accuracy: 0.8126666666666666\n",
      "[[4534  179]\n",
      " [ 945  342]]\n",
      "C= 0.05 Class_Weight=balanced\n",
      "accuracy: 0.7281666666666666\n",
      "[[3560 1153]\n",
      " [ 478  809]]\n",
      "C= 1.0 Class_Weight=balanced\n",
      "accuracy: 0.7285\n",
      "[[3563 1150]\n",
      " [ 479  808]]\n",
      "C= 20.0 Class_Weight=balanced\n",
      "accuracy: 0.7285\n",
      "[[3563 1150]\n",
      " [ 479  808]]\n"
     ]
    }
   ],
   "source": [
    "# Setting three alternatives for C\n",
    "Param = [.05,1.0,20.0]\n",
    "\n",
    "for z in Param:\n",
    "    lr_clf = LogisticRegression(penalty='l2', C=z, class_weight=None) \n",
    "    lr_clf.fit(X_train_scaled,y_train)  # train object\n",
    "\n",
    "    y_hat = lr_clf.predict(X_test_scaled) # get test set precitions\n",
    "\n",
    "    acc = mt.accuracy_score(y_test,y_hat)\n",
    "    conf = mt.confusion_matrix(y_test,y_hat)\n",
    "\n",
    "    print('C=', z, 'Class_Weight=None')\n",
    "    print('accuracy:', acc )\n",
    "    print(conf )\n",
    "    \n",
    "for z in Param:\n",
    "    lr_clf = LogisticRegression(penalty='l2', C=z, class_weight='balanced') \n",
    "    lr_clf.fit(X_train_scaled,y_train)  # train object\n",
    "\n",
    "    y_hat = lr_clf.predict(X_test_scaled) # get test set precitions\n",
    "\n",
    "    acc = mt.accuracy_score(y_test,y_hat)\n",
    "    conf = mt.confusion_matrix(y_test,y_hat)\n",
    "\n",
    "    print('C=', z, 'Class_Weight=balanced')\n",
    "    print('accuracy:', acc )\n",
    "    print(conf )"
   ]
  },
  {
   "cell_type": "markdown",
   "metadata": {},
   "source": [
    "### Tuning\n",
    "\n",
    "Impact of tuning C is negligible.  The number of True and False Negatives is unchanged, and the number of True and False positives only changed by one.\n",
    "Impact on overall accuracy was negligible as well.\n",
    "\n",
    "Impact of using standard scaler vs not using it (not shown) was also very small.\n",
    "\n",
    "Using balanced Class_Weight does change performance.\n",
    "- Accuracy drops to just under 73%.\n",
    "- Precision drops to 41% from 66%.\n",
    "- Specificity drops to 76% from 96%, but\n",
    "- Recall increases to 63% from 27%.\n",
    "\n",
    "Even though the Recall increases, it still does not seem reasonable, and the other measures degrade.\n"
   ]
  },
  {
   "cell_type": "code",
   "execution_count": 8,
   "metadata": {
    "collapsed": false
   },
   "outputs": [
    {
     "data": {
      "image/png": "[encoded data removed]",
      "text/plain": [
       "<Figure size 432x288 with 1 Axes>"
      ]
     },
     "metadata": {},
     "output_type": "display_data"
    }
   ],
   "source": [
    "from matplotlib import pyplot as plt\n",
    "%matplotlib inline\n",
    "plt.style.use('ggplot')\n",
    "\n",
    "weights = pd.Series(lr_clf.coef_[0],index=dfsub.columns)\n",
    "weights2 = weights.sort_values(ascending = False)\n",
    "weights2.plot(kind='bar')\n",
    "plt.show()\n",
    "\n",
    "#df_c = df_c.sort_values('Count')"
   ]
  },
  {
   "cell_type": "markdown",
   "metadata": {},
   "source": [
    "### Logistic Regression:  Interpretation of Weights\n",
    "\n",
    "- The most important feature in predicting delinquency is how delinquent the most recent payment was.  The more delinquent the payment, the more likely the account is to default.  The second most important feature is the log of the most recent payment amount.  The higher the payment, the less likely the account is to default.  All of this is consistent with intuitive expectations.\n",
    "\n",
    "- In general, the most important features are the delinquency status of some payments made, the amounts paid and the credit limit.  We are ignoring the Education Level 4, because that is a catch-all category with few values.\n",
    "\n",
    "We are struck by the preponderance of low weights in this data set.  This could be due to:\n",
    "- The existence of serial correlation among variables, which include sequential payments and the tendency of customers to be consistent in terms of the delinquency of the payments they make from month to month.  \n",
    "\n",
    "- We may need to include additional (calculated) variables, such as the number of times delinquent.\n",
    "- We may need to segment customers into groups, for example light and heavy users of their cards.\n",
    "- The relationship between certain explanatory variables and the response may not be modeled correctly.  For example, the \"Pay\" (Delinquency) variables are ordinal, and we are treating them as continuous.  We may need to treat them as categorical.\n",
    "\n"
   ]
  },
  {
   "cell_type": "markdown",
   "metadata": {},
   "source": [
    "## APPENDIX:  Description of the Data Set\n",
    "\n",
    "#### Attribute Information\n",
    "The data used is \"Default of Credit Card Clients\" from UCI. It was attained by I-Cheng Yeh with Chung Hua University and Tamkang University in Taiwan. The original goal was to predict default rates.\n",
    "\n",
    "The data has a 6 month history of 30,000 Taiwanese credit account balances and transactions. Each observation contains a binary reponse variable \"default\" with values 1 indicating a default occured and 0 indicating no default occured.\n",
    "\n",
    "The following explanatory variables are included:\n",
    "\n",
    " - LIMIT_BAL = Total credit amount allowed\n",
    " \n",
    " - SEX\n",
    "     -  1 = Male\n",
    "     -  2 = Female\n",
    " \n",
    " - EDUCATION\n",
    "     - 1 = Graduate School\n",
    "     - 2 = University\n",
    "     - 3 = High School\n",
    "     - 4 = Other\n",
    "   \n",
    " - MARRIAGE\n",
    "     - 1 = Married\n",
    "     - 2 = Single\n",
    "     - 3 = Other\n",
    "       \n",
    " - AGE = Credit holder age in years\n",
    " \n",
    "Payment history (2005)\n",
    " - PAY_0 = September\n",
    " - PAY_2 = August\n",
    " - PAY_3 = July\n",
    " - PAY_4 = June\n",
    " - PAY_5 = May\n",
    " - PAY_6 = April\n",
    "      -  -1 = payment received on time\n",
    "      -   1 = payment received one month late\n",
    "      -   2 = payment received two months late\n",
    "      -   \"......\"\n",
    "      -   9 = payment received nine months late or more\n",
    "         \n",
    "Statement amount (NT dollars, 2005)\n",
    " - BILL_AMT1 = September\n",
    " - BILL_AMT2 = August\n",
    " - BILL_AMT3 = July\n",
    " - BILL_AMT4 = June\n",
    " - BILL_AMT5 = May\n",
    " - BILL_AMT6 = April\n",
    " \n",
    "Payment amount (NT dollars, 2005).\n",
    " - PAY_AMT1 = September\n",
    " - PAY_AMT2 = August\n",
    " - PAY_AMT3 = July\n",
    " - PAY_AMT4 = June\n",
    " - PAY_AMT5 = May\n",
    " - PAY_AMT6 = April\n",
    "\n",
    "Original Source Data Set Information  \n",
    "https://archive.ics.uci.edu/ml/datasets/default+of+credit+card+clients#"
   ]
  },
  {
   "cell_type": "markdown",
   "metadata": {},
   "source": [
    "# Garbage Code Below"
   ]
  },
  {
   "cell_type": "code",
   "execution_count": null,
   "metadata": {
    "collapsed": true
   },
   "outputs": [],
   "source": [
    "#Create logistic regression object\n",
    "lr_clf = LogisticRegression(penalty='l2', C=12, class_weight=None)\n",
    "\n",
    "#Set our iteration count variablew to 0\n",
    "iter_num=0\n",
    "\n",
    "#Set our train and test data set variables:\n",
    "for train_indices, test_indices in cv_object.split(X,y): \n",
    "    X_train = X[train_indices]\n",
    "    y_train = y[train_indices]\n",
    "    X_test = X[test_indices]\n",
    "    y_test = y[test_indices]\n",
    "\n",
    "#Fit the model, output accuracy and confusion matrices:\n",
    "    lr_clf.fit(X_train,y_train)\n",
    "    y_hat = lr_clf.predict(X_test)\n",
    "    acc = mt.accuracy_score(y_test,y_hat)\n",
    "    conf = mt.confusion_matrix(y_test,y_hat)\n",
    "    print(\"====Iteration\",iter_num,\" ====\")\n",
    "    print(\"accuracy\", acc )\n",
    "    print(\"confusion matrix\\n\",conf)\n",
    "    iter_num+=1"
   ]
  },
  {
   "cell_type": "code",
   "execution_count": 13,
   "metadata": {
    "collapsed": false
   },
   "outputs": [
    {
     "data": {
      "text/html": [
       "<div>\n",
       "<style scoped>\n",
       "    .dataframe tbody tr th:only-of-type {\n",
       "        vertical-align: middle;\n",
       "    }\n",
       "\n",
       "    .dataframe tbody tr th {\n",
       "        vertical-align: top;\n",
       "    }\n",
       "\n",
       "    .dataframe thead tr th {\n",
       "        text-align: left;\n",
       "    }\n",
       "\n",
       "    .dataframe thead tr:last-of-type th {\n",
       "        text-align: right;\n",
       "    }\n",
       "</style>\n",
       "<table border=\"1\" class=\"dataframe\">\n",
       "  <thead>\n",
       "    <tr>\n",
       "      <th></th>\n",
       "      <th>len</th>\n",
       "      <th>mean</th>\n",
       "      <th>median</th>\n",
       "    </tr>\n",
       "    <tr>\n",
       "      <th></th>\n",
       "      <th>PAY_0</th>\n",
       "      <th>PAY_0</th>\n",
       "      <th>PAY_0</th>\n",
       "    </tr>\n",
       "    <tr>\n",
       "      <th>EDUCATION_4</th>\n",
       "      <th></th>\n",
       "      <th></th>\n",
       "      <th></th>\n",
       "    </tr>\n",
       "  </thead>\n",
       "  <tbody>\n",
       "    <tr>\n",
       "      <th>0</th>\n",
       "      <td>29532</td>\n",
       "      <td>-0.013172</td>\n",
       "      <td>0</td>\n",
       "    </tr>\n",
       "    <tr>\n",
       "      <th>1</th>\n",
       "      <td>468</td>\n",
       "      <td>-0.239316</td>\n",
       "      <td>0</td>\n",
       "    </tr>\n",
       "  </tbody>\n",
       "</table>\n",
       "</div>"
      ],
      "text/plain": [
       "               len      mean median\n",
       "             PAY_0     PAY_0  PAY_0\n",
       "EDUCATION_4                        \n",
       "0            29532 -0.013172      0\n",
       "1              468 -0.239316      0"
      ]
     },
     "execution_count": 13,
     "metadata": {},
     "output_type": "execute_result"
    }
   ],
   "source": [
    "pd.pivot_table(dfsub,index = ['EDUCATION_4'],values = [\"PAY_0\"], aggfunc=[len, np.mean, np.median])"
   ]
  },
  {
   "cell_type": "code",
   "execution_count": null,
   "metadata": {
    "collapsed": true
   },
   "outputs": [],
   "source": []
  }
 ],
 "metadata": {
  "kernelspec": {
   "display_name": "Python 3",
   "language": "python",
   "name": "python3"
  },
  "language_info": {
   "codemirror_mode": {
    "name": "ipython",
    "version": 3
   },
   "file_extension": ".py",
   "mimetype": "text/x-python",
   "name": "python",
   "nbconvert_exporter": "python",
   "pygments_lexer": "ipython3",
   "version": "3.6.6"
  }
 },
 "nbformat": 4,
 "nbformat_minor": 2
}
