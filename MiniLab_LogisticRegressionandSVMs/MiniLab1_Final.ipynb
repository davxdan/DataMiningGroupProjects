{
 "cells": [
  {
   "cell_type": "markdown",
   "metadata": {},
   "source": [
    "## Mini-Lab Logistic Regression & SVMs\n",
    "##### Authors: Dan Davieau, Paul Panek, Olga Tanyuk, Nathan Wall\n",
    "\n",
    "### Project Overview\n",
    "\n",
    "The purpose of this data set is to predict whether or not individual credit card clients (in Taiwan) will default.\n",
    "\n",
    "The primary explanatory variables include:\n",
    "- Six months of Payment Amounts, Billed Amounts and the Timeliness of each Payment.\n",
    "- Demographic information: Marital Status, Sex, Age and Level of Education.\n",
    "    \n",
    "A description of all variables in the data set is provided in the last cell of this notebook for reference.\n",
    "\n",
    "\n",
    "### Data Preparation\n",
    "In order to assess our model we will begin by reading in the data and performing some of the data transformations that we documented in Lab 1.\n",
    "\n",
    "##### Feature Transformation/Encoding/Engineering\n",
    "Below we go through the processes of preparing our data for the model based on the data preparation that we discussed in detail as part of Lab 1.\n"
   ]
  },
  {
   "cell_type": "code",
   "execution_count": 1,
   "metadata": {
    "collapsed": false
   },
   "outputs": [],
   "source": [
    "#import all packages for this notebook\n",
    "import pandas as pd\n",
    "import numpy as np\n",
    "from sklearn.linear_model import LogisticRegression\n",
    "from sklearn.model_selection import ShuffleSplit\n",
    "from sklearn import metrics as mt\n",
    "from sklearn.preprocessing import StandardScaler\n",
    "from matplotlib import pyplot as plt\n",
    "%matplotlib inline\n",
    "\n",
    "df = pd.read_csv('data/DefaultCreditcardClients.csv')\n",
    "df.rename(columns={'default payment next month':'default'}, inplace=True)\n",
    "\n",
    "#set index to the \"ID\" value and remove the ID column\n",
    "df.index = df.ID\n",
    "del df['ID']\n",
    "\n",
    "#Create Lists for Analysis\n",
    "continuous_features = ['LIMIT_BAL', 'BILL_AMT1', 'BILL_AMT2','BILL_AMT3',\n",
    "                       'BILL_AMT4', 'BILL_AMT5', 'BILL_AMT6', 'PAY_AMT1',\n",
    "                       'PAY_AMT2', 'PAY_AMT3', 'PAY_AMT4', 'PAY_AMT5',\n",
    "                       'PAY_AMT6']\n",
    "ordinal_features = ['EDUCATION', 'MARRIAGE', 'AGE', 'PAY_0','PAY_2', 'PAY_3',\n",
    "                    'PAY_4', 'PAY_5', 'PAY_6','default']\n",
    "\n",
    "#Convert datatypes\n",
    "df[continuous_features] = df[continuous_features].astype(np.float64)\n",
    "df[ordinal_features] = df[ordinal_features].astype(np.int64)\n",
    "\n",
    "#convert any non-identified education categories to 'OTHER'\n",
    "df['EDUCATION'] = df['EDUCATION'].replace(to_replace=(0,5,6),value=4)\n",
    "\n",
    "#convert any non-identified marriage categories to 'OTHER'\n",
    "df['MARRIAGE'] = df['MARRIAGE'].replace(to_replace=(0),value=3)\n",
    "\n",
    "#Log transform continuous variables; as they each have a mostly \n",
    "##exponential distribution\n",
    "df[\"log_LIMIT_BAL\"]=np.log(df.LIMIT_BAL)\n",
    "df[\"log_PAY_AMT1\"]=np.log(df.PAY_AMT1+1)\n",
    "df[\"log_PAY_AMT2\"]=np.log(df.PAY_AMT2+1)\n",
    "df[\"log_PAY_AMT3\"]=np.log(df.PAY_AMT3+1)\n",
    "df[\"log_PAY_AMT4\"]=np.log(df.PAY_AMT4+1)\n",
    "df[\"log_PAY_AMT5\"]=np.log(df.PAY_AMT5+1)\n",
    "df[\"log_PAY_AMT6\"]=np.log(df.PAY_AMT6+1)\n",
    "\n",
    "\n",
    "# One-hot encoding of \"EDUCATION\" and \"MARRIAGE\".\n",
    "tmp_df_1 = pd.get_dummies(df.EDUCATION,prefix='EDUCATION')\n",
    "tmp_df_2 = pd.get_dummies(df.MARRIAGE,prefix='MARRIAGE')\n",
    "df = pd.concat((df,tmp_df_1,tmp_df_2),axis=1)\n",
    "\n",
    "#Create a separate dataset in case we need to come back to original\n",
    "dfsub = df.copy()\n",
    "#dfsub = pd.concat((df,tmp_df_1,tmp_df_2),axis=1)\n",
    "\n",
    "#We will not need these attributes. We are using log of them instead.\n",
    "del dfsub['LIMIT_BAL']\n",
    "del dfsub['PAY_AMT1']\n",
    "del dfsub['PAY_AMT2']\n",
    "del dfsub['PAY_AMT3']\n",
    "del dfsub['PAY_AMT4']\n",
    "del dfsub['PAY_AMT5']\n",
    "del dfsub['PAY_AMT6']\n",
    "\n",
    "#We found in Lab1 that there is high correlation between BILL Amount and Pay \n",
    "##Amounts so ignore bill amount for now\n",
    "del dfsub['BILL_AMT1']\n",
    "del dfsub['BILL_AMT2']\n",
    "del dfsub['BILL_AMT3']\n",
    "del dfsub['BILL_AMT4']\n",
    "del dfsub['BILL_AMT5']\n",
    "del dfsub['BILL_AMT6']\n",
    "\n",
    "#Drop variables for which we used one-hot encoding\n",
    "del dfsub['EDUCATION']\n",
    "del dfsub['MARRIAGE']"
   ]
  },
  {
   "cell_type": "code",
   "execution_count": 2,
   "metadata": {
    "collapsed": false
   },
   "outputs": [
    {
     "name": "stdout",
     "output_type": "stream",
     "text": [
      "<class 'pandas.core.frame.DataFrame'>\n",
      "Int64Index: 30000 entries, 1 to 30000\n",
      "Data columns (total 23 columns):\n",
      "SEX              30000 non-null int64\n",
      "AGE              30000 non-null int64\n",
      "PAY_0            30000 non-null int64\n",
      "PAY_2            30000 non-null int64\n",
      "PAY_3            30000 non-null int64\n",
      "PAY_4            30000 non-null int64\n",
      "PAY_5            30000 non-null int64\n",
      "PAY_6            30000 non-null int64\n",
      "default          30000 non-null int64\n",
      "log_LIMIT_BAL    30000 non-null float64\n",
      "log_PAY_AMT1     30000 non-null float64\n",
      "log_PAY_AMT2     30000 non-null float64\n",
      "log_PAY_AMT3     30000 non-null float64\n",
      "log_PAY_AMT4     30000 non-null float64\n",
      "log_PAY_AMT5     30000 non-null float64\n",
      "log_PAY_AMT6     30000 non-null float64\n",
      "EDUCATION_1      30000 non-null uint8\n",
      "EDUCATION_2      30000 non-null uint8\n",
      "EDUCATION_3      30000 non-null uint8\n",
      "EDUCATION_4      30000 non-null uint8\n",
      "MARRIAGE_1       30000 non-null uint8\n",
      "MARRIAGE_2       30000 non-null uint8\n",
      "MARRIAGE_3       30000 non-null uint8\n",
      "dtypes: float64(7), int64(9), uint8(7)\n",
      "memory usage: 4.1 MB\n"
     ]
    }
   ],
   "source": [
    "dfsub.info()"
   ]
  },
  {
   "cell_type": "markdown",
   "metadata": {},
   "source": [
    "From above we are able to see that we have 22 total features that are now all of a numerical type that we will be using to predict our the class of our target, \"default\".\n",
    "\n",
    "##### Splitting the training/test data set\n",
    "\n",
    "There are 30,000 observations in this dataset that we now split into training/test sets (80/20 split) that we can use to assess the performance of our two models."
   ]
  },
  {
   "cell_type": "code",
   "execution_count": 3,
   "metadata": {
    "collapsed": false
   },
   "outputs": [
    {
     "name": "stdout",
     "output_type": "stream",
     "text": [
      "Dimensions of training features are  (24000, 22)\n",
      "Dimensions of training target are  (24000,)\n",
      "Dimensions of testing features are  (6000, 22)\n",
      "Dimensions of testing target are  (6000,)\n"
     ]
    }
   ],
   "source": [
    "#Isolate the \"default\" variable into y and keep everythign else in X to use for predictions:\n",
    "if 'default' in dfsub:\n",
    "    y = dfsub['default'].values\n",
    "    del dfsub['default'] \n",
    "    X = dfsub.values\n",
    "\n",
    "#Create a reuseable cv_object:  Random State keeps the seed.\n",
    "num_cv_iterations = 10\n",
    "num_instances = len(y)\n",
    "cv_object = ShuffleSplit(n_splits=num_cv_iterations,test_size  = 0.2,random_state=0)\n",
    "\n",
    "#train_indices\n",
    "for train_indices, test_indices in cv_object.split(X,y): \n",
    "    # I will create new variables here so that it is more obvious what \n",
    "    # the code is doing (you can compact this syntax and avoid duplicating memory,\n",
    "    # but it makes this code less readable)\n",
    "    X_train = X[train_indices]\n",
    "    y_train = y[train_indices]\n",
    "    \n",
    "    X_test = X[test_indices]\n",
    "    y_test = y[test_indices]\n",
    "\n",
    "print(\"Dimensions of training features are \" , X_train.shape)\n",
    "print(\"Dimensions of training target are \" , y_train.shape)\n",
    "print(\"Dimensions of testing features are \" , X_test.shape)\n",
    "print(\"Dimensions of testing target are \" , y_test.shape)"
   ]
  },
  {
   "cell_type": "markdown",
   "metadata": {},
   "source": [
    "##### Scale the data\n",
    "From above we see that we succesfully split our training/test sets split up 80/20 with 24000 obs in the training data and 6000 in our test set.\n",
    "\n",
    "Once we have our datasets split up we can now use our training data to calculate the mean & standard deviation to scale our continuous variables. It is important to not let the values from the test data be used in the calculation of the mean & standard deviation as this may accidently provide you insights into the test data that you should not have in your model training."
   ]
  },
  {
   "cell_type": "code",
   "execution_count": 4,
   "metadata": {},
   "outputs": [],
   "source": [
    "from sklearn.preprocessing import StandardScaler\n",
    "# scale attributes by the training set\n",
    "scl_obj = StandardScaler()\n",
    "scl_obj.fit(X_train)\n",
    "\n",
    "X_train_scaled = scl_obj.transform(X_train) # apply to training\n",
    "X_test_scaled = scl_obj.transform(X_test) # apply those means and std to the test set (without snooping at the test set values)\n"
   ]
  },
  {
   "cell_type": "markdown",
   "metadata": {},
   "source": [
    "### Logistic Regression Model\n",
    "After we scale our train & test sets we can start training our models. We will begin by training the Logisitc Regression model and explore the various options to assess the models performance. In order to compare these models we will compare them to a simple baseline model. For this our baseline is just assuming no customers will default. This is not an ideal solution, however it will give us a basic understanding of how much improvement we gain from the models we are comparing."
   ]
  },
  {
   "cell_type": "code",
   "execution_count": 5,
   "metadata": {},
   "outputs": [
    {
     "name": "stdout",
     "output_type": "stream",
     "text": [
      "Frequency of Non-Default vs Defualt\n",
      "[[   0 4713]\n",
      " [   1 1287]]\n",
      "Baseline Accuracy:  0.7855\n"
     ]
    }
   ],
   "source": [
    "unique, counts = np.unique(y_test, return_counts=True)\n",
    "freq = np.asarray((unique, counts)).T\n",
    "nodefault = freq[0,1]\n",
    "default = freq[1,1]\n",
    "total = default+nodefault\n",
    "\n",
    "\n",
    "print('Frequency of Non-Default vs Defualt')\n",
    "print(freq)\n",
    "print('Baseline Accuracy: ' , (nodefault/total))\n"
   ]
  },
  {
   "cell_type": "markdown",
   "metadata": {},
   "source": [
    "Provided the baseline accuracy of 78.55% all models that we consider should be able to perform as well or better than this initial baseline. \n",
    "\n",
    "*For future work we will more closely consider other metrics such as precision, recall, & specificity in our baseline, but the purposes of this assignment accuracy is the key metric from which we will compare to.*\n"
   ]
  },
  {
   "cell_type": "code",
   "execution_count": 6,
   "metadata": {
    "collapsed": false
   },
   "outputs": [
    {
     "name": "stdout",
     "output_type": "stream",
     "text": [
      "accuracy: 0.8126666666666666\n",
      "[[4534  179]\n",
      " [ 945  342]]\n"
     ]
    }
   ],
   "source": [
    "\n",
    "# train the model\n",
    "lr_clf = LogisticRegression(penalty='l2', C=.05) \n",
    "lr_clf.fit(X_train_scaled,y_train)  # train object\n",
    "\n",
    "y_hat = lr_clf.predict(X_test_scaled) # get test set precitions\n",
    "\n",
    "acc = mt.accuracy_score(y_test,y_hat)\n",
    "conf = mt.confusion_matrix(y_test,y_hat)\n",
    "\n",
    "print('accuracy:', acc )\n",
    "print(conf )\n",
    "\n",
    "# weights = pd.Series(lr_clf.coef_[0],index=dfsub.columns).sort_values(ascending = False)\n",
    "# weights.plot(kind='bar')\n",
    "# plt.show()"
   ]
  },
  {
   "cell_type": "markdown",
   "metadata": {},
   "source": [
    "##### Initial Assessment: \n",
    "\n",
    "With the sklearn default parameters, the accuracy of this model is more than 81%, however a closer inspection of the confusions matrix provides us some key insights into the model's performance.\n",
    "\n",
    "- Accuracy is similar to the overall share of Negative cases in the set.\n",
    "- Specificity (True Negatives/Total Actual Negatives) is 96%, but\n",
    "- Sensitivity/Recall (True Positives/Total Actual Positives) is only 27%.\n",
    "- Precision:  Only 66% of the predicted positives were correct.\n",
    "\n",
    "The overall accuracy is a modest improvement over our baseline model, and the we are able to succesfully identify over half of the default payments. However, we would ideally like to improve this number. So lets play with some of the model parameters to see if we can lift our overall accuracy any further."
   ]
  },
  {
   "cell_type": "markdown",
   "metadata": {},
   "source": [
    "### Tuning"
   ]
  },
  {
   "cell_type": "code",
   "execution_count": 7,
   "metadata": {
    "collapsed": false
   },
   "outputs": [
    {
     "name": "stdout",
     "output_type": "stream",
     "text": [
      "C= 0.05 Class_Weight=None\n",
      "accuracy: 0.8126666666666666\n",
      "[[4534  179]\n",
      " [ 945  342]]\n",
      "C= 1.0 Class_Weight=None\n",
      "accuracy: 0.8126666666666666\n",
      "[[4534  179]\n",
      " [ 945  342]]\n",
      "C= 20.0 Class_Weight=None\n",
      "accuracy: 0.8126666666666666\n",
      "[[4534  179]\n",
      " [ 945  342]]\n",
      "________________________________________\n",
      "Using Balance Class Weight\n",
      "________________________________________\n",
      "C= 0.05 Class_Weight=balanced\n",
      "accuracy: 0.7281666666666666\n",
      "[[3560 1153]\n",
      " [ 478  809]]\n",
      "C= 1.0 Class_Weight=balanced\n",
      "accuracy: 0.7285\n",
      "[[3563 1150]\n",
      " [ 479  808]]\n",
      "C= 20.0 Class_Weight=balanced\n",
      "accuracy: 0.7285\n",
      "[[3563 1150]\n",
      " [ 479  808]]\n"
     ]
    }
   ],
   "source": [
    "# Setting three alternatives for C\n",
    "Param = [.05,1.0,20.0]\n",
    "\n",
    "for z in Param:\n",
    "    lr_clf = LogisticRegression(penalty='l2', C=z, class_weight=None) \n",
    "    lr_clf.fit(X_train_scaled,y_train)  # train object\n",
    "\n",
    "    y_hat = lr_clf.predict(X_test_scaled) # get test set precitions\n",
    "\n",
    "    acc = mt.accuracy_score(y_test,y_hat)\n",
    "    conf = mt.confusion_matrix(y_test,y_hat)\n",
    "\n",
    "    print('C=', z, 'Class_Weight=None')\n",
    "    print('accuracy:', acc )\n",
    "    print(conf )\n",
    "    \n",
    "print('________________________________________')\n",
    "print('Using Balance Class Weight')\n",
    "print('________________________________________')\n",
    "for z in Param:\n",
    "    lr_clf = LogisticRegression(penalty='l2', C=z, class_weight='balanced') \n",
    "    lr_clf.fit(X_train_scaled,y_train)  # train object\n",
    "\n",
    "    y_hat = lr_clf.predict(X_test_scaled) # get test set precitions\n",
    "\n",
    "    acc = mt.accuracy_score(y_test,y_hat)\n",
    "    conf = mt.confusion_matrix(y_test,y_hat)\n",
    "\n",
    "    print('C=', z, 'Class_Weight=balanced')\n",
    "    print('accuracy:', acc )\n",
    "    print(conf )"
   ]
  },
  {
   "cell_type": "markdown",
   "metadata": {},
   "source": [
    "##### Adjusting Model Parameters\n",
    "\n",
    "Impact of tuning C is negligible.  The number of True and False Negatives is unchanged, and the number of True and False positives only changed by one.\n",
    "Impact on overall accuracy was negligible as well.\n",
    "\n",
    "Impact of using standard scaler vs not using it (not shown) was also very small.\n",
    "\n",
    "Using balanced Class_Weight does change performance.\n",
    "- Accuracy drops to just under 73%.\n",
    "- Precision drops to 41% from 66%.\n",
    "- Specificity drops to 76% from 96%, but\n",
    "- Recall increases to 63% from 27%.\n",
    "\n",
    "Based on what we were able to determine our initial model, using the scaled features and the default logistic regresssion parameters from sklearn provided the best fit of our data."
   ]
  },
  {
   "cell_type": "markdown",
   "metadata": {},
   "source": [
    "#### Feature Importance of the Logistic Model"
   ]
  },
  {
   "cell_type": "code",
   "execution_count": 8,
   "metadata": {
    "collapsed": false
   },
   "outputs": [
    {
     "data": {
      "image/png": "[encoded data removed]",
      "text/plain": [
       "<Figure size 432x288 with 1 Axes>"
      ]
     },
     "metadata": {},
     "output_type": "display_data"
    }
   ],
   "source": [
    "# train the model\n",
    "lr_clf = LogisticRegression(penalty='l2', C=.05) \n",
    "lr_clf.fit(X_train_scaled,y_train)  # train object\n",
    "\n",
    "y_hat = lr_clf.predict(X_test_scaled) # get test set precitions\n",
    "\n",
    "weights = pd.Series(lr_clf.coef_[0],index=dfsub.columns)\n",
    "weights2 = weights.sort_values(ascending = False)\n",
    "weights2.plot(kind='bar')\n",
    "plt.show()\n",
    "\n",
    "#df_c = df_c.sort_values('Count')"
   ]
  },
  {
   "cell_type": "markdown",
   "metadata": {},
   "source": [
    "##### Interpretation of Weights from Logistic Model\n",
    "\n",
    "- The most important feature in predicting delinquency is how delinquent the most recent payment was.  The more delinquent the payment, the more likely the account is to default.  The second most important feature is the log of the most recent payment amount.  The higher the payment, the less likely the account is to default.  All of this is consistent with intuitive expectations.\n",
    "\n",
    "- In general, the most important features are the delinquency status of some payments made, the amounts paid and the credit limit.  We are ignoring the Education Level 4, because that is a catch-all category with few values.\n",
    "\n",
    "We are struck by the preponderance of low weights in this data set.  This could be due to:\n",
    "- The existence of serial correlation among variables, which include sequential payments and the tendency of customers to be consistent in terms of the delinquency of the payments they make from month to month.  \n",
    "\n",
    "- We may need to include additional (calculated) variables, such as the number of times delinquent.\n",
    "- We may need to segment customers into groups, for example light and heavy users of their cards.\n",
    "- The relationship between certain explanatory variables and the response may not be modeled correctly.  For example, the \"Pay\" (Delinquency) variables are ordinal, and we are treating them as continuous.  We may need to treat them as categorical.\n",
    "\n"
   ]
  },
  {
   "cell_type": "markdown",
   "metadata": {},
   "source": [
    "### Support Vector Machines\n",
    "From the logistic regression model we were able to improve our overall accuracy over baseline from ~79% to ~81%. We will next explore how a support vector machine model can help us improve our model performance even further and evalauate the feature importance of the best performing SVM model.\n",
    "\n",
    "Same as before we will begin with the default model and then explore tuning various parameters from there."
   ]
  },
  {
   "cell_type": "code",
   "execution_count": 9,
   "metadata": {},
   "outputs": [
    {
     "name": "stdout",
     "output_type": "stream",
     "text": [
      "accuracy: 0.8258333333333333\n",
      "[[4508  205]\n",
      " [ 840  447]]\n"
     ]
    }
   ],
   "source": [
    "# lets investigate SVMs on the data and play with the parameters and kernels\n",
    "from sklearn.svm import SVC\n",
    "\n",
    "# train the model just as before\n",
    "svm_clf = SVC() # get object\n",
    "svm_clf.fit(X_train_scaled, y_train)  # train object\n",
    "\n",
    "y_hat = svm_clf.predict(X_test_scaled) # get test set precitions\n",
    "\n",
    "acc = mt.accuracy_score(y_test,y_hat)\n",
    "conf = mt.confusion_matrix(y_test,y_hat)\n",
    "print('accuracy:', acc )\n",
    "print(conf)"
   ]
  },
  {
   "cell_type": "markdown",
   "metadata": {},
   "source": [
    "##### Initial Assessment: \n",
    "\n",
    "With the sklearn default parameters, we see the overall accuracy of this model improve to ~83%. Similarly we also see some changes in our other key metrics as well.\n",
    "\n",
    "- Accuracy is similar to the overall share of Negative cases in the set.\n",
    "- Specificity (True Negatives/Total Actual Negatives) is 96%, but\n",
    "- Sensitivity/Recall (True Positives/Total Actual Positives) is only 35%.\n",
    "- Precision: 69% of the predicted positives were correct.\n",
    "\n",
    "Based on this we do see that the SVM model was able to improve all of our metrics above what we were able to acheive using the Logistic regression model. However, lets see if we can improve the model further by exploring different model parameters. Below we will explore the use of the grid search to help us identify what parameters provide us the best overall accuracy for our data."
   ]
  },
  {
   "cell_type": "code",
   "execution_count": 10,
   "metadata": {},
   "outputs": [
    {
     "name": "stdout",
     "output_type": "stream",
     "text": [
      "Fitting 3 folds for each of 6 candidates, totalling 18 fits\n"
     ]
    },
    {
     "name": "stderr",
     "output_type": "stream",
     "text": [
      "[Parallel(n_jobs=8)]: Done  18 out of  18 | elapsed:  2.4min finished\n"
     ]
    },
    {
     "data": {
      "text/plain": [
       "GridSearchCV(cv=3, error_score='raise',\n",
       "       estimator=SVC(C=1.0, cache_size=200, class_weight=None, coef0=0.0,\n",
       "  decision_function_shape='ovr', degree=3, gamma='auto', kernel='rbf',\n",
       "  max_iter=-1, probability=False, random_state=None, shrinking=True,\n",
       "  tol=0.001, verbose=False),\n",
       "       fit_params=None, iid=True, n_jobs=8,\n",
       "       param_grid={'C': [0.01, 0.1, 1], 'kernel': ['rbf', 'linear']},\n",
       "       pre_dispatch='2*n_jobs', refit=True, return_train_score='warn',\n",
       "       scoring='accuracy', verbose=1)"
      ]
     },
     "execution_count": 10,
     "metadata": {},
     "output_type": "execute_result"
    }
   ],
   "source": [
    "#Logisitic regression 10-fold cross-validation \n",
    "\n",
    "svcEstimator = SVC()\n",
    "cv = 3\n",
    "\n",
    "#compare various values of C, kernels (rbf vs linear vs poly),decision_function_shape (ovo vs ovr) \n",
    "parameters = { 'C': [0.01, 0.1, 1]\n",
    "              ,'kernel': ['rbf','linear']\n",
    "             }\n",
    "\n",
    "#Create a grid search object using the  \n",
    "from sklearn.model_selection import GridSearchCV\n",
    "svcGridSearch = GridSearchCV(estimator=svcEstimator\n",
    "                    , n_jobs=8 # jobs to run in parallel\n",
    "                    , verbose=1 # low verbosity\n",
    "                    , param_grid=parameters\n",
    "                    , cv=cv # KFolds = 5\n",
    "                    , scoring='accuracy')\n",
    "\n",
    "#Perform hyperparameter search to find the best combination of parameters for our data\n",
    "svcGridSearch.fit(X_train_scaled, y_train)"
   ]
  },
  {
   "cell_type": "code",
   "execution_count": 11,
   "metadata": {},
   "outputs": [
    {
     "data": {
      "text/plain": [
       "SVC(C=1, cache_size=200, class_weight=None, coef0=0.0,\n",
       "  decision_function_shape='ovr', degree=3, gamma='auto', kernel='rbf',\n",
       "  max_iter=-1, probability=False, random_state=None, shrinking=True,\n",
       "  tol=0.001, verbose=False)"
      ]
     },
     "execution_count": 11,
     "metadata": {},
     "output_type": "execute_result"
    }
   ],
   "source": [
    "#Display the best estimator parameters\n",
    "svcGridSearch.best_estimator_"
   ]
  },
  {
   "cell_type": "markdown",
   "metadata": {},
   "source": [
    "##### Adjusting Model Parameters\n",
    "\n",
    "Usinger the grid search algorithm the best estimator based on 3-fold cross validation is the same estimator that was trained using the sklearn default parameters.\n",
    "\n",
    "Below outlines the parameter options that were included in the grid search:\n",
    " 1)A Penalty Parameter of C = (0.01, 0.1, 1) \n",
    " 2) Also compared the fits using the radial basis function kernel vs a linear kernel.\n",
    "\n",
    "As part of this grid search we compared 18 possible model fits the best fit was the model with a penalty parameter = 1 & used the rbf kernel. \n",
    "\n",
    "Based on the results of the grid search our initial model, using the scaled features and the default support vector machiner parameters from sklearn provided the best fit of our data.\n",
    "\n",
    "*Additional model parameters were included in a grid search testing > 90 different fites and still the default model appeared to have the best fit for our data*"
   ]
  },
  {
   "cell_type": "markdown",
   "metadata": {},
   "source": [
    "#### Reviewing the Chosen Support Vectors \n",
    "Since we do not use a linear kernel our final model determining our relative feature importance is more difficult than looking into the weights from the logistic regression model. However, while we are unable directly determine the relative feature importance we can look at the chosen support vectors and see if they offer any insights into our model.\n",
    "\n",
    "For this we will focus on the top three most important variables as determined by the logistic model to determine how the original data statistics compare to the chosen support vectors from the model. Those three variables are: PAY_0, log_PAY_AMT1, & log_LIMIT_BAL.\n"
   ]
  },
  {
   "cell_type": "code",
   "execution_count": 19,
   "metadata": {},
   "outputs": [
    {
     "name": "stdout",
     "output_type": "stream",
     "text": [
      "(10393, 22)\n",
      "(10393,)\n",
      "[5688 4705]\n"
     ]
    },
    {
     "name": "stderr",
     "output_type": "stream",
     "text": [
      "C:\\Users\\bsnxw01\\AppData\\Local\\Continuum\\anaconda3\\lib\\site-packages\\ipykernel_launcher.py:11: SettingWithCopyWarning: \n",
      "A value is trying to be set on a copy of a slice from a DataFrame.\n",
      "Try using .loc[row_indexer,col_indexer] = value instead\n",
      "\n",
      "See the caveats in the documentation: http://pandas.pydata.org/pandas-docs/stable/indexing.html#indexing-view-versus-copy\n",
      "  # This is added back by InteractiveShellApp.init_path()\n"
     ]
    },
    {
     "data": {
      "image/png": "[encoded data removed]",
      "text/plain": [
       "<Figure size 720x288 with 2 Axes>"
      ]
     },
     "metadata": {},
     "output_type": "display_data"
    },
    {
     "data": {
      "image/png": "[encoded data removed]",
      "text/plain": [
       "<Figure size 720x288 with 2 Axes>"
      ]
     },
     "metadata": {},
     "output_type": "display_data"
    },
    {
     "data": {
      "image/png": "[encoded data removed]",
      "text/plain": [
       "<Figure size 720x288 with 2 Axes>"
      ]
     },
     "metadata": {},
     "output_type": "display_data"
    }
   ],
   "source": [
    "# look at the support vectors\n",
    "print(svm_clf.support_vectors_.shape)\n",
    "print(svm_clf.support_.shape)\n",
    "print(svm_clf.n_support_ )\n",
    "\n",
    "# make a dataframe of the training data\n",
    "df_tested_on = dfsub.iloc[train_indices] # saved from above, the indices chosen for training\n",
    "# now get the support vectors from the trained model\n",
    "df_support = df_tested_on.iloc[svm_clf.support_,:]\n",
    "\n",
    "df_support['default'] = y[svm_clf.support_] \n",
    "dfsub['default'] = y # also add it back in for the original data\n",
    "\n",
    "# now lets see the statistics of these attributes\n",
    "from pandas.tools.plotting import boxplot\n",
    "\n",
    "# group the original data and the support vectors\n",
    "df_grouped_support = df_support.groupby(['default'])\n",
    "df_grouped = dfsub.groupby(['default'])\n",
    "\n",
    "# plot KDE of Different variables\n",
    "vars_to_plot = ['PAY_0','log_PAY_AMT1','log_LIMIT_BAL']\n",
    "\n",
    "for v in vars_to_plot:\n",
    "    plt.figure(figsize=(10,4))\n",
    "    # plot support vector stats\n",
    "    plt.subplot(1,2,1)\n",
    "    ax = df_grouped_support[v].plot.kde() \n",
    "    plt.legend(['Default','No Default'])\n",
    "    plt.title(v+' (Instances chosen as Support Vectors)')\n",
    "    \n",
    "    # plot original distributions\n",
    "    plt.subplot(1,2,2)\n",
    "    ax = df_grouped[v].plot.kde() \n",
    "    plt.legend(['Default','No Default'])\n",
    "    plt.title(v+' (Original)')\n"
   ]
  },
  {
   "cell_type": "markdown",
   "metadata": {},
   "source": [
    "Based on the charts from above, we can see that the separation in three distributions is not as great as the separation for the original data. \n",
    "\n",
    "Given, that the chosen support vectors tend to be instances on the edge of the class boundaries and also instances that are classified incorrectly in the training data. \n",
    "\n",
    "Once way to interpret this is that as we move closer towards the class boundaries the values of the three features share begin to share a more similar statistical profile between the two classes. Meaning the seperation of the two classes may be largely dependent on the values in these three features. \n"
   ]
  },
  {
   "cell_type": "markdown",
   "metadata": {},
   "source": [
    "### Comparing the Logistic Model to the Support Vector Machine\n",
    "\n",
    "In conclusion were able to see several differences between our two models, in both performance and training times.\n",
    "\n",
    "#### Peformance\n",
    "\n",
    "*Logistic Regression*\n",
    "Accuracy: 81%\n",
    "Specificity: 96%\n",
    "Sensitivity/Recall: 27%.\n",
    "Precision: 66%\n",
    "\n",
    "*SVM*\n",
    "Accuracy:83%\n",
    "Specificity: 96%, \n",
    "Sensitivity/Recall: 35%.\n",
    "Precision: 69%\n",
    "\n",
    "\n",
    "While neither model performed as well as desired for our project we did see a modest improvement in the SVM model. A lot of the differences in performance can be attributed to the regression model relied on a linear decision boundary. However, our final SVM model did not uses a linear decision boundary. \n",
    "\n",
    "\n",
    "#### Training Time\n",
    "While we are able to see a modest performance improvement from the support vector machine lets compare the training time associated with these two models:"
   ]
  },
  {
   "cell_type": "code",
   "execution_count": 21,
   "metadata": {},
   "outputs": [
    {
     "name": "stdout",
     "output_type": "stream",
     "text": [
      "Wall time: 250 ms\n"
     ]
    }
   ],
   "source": [
    "%%time\n",
    "\n",
    "lr_clf = LogisticRegression(penalty='l2', C=.05) \n",
    "lr_clf.fit(X_train_scaled,y_train)  # train object\n"
   ]
  },
  {
   "cell_type": "code",
   "execution_count": 23,
   "metadata": {},
   "outputs": [
    {
     "name": "stdout",
     "output_type": "stream",
     "text": [
      "Wall time: 49.7 s\n"
     ]
    }
   ],
   "source": [
    "%%time\n",
    "\n",
    "# train the model just as before\n",
    "svm_clf = SVC() # get object\n",
    "svm_clf.fit(X_train_scaled, y_train)  # train object\n"
   ]
  },
  {
   "cell_type": "markdown",
   "metadata": {},
   "source": [
    "Based on the results above we can see that the logistic regression model is able to train on 24,000 observation in 250 ms. Meanwhile the SVC model takes almost a minute to train. \n",
    "\n",
    "This quite a drastic difference in the training time. The training time of the support vector machine impacted more directly by the number of observations in the data because how the decision boundary is calculater. However, in the case of logistic regression the time it takes for the model to converge on minimum cost function is not related to the the number of observations but rather then number of features."
   ]
  },
  {
   "cell_type": "markdown",
   "metadata": {},
   "source": [
    "## APPENDIX:  Description of the Data Set\n",
    "\n",
    "#### Attribute Information\n",
    "The data used is \"Default of Credit Card Clients\" from UCI. It was attained by I-Cheng Yeh with Chung Hua University and Tamkang University in Taiwan. The original goal was to predict default rates.\n",
    "\n",
    "The data has a 6 month history of 30,000 Taiwanese credit account balances and transactions. Each observation contains a binary reponse variable \"default\" with values 1 indicating a default occured and 0 indicating no default occured.\n",
    "\n",
    "The following explanatory variables are included:\n",
    "\n",
    " - LIMIT_BAL = Total credit amount allowed\n",
    " \n",
    " - SEX\n",
    "     -  1 = Male\n",
    "     -  2 = Female\n",
    " \n",
    " - EDUCATION\n",
    "     - 1 = Graduate School\n",
    "     - 2 = University\n",
    "     - 3 = High School\n",
    "     - 4 = Other\n",
    "   \n",
    " - MARRIAGE\n",
    "     - 1 = Married\n",
    "     - 2 = Single\n",
    "     - 3 = Other\n",
    "       \n",
    " - AGE = Credit holder age in years\n",
    " \n",
    "Payment history (2005)\n",
    " - PAY_0 = September\n",
    " - PAY_2 = August\n",
    " - PAY_3 = July\n",
    " - PAY_4 = June\n",
    " - PAY_5 = May\n",
    " - PAY_6 = April\n",
    "      -  -1 = payment received on time\n",
    "      -   1 = payment received one month late\n",
    "      -   2 = payment received two months late\n",
    "      -   \"......\"\n",
    "      -   9 = payment received nine months late or more\n",
    "         \n",
    "Statement amount (NT dollars, 2005)\n",
    " - BILL_AMT1 = September\n",
    " - BILL_AMT2 = August\n",
    " - BILL_AMT3 = July\n",
    " - BILL_AMT4 = June\n",
    " - BILL_AMT5 = May\n",
    " - BILL_AMT6 = April\n",
    " \n",
    "Payment amount (NT dollars, 2005).\n",
    " - PAY_AMT1 = September\n",
    " - PAY_AMT2 = August\n",
    " - PAY_AMT3 = July\n",
    " - PAY_AMT4 = June\n",
    " - PAY_AMT5 = May\n",
    " - PAY_AMT6 = April\n",
    "\n",
    "Original Source Data Set Information  \n",
    "https://archive.ics.uci.edu/ml/datasets/default+of+credit+card+clients#"
   ]
  }
 ],
 "metadata": {
  "kernelspec": {
   "display_name": "Python 3",
   "language": "python",
   "name": "python3"
  },
  "language_info": {
   "codemirror_mode": {
    "name": "ipython",
    "version": 3
   },
   "file_extension": ".py",
   "mimetype": "text/x-python",
   "name": "python",
   "nbconvert_exporter": "python",
   "pygments_lexer": "ipython3",
   "version": "3.6.5"
  }
 },
 "nbformat": 4,
 "nbformat_minor": 2
}
