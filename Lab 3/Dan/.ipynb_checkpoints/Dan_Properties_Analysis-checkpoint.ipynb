{
 "cells": [
  {
   "cell_type": "markdown",
   "metadata": {},
   "source": [
    "# Lab 3 Assignment\n",
    "__Authors__: Dan Davieau, Paul Panek, Olga Tanyuk, Nathan Wall"
   ]
  },
  {
   "cell_type": "markdown",
   "metadata": {},
   "source": [
    "***\n",
    "## Business Understanding  \n",
    "<font color=blue>Describe the purpose of the data set you selected (i.e., why was this data collected in the first place?). How will you measure the effectiveness of a good algorithm? Why does your chosen validation method make sense for this specific\n",
    "dataset and the stakeholders needs?</font>\n",
    "\n",
    "Washington, D.C. is the capital of the United States. Washington's population is approaching 700,000 people, and has been growing since 2000 following a half-century of population decline. The city is highly segregated and features a high cost of living. In 2017, the average price of a single family home in the district was $649,000. \n",
    "\n",
    "Understanding the various features and similarities between the various neighborhoods provides important insights into the housing market within the district. This analysis will serve as means for a real estate agency to develop profiles of the various wards in DC. By better understanding the housing characteristics of the different wards they can better recommend specific areas to begin there search based on the clients needs.\n",
    "\n",
    "We will measure effectivenss of different clustering algorithms to seperate various types of homes from the DC data set. For example single family homes on large plots of land should be considered as a different type of home than downtown flat in a 10 story building. The process of evaluating will be based on two criteria.\n",
    "\n",
    "1) Silhouette Coefficient and other statistical measures to determing the correct amount of clusters to use and our ability to seperate them into distinct categories.\n",
    "\n",
    "2) Manual evaluation of the observations to identify the similarity betweent he various clusters based on the our own ability to differentiate between different styles of homes."
   ]
  },
  {
   "cell_type": "markdown",
   "metadata": {},
   "source": [
    "***\n",
    "## Data Understanding 1\n",
    "<font color=blue>Describe the meaning and type of data (scale, values, etc.) for each attribute in the data file. Verify data quality: Are there missing values? Duplicate data? Outliers? Are those mistakes? How do you deal with these problems?</font>\n",
    "\n",
    "For this data we will be reading in and joining two data sets from Kaggle https://www.kaggle.com/christophercorrea/dc-residential-properties.  \n",
    "\n",
    "*raw_residential_data.csv* : \n",
    "The Computer Assisted Mass Appraisal - Residential data contains attribution on housing characteristics for residential properties, and was created as part of the DC Geographic Information System (DC GIS) for the D.C. Office of the Chief Technology Officer (OCTO) and participating D.C. government agencies.\n",
    "\n",
    "*raw_address_points.csv* :\n",
    "The raw address points data contains locations and attributes of Address points as of July 2018. This file is part of the Master Address Repository (MAR) for the D.C. Office of the Chief Technology Officer and DC Department of Consumer and Regulatory Affairs . It contains the standardized addresses in the District of Columbia which are typically placed on the buildings. \n",
    "\n",
    "-  __SITE_ADDRESS_PK__ is apparently an added primary key which is identical to ADDRESS_ID for each and every observation.  \n",
    "\n",
    "-  __SSL__ No useful information is included in the metadata that describes this attribute except that it represents \"Square Suffix and Lot\". Upcon researching http://opendata.dc.gov/datasets/3c8c90b33dbe41cd965634dda58dfd80_7 we found that this means:  \n",
    "\n",
    "*What is the relationship between an address and an SSL (property record)?*\n",
    "\n",
    "*It is a many to many relationship. One SSL (Square, Suffix, Lot) can have multiple addresses located on it. This often includes garden style apartment complexes as well as corner addresses with separate addresses facing each adjacent street. One address can also sit upon multiple properties. One single family residence can sit upon multiple lots. The address records only contain one 'base' SSL (usually comes from OwnerPly). The cross reference table contains the many to many relationship between an address and an SSL. Some addresses do not have an associated SSL (such as some metro entrances or many addresses on Federal property). In, the address table, each address record will only be associated with one SSL. That SSL will be the base SSL, which is the SSL under which the address point is located.*\n",
    "\n",
    "We had to find a way to join the data. After analyzing uniquenes and identifiers we concluded that the  \"SSL\" attribute is our only option.\n",
    "\n",
    "We are unable to match 670 of our 107087 raw_residential_data records to the raw_address_points data. We will exclude these in from our analysis. \n"
   ]
  },
  {
   "cell_type": "code",
   "execution_count": 1,
   "metadata": {},
   "outputs": [
    {
     "ename": "FileNotFoundError",
     "evalue": "File b'Data/raw_residential_data.csv' does not exist",
     "output_type": "error",
     "traceback": [
      "\u001b[1;31m---------------------------------------------------------------------------\u001b[0m",
      "\u001b[1;31mFileNotFoundError\u001b[0m                         Traceback (most recent call last)",
      "\u001b[1;32m<ipython-input-1-ad8e01676df8>\u001b[0m in \u001b[0;36m<module>\u001b[1;34m()\u001b[0m\n\u001b[0;32m      2\u001b[0m \u001b[1;32mimport\u001b[0m \u001b[0mnumpy\u001b[0m \u001b[1;32mas\u001b[0m \u001b[0mnp\u001b[0m\u001b[1;33m\u001b[0m\u001b[0m\n\u001b[0;32m      3\u001b[0m \u001b[1;33m\u001b[0m\u001b[0m\n\u001b[1;32m----> 4\u001b[1;33m \u001b[0mdf1\u001b[0m \u001b[1;33m=\u001b[0m \u001b[0mpd\u001b[0m\u001b[1;33m.\u001b[0m\u001b[0mread_csv\u001b[0m\u001b[1;33m(\u001b[0m\u001b[1;34m'Data/raw_residential_data.csv'\u001b[0m\u001b[1;33m)\u001b[0m\u001b[1;33m\u001b[0m\u001b[0m\n\u001b[0m\u001b[0;32m      5\u001b[0m \u001b[0mdf1\u001b[0m\u001b[1;33m.\u001b[0m\u001b[0minfo\u001b[0m\u001b[1;33m(\u001b[0m\u001b[1;33m)\u001b[0m\u001b[1;33m\u001b[0m\u001b[0m\n\u001b[0;32m      6\u001b[0m \u001b[1;33m\u001b[0m\u001b[0m\n",
      "\u001b[1;32mC:\\ProgramData\\Anaconda3\\lib\\site-packages\\pandas\\io\\parsers.py\u001b[0m in \u001b[0;36mparser_f\u001b[1;34m(filepath_or_buffer, sep, delimiter, header, names, index_col, usecols, squeeze, prefix, mangle_dupe_cols, dtype, engine, converters, true_values, false_values, skipinitialspace, skiprows, nrows, na_values, keep_default_na, na_filter, verbose, skip_blank_lines, parse_dates, infer_datetime_format, keep_date_col, date_parser, dayfirst, iterator, chunksize, compression, thousands, decimal, lineterminator, quotechar, quoting, escapechar, comment, encoding, dialect, tupleize_cols, error_bad_lines, warn_bad_lines, skipfooter, doublequote, delim_whitespace, low_memory, memory_map, float_precision)\u001b[0m\n\u001b[0;32m    676\u001b[0m                     skip_blank_lines=skip_blank_lines)\n\u001b[0;32m    677\u001b[0m \u001b[1;33m\u001b[0m\u001b[0m\n\u001b[1;32m--> 678\u001b[1;33m         \u001b[1;32mreturn\u001b[0m \u001b[0m_read\u001b[0m\u001b[1;33m(\u001b[0m\u001b[0mfilepath_or_buffer\u001b[0m\u001b[1;33m,\u001b[0m \u001b[0mkwds\u001b[0m\u001b[1;33m)\u001b[0m\u001b[1;33m\u001b[0m\u001b[0m\n\u001b[0m\u001b[0;32m    679\u001b[0m \u001b[1;33m\u001b[0m\u001b[0m\n\u001b[0;32m    680\u001b[0m     \u001b[0mparser_f\u001b[0m\u001b[1;33m.\u001b[0m\u001b[0m__name__\u001b[0m \u001b[1;33m=\u001b[0m \u001b[0mname\u001b[0m\u001b[1;33m\u001b[0m\u001b[0m\n",
      "\u001b[1;32mC:\\ProgramData\\Anaconda3\\lib\\site-packages\\pandas\\io\\parsers.py\u001b[0m in \u001b[0;36m_read\u001b[1;34m(filepath_or_buffer, kwds)\u001b[0m\n\u001b[0;32m    438\u001b[0m \u001b[1;33m\u001b[0m\u001b[0m\n\u001b[0;32m    439\u001b[0m     \u001b[1;31m# Create the parser.\u001b[0m\u001b[1;33m\u001b[0m\u001b[1;33m\u001b[0m\u001b[0m\n\u001b[1;32m--> 440\u001b[1;33m     \u001b[0mparser\u001b[0m \u001b[1;33m=\u001b[0m \u001b[0mTextFileReader\u001b[0m\u001b[1;33m(\u001b[0m\u001b[0mfilepath_or_buffer\u001b[0m\u001b[1;33m,\u001b[0m \u001b[1;33m**\u001b[0m\u001b[0mkwds\u001b[0m\u001b[1;33m)\u001b[0m\u001b[1;33m\u001b[0m\u001b[0m\n\u001b[0m\u001b[0;32m    441\u001b[0m \u001b[1;33m\u001b[0m\u001b[0m\n\u001b[0;32m    442\u001b[0m     \u001b[1;32mif\u001b[0m \u001b[0mchunksize\u001b[0m \u001b[1;32mor\u001b[0m \u001b[0miterator\u001b[0m\u001b[1;33m:\u001b[0m\u001b[1;33m\u001b[0m\u001b[0m\n",
      "\u001b[1;32mC:\\ProgramData\\Anaconda3\\lib\\site-packages\\pandas\\io\\parsers.py\u001b[0m in \u001b[0;36m__init__\u001b[1;34m(self, f, engine, **kwds)\u001b[0m\n\u001b[0;32m    785\u001b[0m             \u001b[0mself\u001b[0m\u001b[1;33m.\u001b[0m\u001b[0moptions\u001b[0m\u001b[1;33m[\u001b[0m\u001b[1;34m'has_index_names'\u001b[0m\u001b[1;33m]\u001b[0m \u001b[1;33m=\u001b[0m \u001b[0mkwds\u001b[0m\u001b[1;33m[\u001b[0m\u001b[1;34m'has_index_names'\u001b[0m\u001b[1;33m]\u001b[0m\u001b[1;33m\u001b[0m\u001b[0m\n\u001b[0;32m    786\u001b[0m \u001b[1;33m\u001b[0m\u001b[0m\n\u001b[1;32m--> 787\u001b[1;33m         \u001b[0mself\u001b[0m\u001b[1;33m.\u001b[0m\u001b[0m_make_engine\u001b[0m\u001b[1;33m(\u001b[0m\u001b[0mself\u001b[0m\u001b[1;33m.\u001b[0m\u001b[0mengine\u001b[0m\u001b[1;33m)\u001b[0m\u001b[1;33m\u001b[0m\u001b[0m\n\u001b[0m\u001b[0;32m    788\u001b[0m \u001b[1;33m\u001b[0m\u001b[0m\n\u001b[0;32m    789\u001b[0m     \u001b[1;32mdef\u001b[0m \u001b[0mclose\u001b[0m\u001b[1;33m(\u001b[0m\u001b[0mself\u001b[0m\u001b[1;33m)\u001b[0m\u001b[1;33m:\u001b[0m\u001b[1;33m\u001b[0m\u001b[0m\n",
      "\u001b[1;32mC:\\ProgramData\\Anaconda3\\lib\\site-packages\\pandas\\io\\parsers.py\u001b[0m in \u001b[0;36m_make_engine\u001b[1;34m(self, engine)\u001b[0m\n\u001b[0;32m   1012\u001b[0m     \u001b[1;32mdef\u001b[0m \u001b[0m_make_engine\u001b[0m\u001b[1;33m(\u001b[0m\u001b[0mself\u001b[0m\u001b[1;33m,\u001b[0m \u001b[0mengine\u001b[0m\u001b[1;33m=\u001b[0m\u001b[1;34m'c'\u001b[0m\u001b[1;33m)\u001b[0m\u001b[1;33m:\u001b[0m\u001b[1;33m\u001b[0m\u001b[0m\n\u001b[0;32m   1013\u001b[0m         \u001b[1;32mif\u001b[0m \u001b[0mengine\u001b[0m \u001b[1;33m==\u001b[0m \u001b[1;34m'c'\u001b[0m\u001b[1;33m:\u001b[0m\u001b[1;33m\u001b[0m\u001b[0m\n\u001b[1;32m-> 1014\u001b[1;33m             \u001b[0mself\u001b[0m\u001b[1;33m.\u001b[0m\u001b[0m_engine\u001b[0m \u001b[1;33m=\u001b[0m \u001b[0mCParserWrapper\u001b[0m\u001b[1;33m(\u001b[0m\u001b[0mself\u001b[0m\u001b[1;33m.\u001b[0m\u001b[0mf\u001b[0m\u001b[1;33m,\u001b[0m \u001b[1;33m**\u001b[0m\u001b[0mself\u001b[0m\u001b[1;33m.\u001b[0m\u001b[0moptions\u001b[0m\u001b[1;33m)\u001b[0m\u001b[1;33m\u001b[0m\u001b[0m\n\u001b[0m\u001b[0;32m   1015\u001b[0m         \u001b[1;32melse\u001b[0m\u001b[1;33m:\u001b[0m\u001b[1;33m\u001b[0m\u001b[0m\n\u001b[0;32m   1016\u001b[0m             \u001b[1;32mif\u001b[0m \u001b[0mengine\u001b[0m \u001b[1;33m==\u001b[0m \u001b[1;34m'python'\u001b[0m\u001b[1;33m:\u001b[0m\u001b[1;33m\u001b[0m\u001b[0m\n",
      "\u001b[1;32mC:\\ProgramData\\Anaconda3\\lib\\site-packages\\pandas\\io\\parsers.py\u001b[0m in \u001b[0;36m__init__\u001b[1;34m(self, src, **kwds)\u001b[0m\n\u001b[0;32m   1706\u001b[0m         \u001b[0mkwds\u001b[0m\u001b[1;33m[\u001b[0m\u001b[1;34m'usecols'\u001b[0m\u001b[1;33m]\u001b[0m \u001b[1;33m=\u001b[0m \u001b[0mself\u001b[0m\u001b[1;33m.\u001b[0m\u001b[0musecols\u001b[0m\u001b[1;33m\u001b[0m\u001b[0m\n\u001b[0;32m   1707\u001b[0m \u001b[1;33m\u001b[0m\u001b[0m\n\u001b[1;32m-> 1708\u001b[1;33m         \u001b[0mself\u001b[0m\u001b[1;33m.\u001b[0m\u001b[0m_reader\u001b[0m \u001b[1;33m=\u001b[0m \u001b[0mparsers\u001b[0m\u001b[1;33m.\u001b[0m\u001b[0mTextReader\u001b[0m\u001b[1;33m(\u001b[0m\u001b[0msrc\u001b[0m\u001b[1;33m,\u001b[0m \u001b[1;33m**\u001b[0m\u001b[0mkwds\u001b[0m\u001b[1;33m)\u001b[0m\u001b[1;33m\u001b[0m\u001b[0m\n\u001b[0m\u001b[0;32m   1709\u001b[0m \u001b[1;33m\u001b[0m\u001b[0m\n\u001b[0;32m   1710\u001b[0m         \u001b[0mpassed_names\u001b[0m \u001b[1;33m=\u001b[0m \u001b[0mself\u001b[0m\u001b[1;33m.\u001b[0m\u001b[0mnames\u001b[0m \u001b[1;32mis\u001b[0m \u001b[1;32mNone\u001b[0m\u001b[1;33m\u001b[0m\u001b[0m\n",
      "\u001b[1;32mpandas\\_libs\\parsers.pyx\u001b[0m in \u001b[0;36mpandas._libs.parsers.TextReader.__cinit__\u001b[1;34m()\u001b[0m\n",
      "\u001b[1;32mpandas\\_libs\\parsers.pyx\u001b[0m in \u001b[0;36mpandas._libs.parsers.TextReader._setup_parser_source\u001b[1;34m()\u001b[0m\n",
      "\u001b[1;31mFileNotFoundError\u001b[0m: File b'Data/raw_residential_data.csv' does not exist"
     ]
    }
   ],
   "source": [
    "import pandas as pd\n",
    "import numpy as np\n",
    "\n",
    "df1 = pd.read_csv('Data/raw_residential_data.csv')\n",
    "df1.info()\n",
    "\n",
    "df2 = pd.read_csv('Data/raw_address_points.csv')\n",
    "df2.info()"
   ]
  },
  {
   "cell_type": "markdown",
   "metadata": {},
   "source": [
    "From what we can see we have data on 107,154 different residential. They are measured on 39 different measures where applicable. \n",
    "\n",
    "Several of the features are dummy variables of the other and are labeled with \"D\" we will use the D variables to make one hot endoding simpler to read. A dictionary of those dummy variables can be found in the appendix along with a description of each of the variables.\n",
    "\n",
    "Below we subset our variables of interest and assess the amount of NULL values and potential outliers that need to get addressed.\n"
   ]
  },
  {
   "cell_type": "code",
   "execution_count": null,
   "metadata": {},
   "outputs": [],
   "source": [
    "#Identify all categorical variables\n",
    "categories = [['CNDTN_D','CNDTN'],['HEAT_D','HEAT'],['STYLE_D','STYLE'],['STRUCT_D','STRUCT'],['GRADE_D','GRADE'],['ROOF_D','ROOF'],['EXTWALL_D','EXTWALL'],['INTWALL_D','INTWALL']]\n",
    "cat_drop = []\n",
    "for c in categories:\n",
    "    round(df1[c[1]])\n",
    "    cat_drop.append(c[0])\n",
    "    \n",
    "# eliminate redundant dummy variables\n",
    "df1.drop(cat_drop, inplace=True, axis=1)\n",
    "df1.head()\n"
   ]
  },
  {
   "cell_type": "code",
   "execution_count": null,
   "metadata": {},
   "outputs": [],
   "source": [
    "print(df1.isnull().sum())"
   ]
  },
  {
   "cell_type": "markdown",
   "metadata": {},
   "source": [
    "Our data set is still 107,154 observations but now contains only 31 attributes. However, we do see that there are several null values for various features. For each of the categorical or numeric features with 100 or fewer obs we will simply impute the missing values using the most common class or median value. However, the year remodeled, & price stand out and will probably need to be treated differently.\n",
    "\n",
    "For the year remodeled we will assume that variable is missing when no remodels have been done to the home. Thus, converting the year to bins and treating the 57k with no remodel year as there own class. Clusters with a high proportion of these class homes may provides insights into homes ideal for contractors.\n",
    "\n",
    "Considering the price is the price of the last sale. Considering the volatility of the housing market over time and inflation that we believe that feature could be misleading, so we will opt to leave it out of our analysis.\n",
    "\n",
    "In addition to the price category we will also drop several other codes that we have deemed not useful."
   ]
  },
  {
   "cell_type": "code",
   "execution_count": null,
   "metadata": {},
   "outputs": [],
   "source": [
    "bins = [0, 1960, 1970, 1980, 1990, 2000, 2010, 2020]\n",
    "labels = ['50+','50','40','30','20','10','0']\n",
    "df1['YR_RMDL_ClASS'] = pd.cut(df1['YR_RMDL'], bins=bins, labels=labels)\n",
    "df1['YR_RMDL_ClASS'] = df1['YR_RMDL_ClASS'].replace(np.nan, 'NONE', regex=True)\n",
    "\n",
    "# eliminate unnecessary variables\n",
    "df1.drop(['PRICE','QUALIFIED','BLDG_NUM','GRADE','CNDTN','EYB','USECODE','GIS_LAST_MOD_DTTM','YR_RMDL','SALEDATE'], inplace=True, axis=1)"
   ]
  },
  {
   "cell_type": "code",
   "execution_count": null,
   "metadata": {},
   "outputs": [],
   "source": [
    "df1.head()"
   ]
  },
  {
   "cell_type": "code",
   "execution_count": null,
   "metadata": {
    "scrolled": false
   },
   "outputs": [],
   "source": [
    "from sklearn.base import TransformerMixin\n",
    "class DataFrameImputer(TransformerMixin):\n",
    "    def __init__(self):\n",
    "        \"\"\"Impute missing values.\n",
    "\n",
    "        Columns of dtype object are imputed with the most frequent value \n",
    "        in column.\n",
    "\n",
    "        Columns of other types are imputed with mean of column.\n",
    "\n",
    "        \"\"\"\n",
    "    def fit(self, X, y=None):\n",
    "\n",
    "        self.fill = pd.Series([X[c].value_counts().index[0]\n",
    "            if X[c].dtype == np.dtype('O') else X[c].median() for c in X],\n",
    "            index=X.columns)\n",
    "\n",
    "        return self\n",
    "\n",
    "    def transform(self, X, y=None):\n",
    "        return X.fillna(self.fill)\n",
    "\n",
    "df = DataFrameImputer().fit_transform(df1)\n",
    "\n",
    "int_col = ['BATHRM','HF_BATHRM','HEAT','NUM_UNITS','ROOMS','BEDRM','AYB','STORIES','STYLE','STRUCT',\n",
    "           'EXTWALL','ROOF','INTWALL','KITCHENS','FIREPLACES','LANDAREA']\n",
    "\n",
    "for i in int_col:\n",
    "    df[i] = df[i].astype('int64')\n",
    "\n",
    "df.info()"
   ]
  },
  {
   "cell_type": "code",
   "execution_count": null,
   "metadata": {},
   "outputs": [],
   "source": [
    "df.head()"
   ]
  },
  {
   "cell_type": "markdown",
   "metadata": {},
   "source": [
    "We now have a cleaned up set of 22 different features for over 107k homes with all the missing values imputed. Before we begin analysis and clustering of our data we will explore these variables a little further to understand any transformations that may be required or any outliers that need to be addressed.\n",
    "\n",
    "Additional Outlier Vars that we determined need to be addressed:\n",
    "\n",
    "*Stories > 200*\n",
    "\n",
    "These are likely reporting errors as the there is a limit to the height of building in DC that would prevent any building being over 200 stories. This causes us to question any of the validity of the data in these observations, thus we will remove them from our data.\n",
    "\n",
    "*AYB < 1500*\n",
    "\n",
    "While it may be possible from some homes to be originally built prior to 1900, these earlier homes represent a very small proportion of our data. The majority of them have years reported as 50 or below. In order to help secure overall data quality we will remove those observations from our data. \n",
    "\n",
    "*Style > 25*\n",
    "\n",
    "Style Dummy variables greater than 25 represent two 'Styles'. Outbuildings & Vacants, neither of which we want to consider in our analysis.\n",
    "\n",
    "*Kitchens > 20*\n",
    "\n",
    "As you can see below there is only a single home with > 20 kitchens and considering the other variables this appears to be a \n",
    "reprorting error and will be removed from analyis.\n",
    "\n",
    "*Rooms > 100 or BedRooms > Rooms*\n",
    "\n",
    "Based on the square footage for the one home with > 100 rooms its seems highly unlikely that that value is accurate. Additionally, any scenario where bedrooms is greater than rooms is impossible so we will not like to use these in our analysis as well.\n"
   ]
  },
  {
   "cell_type": "markdown",
   "metadata": {},
   "source": [
    "***\n",
    "## Data Understanding 2\n",
    "<font color=blue>Visualize the any important attributes appropriately. Important: Provide an interpretation for any charts or graphs.</font>\n",
    "\n",
    "Let explore our data a little further to better understand the features that may be of importance for our analysis. First we will try to understand some of the different Wards in our data."
   ]
  },
  {
   "cell_type": "code",
   "execution_count": null,
   "metadata": {},
   "outputs": [],
   "source": [
    "#Plots before outlier Removals\n",
    "%matplotlib inline\n",
    "from matplotlib import pyplot as plt\n",
    "import seaborn as sns\n",
    "sns.set()\n",
    "plotVar = ['STORIES','AYB','STYLE','KITCHENS']\n",
    "\n",
    "sns.pairplot(df[plotVar], size=2)"
   ]
  },
  {
   "cell_type": "code",
   "execution_count": null,
   "metadata": {},
   "outputs": [],
   "source": [
    "#removal false records\n",
    "df = df[df.STORIES < 200]\n",
    "df = df[df.AYB > 1500]\n",
    "df = df[df.STYLE < 25]\n",
    "df = df[df.KITCHENS < 20]\n",
    "df = df[df.ROOMS < 100]\n",
    "df = df[df.ROOMS >= df.BEDRM]"
   ]
  },
  {
   "cell_type": "code",
   "execution_count": null,
   "metadata": {
    "scrolled": false
   },
   "outputs": [],
   "source": [
    "#plots after\n",
    "%matplotlib inline\n",
    "from matplotlib import pyplot as plt\n",
    "import seaborn as sns\n",
    "sns.set()\n",
    "plotVar = ['STORIES','AYB','STYLE','KITCHENS']\n",
    "\n",
    "sns.pairplot(df[plotVar], size=2)"
   ]
  },
  {
   "cell_type": "markdown",
   "metadata": {},
   "source": [
    "In order to help the client understand the how the home types for the various neighborhoods or wards relate we have to join with data collected through a different source to get distinct location information related to these addresses. However, not all address information is available for all the homes in our set so for the purposes of this we will only consider homes which we have neighborhood information available."
   ]
  },
  {
   "cell_type": "code",
   "execution_count": null,
   "metadata": {
    "scrolled": true
   },
   "outputs": [],
   "source": [
    "# subset the variables of interest that we care about\n",
    "df2 = df2.drop_duplicates(['SSL'], keep='last').set_index(\"SSL\")[[\"LATITUDE\",\"LONGITUDE\",\"ASSESSMENT_NBHD\",\"WARD\"]]\n",
    "# inner join the two datasets \n",
    "df = pd.merge(df,df2,how=\"inner\",on=\"SSL\")\n",
    "\n",
    "df.info()"
   ]
  },
  {
   "cell_type": "code",
   "execution_count": null,
   "metadata": {
    "scrolled": false
   },
   "outputs": [],
   "source": [
    "plt.figure()\n",
    "plt.scatter(df.LATITUDE, df.LONGITUDE, cmap=plt.cm.rainbow, s=2, linewidths=0)\n",
    "plt.xlabel('Latitude'), plt.ylabel('Longitude')"
   ]
  },
  {
   "cell_type": "markdown",
   "metadata": {},
   "source": [
    "***\n",
    "## Modeling and Evaluation  \n",
    "\n",
    "<font color=DarkRed>Different tasks will require different evaluation methods. Be as thorough as possible when analyzing\n",
    "the data you have chosen and use visualizations of the results to explain the performance and\n",
    "expected outcomes whenever possible. Guide the reader through your analysis with plenty of\n",
    "discussion of the results.</font>\n",
    "    \n",
    "#### Option A: Cluster Analysis  \n",
    "<font color=DarkRed>  \n",
    "__Train__: Perform cluster analysis using several clustering methods (adjust parameters).  \n",
    "__Eval__: Use internal and/or external validation measures to describe and compare the clusterings and the clusters— how did you determine a suitable number of clusters for each method?  \n",
    "__Visualize__: Use tables/visualization to discuss the found results. Explain each visualization in detail.  \n",
    "__Summarize__: Describe your results. What findings are the most interesting and why?</font>  \n",
    "\n",
    "#### Option B: Association Rule Mining  \n",
    "<font color=DarkRed>  \n",
    "__Train__: Create frequent itemsets and association rules (adjust parameters).  \n",
    "__Eval__: Use several measure for evaluating how interesting different rules are.  \n",
    "__Visualize__: Use tables/visualization to discuss the found results.  \n",
    "__Summarize__: Describe your results. What findings are the most compelling and why? \n",
    "</font>  \n",
    "\n",
    "#### Option C: Collaborative Filtering  \n",
    "<font color=DarkRed>  \n",
    "__Train__: Create user-item matrices or item-item matrices using collaborative filtering (adjust parameters).  \n",
    "__Eval__: Determine performance of the recommendations using different performance measures (explain the ramifications of each measure).  \n",
    "__Visualize__: Use tables/visualization to discuss the found results. Explain each visualization in detail.  \n",
    "__Summarize__: Describe your results. What findings are the most compelling and why? \n",
    "</font>"
   ]
  },
  {
   "cell_type": "markdown",
   "metadata": {},
   "source": [
    "***\n",
    "## Modeling and Evaluation 1\n",
    "<font color=blue>Train and adjust parameters</font>"
   ]
  },
  {
   "cell_type": "markdown",
   "metadata": {},
   "source": [
    "***\n",
    "## Modeling and Evaluation 2\n",
    "<font color=blue>Evaluate and Compare</font>  "
   ]
  },
  {
   "cell_type": "markdown",
   "metadata": {},
   "source": [
    "***\n",
    "## Modeling and Evaluation 3\n",
    "<font color=blue>Visualize Results</font>"
   ]
  },
  {
   "cell_type": "markdown",
   "metadata": {},
   "source": [
    "***\n",
    "## Modeling and Evaluation 4  \n",
    "<font color=blue>Summarize the Ramifications</font>  \n",
    "Blah blah.   "
   ]
  },
  {
   "cell_type": "markdown",
   "metadata": {},
   "source": [
    "***\n",
    "## Deployment\n",
    "<font color=blue>Be critical of your performance and tell the reader how you current model might be usable by other parties. Did you achieve your goals? If not, can you reign in the utility of your modeling? How useful is your model for interested parties (i.e., the companies or organizations that might want to use it)? How would your deploy your model for interested parties? What other data should be collected? How often would the model need to be updated, etc.?</font>  \n",
    "Blah derper blah blah blah.  "
   ]
  },
  {
   "cell_type": "markdown",
   "metadata": {},
   "source": [
    "***\n",
    "## Exceptional Work  \n",
    "<font color=blue>You have free reign to provide additional analyses or combine analyses.</font>  \n",
    "\n",
    "Blah blah. Blah blah blah BLAH!  "
   ]
  },
  {
   "cell_type": "markdown",
   "metadata": {},
   "source": [
    "***\n",
    "## Appendix "
   ]
  },
  {
   "cell_type": "code",
   "execution_count": null,
   "metadata": {
    "scrolled": false
   },
   "outputs": [],
   "source": [
    "df.info()"
   ]
  },
  {
   "cell_type": "markdown",
   "metadata": {},
   "source": [
    "- OBJECTID: Auto-generated internal unique ID\n",
    "- SSL: Square, suffix, lot ID\n",
    "- BATHRM: Number of full bathrooms\n",
    "- HF_BATHRM: Number of half bathrooms (no shower or tub)\n",
    "- HEAT: Heating code\n",
    "    - 0: No Data\n",
    "    - 1: Forced Air\n",
    "    - 2: Air-Oil\n",
    "    - 3: Wall Furnace\n",
    "    - 4: Electric Rad\n",
    "    - 5: Elec Base Brd\n",
    "    - 6: Water Base Brd\n",
    "    - 7: Warm Cool\n",
    "    - 8: Ht Pump\n",
    "    - 9: Evp Cool\n",
    "    - 10: Air Exchng\n",
    "    - 11: Gravity Furnac\n",
    "    - 12: Ind Unit\n",
    "    - 13: Hot Water Rad\n",
    "- AC: Air conditioning (Y/N)\n",
    "- NUM_UNITS: Number of units\n",
    "- ROOMS: Number of rooms\n",
    "- BEDRM: Number of bedrooms\n",
    "- AYB: The earliest time the main portion of the building was built. It is not affected by subsequent construction.\n",
    "- STORIES: Stories\n",
    "- SALE_NUM: Sale number\n",
    "- GBA: Gross building area in square feet\n",
    "- STYLE: Style code\n",
    "    - 0: Default\n",
    "    - 1: 1 Story\n",
    "    - 2: 1.5 Story Unfin\n",
    "    - 3: 1.5 Story Fin\n",
    "    - 4: 2 Story\n",
    "    - 5: 2.5 Story Unfin\n",
    "    - 6: 2.5 Story Fin\n",
    "    - 7: 3 Story\n",
    "    - 8: 3.5 Story\n",
    "    - 9: 3.5 Story Fin\n",
    "    - 10: 4 Story\n",
    "    - 11: 4.5 Story Unfin\n",
    "    - 12: 4.5 Story Fin\n",
    "    - 13: Bi-Level\n",
    "    - 14: Split Level\n",
    "    - 15: Split Foyer\n",
    "    - 94: Outbuildings\n",
    "    - 99: Vacant\n",
    "- STRUCT: Structure code\n",
    "    - 0: Default\n",
    "    - 1: Single\n",
    "    - 2: Multi\n",
    "    - 4: Town End\n",
    "    - 5: Town Inside\n",
    "    - 6: Row End\n",
    "    - 7: Row Inside\n",
    "    - 8: Semi-Detached\n",
    "    - 13: Vacant Land\n",
    "- EXTWALL: Exterior wall code\n",
    "    - 0: Default              \n",
    "    - 1: Plywood\n",
    "    - 2: Hardboard\n",
    "    - 3: Metal Siding\n",
    "    - 4: Vinyl Siding\n",
    "    - 5: Stucco\n",
    "    - 6: Wood Siding\n",
    "    - 7: Shingle\n",
    "    - 8: SPlaster\n",
    "    - 9: Rustic Log\n",
    "    - 10: Brick Veneer\n",
    "    - 11: Stone Veneer\n",
    "    - 12: Concrete Block\n",
    "    - 13: Stucco Block\n",
    "    - 14: Common Brick\n",
    "    - 15: Face Brick\n",
    "    - 16: Adobe\n",
    "    - 17: Stone\n",
    "    - 18: Concrete\n",
    "    - 19: Aluminum\n",
    "    - 20: Brick/Stone\n",
    "    - 21: Brick/Stucco\n",
    "    - 22: Brick/Siding\n",
    "    - 23: Stone/Stucco\n",
    "    - 24: Stone/Siding\n",
    "- ROOF: Roof type code\n",
    "    - 0: Typical\n",
    "    - 1: Comp Shingle\n",
    "    - 2: Built Up\n",
    "    - 3: Shingle\n",
    "    - 4: Shake\n",
    "    - 5: Metal- Pre\n",
    "    - 6: Metal- Sms\n",
    "    - 7: Metal- Cpr\n",
    "    - 8: Composition Ro\n",
    "    - 9: Concrete Tile\n",
    "    - 10: Clay Tile\n",
    "    - 11: Slate\n",
    "    - 12: Concrete\n",
    "    - 13: Neopren\n",
    "    - 14: Water Proof\n",
    "    - 15: Wood- FS\n",
    "- INTWALL: Interior wall code\n",
    "    - 0: Default\n",
    "    - 1: Resiliant\n",
    "    - 2: Carpet\n",
    "    - 3: Wood Floor\n",
    "    - 4: Ceramic Tile\n",
    "    - 5: Terrazo\n",
    "    - 6: Hardwood\n",
    "    - 7: Parquet\n",
    "    - 8: Vinyl Comp\n",
    "    - 9: Vinyl Sheet\n",
    "    - 10: Lt Concrete\n",
    "    - 11: Hardwood/Carp\n",
    "- KITCHENS: Number of kitchens\n",
    "- FIREPLACES: Number of fireplaces\n",
    "- LANDAREA: Land area of property in square feet\n",
    "- LATITUDE: Lattitude of address\n",
    "- LONGITUDE: Longitude of Address\n",
    "- ASSESSMENT_NBHD: DC Neighborhood\n",
    "- WARD: DC Wards"
   ]
  },
  {
   "cell_type": "code",
   "execution_count": null,
   "metadata": {},
   "outputs": [],
   "source": [
    "df.groupby(['WARD']).OBJECTID.count()"
   ]
  },
  {
   "cell_type": "code",
   "execution_count": null,
   "metadata": {},
   "outputs": [],
   "source": [
    "df.groupby(['ASSESSMENT_NBHD']).OBJECTID.count()"
   ]
  },
  {
   "cell_type": "code",
   "execution_count": null,
   "metadata": {},
   "outputs": [],
   "source": []
  }
 ],
 "metadata": {
  "kernelspec": {
   "display_name": "Python 3",
   "language": "python",
   "name": "python3"
  },
  "language_info": {
   "codemirror_mode": {
    "name": "ipython",
    "version": 3
   },
   "file_extension": ".py",
   "mimetype": "text/x-python",
   "name": "python",
   "nbconvert_exporter": "python",
   "pygments_lexer": "ipython3",
   "version": "3.7.0"
  }
 },
 "nbformat": 4,
 "nbformat_minor": 2
}
