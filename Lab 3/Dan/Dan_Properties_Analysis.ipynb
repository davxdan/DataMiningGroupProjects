{
 "cells": [
  {
   "cell_type": "markdown",
   "metadata": {},
   "source": [
    "# Lab 3 Assignment\n",
    "__Authors__: Dan Davieau, Paul Panek, Olga Tanyuk, Nathan Wall"
   ]
  },
  {
   "cell_type": "markdown",
   "metadata": {},
   "source": [
    "***\n",
    "## Business Understanding  \n",
    "<font color=blue>Describe the purpose of the data set you selected (i.e., why was this data collected in the first place?). How will you measure the effectiveness of a good algorithm? Why does your chosen validation method make sense for this specific\n",
    "dataset and the stakeholders needs?</font>\n",
    "\n",
    "Washington, D.C. is the capital of the United States. It's population is approaching 700,000 people, and has been growing since 2000 following a half-century of population decline. The city is highly segregated and has a high cost of living. In 2017, the average price of a single family home in the district was $649,000. \n",
    "\n",
    "Understanding the features and similarities of D.C.'s neighborhoods will provide insight into it's housing market. This analysis will provide a means for real estate agencies to develop profiles of the various wards in D.C.. By better understanding the housing characteristics of the different wards they can better recommend specific areas to begin searches based on a clients needs.\n",
    "\n",
    "We will measure effectivenss of different clustering algorithms to seperate various types of homes from the DC data set. For example single family homes on large plots of land should be categorized differently than downtown flats in a 10 story building. \n",
    "\n",
    "The process of evaluating will be based on two criteria:  \n",
    "\n",
    ">  1) Silhouette Coefficient and other statistical measures to determing the correct amount of clusters to use and our ability to seperate them into distinct categories.\n",
    "\n",
    ">  2) Manual evaluation of the observations to identify the similarity between the various clusters based on the our own ability to differentiate between different styles of homes."
   ]
  },
  {
   "cell_type": "markdown",
   "metadata": {},
   "source": [
    "***\n",
    "## Data Understanding 1\n",
    "<font color=blue>Describe the meaning and type of data (scale, values, etc.) for each attribute in the data file. Verify data quality: Are there missing values? Duplicate data? Outliers? Are those mistakes? How do you deal with these problems?</font>\n",
    "\n",
    "For this analysis we will be borrowing the \"raw_residential_data\" and \"raw_address_points.csv\" data sets from Christopher Coreeas's *\"DC Residential Properties\"* Kaggle: https://www.kaggle.com/christophercorrea/dc-residential-properties.  \n",
    "\n",
    "### raw_residential_data.csv \n",
    "The residential data contains housing characteristics for residential properties. It was created as part of the D.C. Geographic Information System (DC GIS) for the D.C. Office of the Chief Technology Officer (OCTO) and participating D.C. government agencies.\n",
    "\n",
    "Descriptions for the data are incomplete however the following was included:  \n",
    "\n",
    "> __OBJECTID:__ Auto-generated internal unique ID  \n",
    "__SSL__: Square, suffix, lot ID  \n",
    "__BATHRM__: Number of full bathrooms  \n",
    "__HF_BATHRM__: Number of half bathrooms (no shower or tub)  \n",
    "__HEAT__: Heating code *0 = No Data, 1 = Forced Air, 2 = Air-Oil, 3 = Wall Furnace, 4 = Electric Rad, 5 = Elec Base Brd, \n",
    "6 = Water Base Brd, 7 = Warm Cool, 8 = Ht Pump, 9 = Evp Cool, 10 = Air Exchng, 11 = Gravity Furnac, 12 = Ind Unit, 13 = Hot Water Rad*  \n",
    "__AC:__ Air conditioning (Y/N)  \n",
    "__NUM_UNITS:__ Number of units  \n",
    "__ROOMS:__ Number of rooms  \n",
    "__BEDRM:__ Number of bedrooms  \n",
    "__AYB:__ The earliest time the main portion of the building was built. It is not affected by subsequent construction.  \n",
    "__STORIES:__ Stories  \n",
    "__SALE_NUM:__ Sale number  \n",
    "__GBA:__ Gross building area in square feet  \n",
    "__STYLE:__ Style code  *0 = Default, 1 = 1 Story, 2 = 1.5 Story Unfin, 3 = 1.5 Story Fin, 4 = 2 Story, 5 = 2.5 Story Unfin, 6 = 2.5 Story Fin, 7 = 3 Story, 8 = 3.5 Story, 9 = 3.5 Story Fin, 10 = 4 Story, 11 = 4.5 Story Unfin, 12 = 4.5 Story Fin, 13 = Bi-Level, 14 = Split Level, 15 = Split Foyer, 94 = Outbuildings, 99 = Vacant*  \n",
    "__STRUCT:__ Structure code *0 = Default, 1 = Single, 2 = Multi, 4 = Town End, 5 = Town Inside, 6 = Row End, 7 = Row Inside, 8 = Semi-Detached, 13 = Vacant Land*  \n",
    "__EXTWALL:__ Exterior wall code *0 = Default, 1 = Plywood, 2 = Hardboard, 3 = Metal Siding, 4 = Vinyl Siding, 5 = Stucco, 6 = Wood Siding, 7 = Shingle, 8 = SPlaster, 9 = Rustic Log, 10 = Brick Veneer, 11 = Stone Veneer, 12 = Concrete Block, 13 = Stucco Block, 14 = Common Brick, 15 = Face Brick, 16 = Adobe, 17 = Stone, 18 = Concrete, 19 = Aluminum, 20 = Brick/Stone, 21 = Brick/Stucco, 22 = Brick/Siding, 23 = Stone/Stucco, 24 = Stone/Siding*  \n",
    "__ROOF:__ Roof type code *0 = Typical, 1 = Comp Shingle, 2 = Built Up, 3 = Shingle, 4 = Shake, 5 = Metal- Pre, 6 = Metal- Sms, 7 = Metal- Cpr, 8 = Composition Ro, 9 = Concrete Tile, 10 = Clay Tile, 11 = Slate, 12 = Concrete, 13 = Neopren, 14 = Water Proof, 15 = Wood- FS*  \n",
    "__INTWALL:__  Interior wall code *, 0 = Default, 1 = Resiliant, 2 = Carpet, 3 = Wood Floor, 4 = Ceramic Tile, 5 = Terrazo, 6 = Hardwood, 7 = Parquet, 8 = Vinyl Comp, 9 = Vinyl Sheet, 10 = Lt Concrete, 11 = Hardwood/Carp*  \n",
    "__KITCHENS:__ Number of kitchens  \n",
    "__FIREPLACES:__ Number of fireplaces  \n",
    "__LANDAREA:__ Land area of property in square feet  \n",
    "__LATITUDE:__ Lattitude of address  \n",
    "__LONGITUDE:__ Longitude of Address  \n",
    "__ASSESSMENT_NBHD:__ DC Neighborhood  \n",
    "__WARD:__ DC Wards  \n",
    "\n",
    "### raw_address_points.csv\n",
    "The raw address points data contains locations and attributes of Address points as of July 2018. This file is part of the Master Address Repository (MAR) for the D.C. Office of the Chief Technology Officer and DC Department of Consumer and Regulatory Affairs. It contains the standardized addresses in the District of Columbia which are typically placed on the buildings. \n",
    "\n",
    "__Attribute Descriptions__\n",
    "> __SSL:__ There is no useful information is included in the metadata that describes this attribute except that it represents \"Square Suffix and Lot\".  \n",
    "Upon researching http://opendata.dc.gov/datasets/3c8c90b33dbe41cd965634dda58dfd80_7 we found that this means:  \n",
    "*The relationship between an address and an SSLis a many to many relationship. One SSL (Square, Suffix, Lot) can have multiple addresses located on it. This often includes garden style apartment complexes as well as corner addresses with separate addresses facing each adjacent street. One address can also sit upon multiple properties. One single family residence can sit upon multiple lots. The address records only contain one 'base' SSL (usually comes from OwnerPly). The cross reference table contains the many to many relationship between an address and an SSL. Some addresses do not have an associated SSL (such as some metro entrances or many addresses on Federal property). In, the address table, each address record will only be associated with one SSL. That SSL will be the base SSL, which is the SSL under which the address point is located.*\n",
    "\n",
    "We had to find a way to join the data. After analyzing uniqueness and identifiers we concluded that the  \"SSL\" attribute is our only option.\n",
    "\n",
    "We are unable to match 670 of our 107087 raw_residential_data records to the raw_address_points data. We will exclude these in from our analysis. "
   ]
  },
  {
   "cell_type": "code",
   "execution_count": 1,
   "metadata": {},
   "outputs": [
    {
     "name": "stdout",
     "output_type": "stream",
     "text": [
      "<class 'pandas.core.frame.DataFrame'>\n",
      "RangeIndex: 107154 entries, 0 to 107153\n",
      "Data columns (total 39 columns):\n",
      "OBJECTID             107154 non-null int64\n",
      "SSL                  107154 non-null object\n",
      "BATHRM               107127 non-null float64\n",
      "HF_BATHRM            107126 non-null float64\n",
      "HEAT                 107127 non-null float64\n",
      "HEAT_D               107127 non-null object\n",
      "AC                   107127 non-null object\n",
      "NUM_UNITS            107127 non-null float64\n",
      "ROOMS                107110 non-null float64\n",
      "BEDRM                107123 non-null float64\n",
      "AYB                  107141 non-null float64\n",
      "YR_RMDL              49446 non-null float64\n",
      "EYB                  107154 non-null int64\n",
      "STORIES              107080 non-null float64\n",
      "SALEDATE             107154 non-null object\n",
      "PRICE                87866 non-null float64\n",
      "QUALIFIED            107154 non-null object\n",
      "SALE_NUM             107154 non-null int64\n",
      "GBA                  107154 non-null int64\n",
      "BLDG_NUM             107154 non-null int64\n",
      "STYLE                107127 non-null float64\n",
      "STYLE_D              107127 non-null object\n",
      "STRUCT               107127 non-null float64\n",
      "STRUCT_D             107127 non-null object\n",
      "GRADE                107127 non-null float64\n",
      "GRADE_D              107127 non-null object\n",
      "CNDTN                107127 non-null float64\n",
      "CNDTN_D              107127 non-null object\n",
      "EXTWALL              107127 non-null float64\n",
      "EXTWALL_D            107127 non-null object\n",
      "ROOF                 107127 non-null float64\n",
      "ROOF_D               107127 non-null object\n",
      "INTWALL              107127 non-null float64\n",
      "INTWALL_D            107127 non-null object\n",
      "KITCHENS             107126 non-null float64\n",
      "FIREPLACES           107126 non-null float64\n",
      "USECODE              107154 non-null int64\n",
      "LANDAREA             107154 non-null int64\n",
      "GIS_LAST_MOD_DTTM    107154 non-null object\n",
      "dtypes: float64(19), int64(7), object(13)\n",
      "memory usage: 31.9+ MB\n"
     ]
    }
   ],
   "source": [
    "#Residential Data\n",
    "import os\n",
    "path=\"C:/Users/danie/Documents/GitHub/DataMiningGroupProjects/Lab 3\"\n",
    "os.chdir(path)\n",
    "import pandas as pd\n",
    "import numpy as np\n",
    "df1 = pd.read_csv('Data/raw_residential_data.csv',low_memory=False)\n",
    "df2 = pd.read_csv('Data/raw_address_points.csv',low_memory=False)\n",
    "df1.info()"
   ]
  },
  {
   "cell_type": "markdown",
   "metadata": {},
   "source": [
    "We have 107,154 residential observations with 39 attributes. \n",
    "\n",
    "Several of the features are dummy variables of the other and are labeled with \"D\". We will use the D variables to make one hot endoding simpler to read.\n",
    "\n",
    "Below we subset our variables of interest and assess the amount of NULL values and potential outliers that need to be addressed."
   ]
  },
  {
   "cell_type": "code",
   "execution_count": 2,
   "metadata": {},
   "outputs": [
    {
     "name": "stdout",
     "output_type": "stream",
     "text": [
      "<class 'pandas.core.frame.DataFrame'>\n",
      "RangeIndex: 107154 entries, 0 to 107153\n",
      "Data columns (total 31 columns):\n",
      "OBJECTID             107154 non-null int64\n",
      "SSL                  107154 non-null object\n",
      "BATHRM               107127 non-null float64\n",
      "HF_BATHRM            107126 non-null float64\n",
      "HEAT                 107127 non-null float64\n",
      "AC                   107127 non-null object\n",
      "NUM_UNITS            107127 non-null float64\n",
      "ROOMS                107110 non-null float64\n",
      "BEDRM                107123 non-null float64\n",
      "AYB                  107141 non-null float64\n",
      "YR_RMDL              49446 non-null float64\n",
      "EYB                  107154 non-null int64\n",
      "STORIES              107080 non-null float64\n",
      "SALEDATE             107154 non-null object\n",
      "PRICE                87866 non-null float64\n",
      "QUALIFIED            107154 non-null object\n",
      "SALE_NUM             107154 non-null int64\n",
      "GBA                  107154 non-null int64\n",
      "BLDG_NUM             107154 non-null int64\n",
      "STYLE                107127 non-null float64\n",
      "STRUCT               107127 non-null float64\n",
      "GRADE                107127 non-null float64\n",
      "CNDTN                107127 non-null float64\n",
      "EXTWALL              107127 non-null float64\n",
      "ROOF                 107127 non-null float64\n",
      "INTWALL              107127 non-null float64\n",
      "KITCHENS             107126 non-null float64\n",
      "FIREPLACES           107126 non-null float64\n",
      "USECODE              107154 non-null int64\n",
      "LANDAREA             107154 non-null int64\n",
      "GIS_LAST_MOD_DTTM    107154 non-null object\n",
      "dtypes: float64(19), int64(7), object(5)\n",
      "memory usage: 25.3+ MB\n"
     ]
    }
   ],
   "source": [
    "#Identify all categorical variables\n",
    "categories = [['CNDTN_D','CNDTN'],['HEAT_D','HEAT'],['STYLE_D','STYLE'],['STRUCT_D','STRUCT'],['GRADE_D','GRADE'],['ROOF_D','ROOF'],['EXTWALL_D','EXTWALL'],['INTWALL_D','INTWALL']]\n",
    "cat_drop = []\n",
    "for c in categories:\n",
    "    round(df1[c[1]])\n",
    "    cat_drop.append(c[0])\n",
    "# eliminate redundant dummy variables\n",
    "df1.drop(cat_drop, inplace=True, axis=1)\n",
    "df1.info()"
   ]
  },
  {
   "cell_type": "markdown",
   "metadata": {},
   "source": [
    "Our data set is still 107,154 observations but now contains only 31 attributes. However, we do see that there are several null values for various features. For each of the categorical or numeric features with 100 or fewer obs we will simply impute the missing values using the most common class or median value. However, the year remodeled, & price stand out and will probably need to be treated differently.\n",
    "\n",
    "For the year remodeled we will assume that variable is missing when no remodels have been done to the home. Thus, converting the year to bins and treating the 57k with no remodel year as there own class. Clusters with a high proportion of these class homes may provide insights into homes for contractors to target.\n",
    "\n",
    "The price of each property observation is as of the last sale. Considering volatility in the housing market and inflation over time we chose to leave it out of our analysis.\n",
    "\n",
    "In addition to the price category we will also drop several other codes that we have deemed not useful."
   ]
  },
  {
   "cell_type": "code",
   "execution_count": 3,
   "metadata": {},
   "outputs": [],
   "source": [
    "bins = [0, 1960, 1970, 1980, 1990, 2000, 2010, 2020]\n",
    "labels = ['50+','50','40','30','20','10','0']\n",
    "df1['YR_RMDL_ClASS'] = pd.cut(df1['YR_RMDL'], bins=bins, labels=labels)\n",
    "df1['YR_RMDL_ClASS'] = df1['YR_RMDL_ClASS'].replace(np.nan, 'NONE', regex=True)\n",
    "#eliminate unnecessary variables\n",
    "df1.drop(['PRICE','QUALIFIED','BLDG_NUM','GRADE','CNDTN','EYB','USECODE','GIS_LAST_MOD_DTTM','YR_RMDL','SALEDATE'], inplace=True, axis=1)"
   ]
  },
  {
   "cell_type": "code",
   "execution_count": 4,
   "metadata": {
    "scrolled": false
   },
   "outputs": [
    {
     "data": {
      "text/html": [
       "<div>\n",
       "<style scoped>\n",
       "    .dataframe tbody tr th:only-of-type {\n",
       "        vertical-align: middle;\n",
       "    }\n",
       "\n",
       "    .dataframe tbody tr th {\n",
       "        vertical-align: top;\n",
       "    }\n",
       "\n",
       "    .dataframe thead th {\n",
       "        text-align: right;\n",
       "    }\n",
       "</style>\n",
       "<table border=\"1\" class=\"dataframe\">\n",
       "  <thead>\n",
       "    <tr style=\"text-align: right;\">\n",
       "      <th></th>\n",
       "      <th>OBJECTID</th>\n",
       "      <th>SSL</th>\n",
       "      <th>BATHRM</th>\n",
       "      <th>HF_BATHRM</th>\n",
       "      <th>HEAT</th>\n",
       "      <th>AC</th>\n",
       "      <th>NUM_UNITS</th>\n",
       "      <th>ROOMS</th>\n",
       "      <th>BEDRM</th>\n",
       "      <th>AYB</th>\n",
       "      <th>...</th>\n",
       "      <th>GBA</th>\n",
       "      <th>STYLE</th>\n",
       "      <th>STRUCT</th>\n",
       "      <th>EXTWALL</th>\n",
       "      <th>ROOF</th>\n",
       "      <th>INTWALL</th>\n",
       "      <th>KITCHENS</th>\n",
       "      <th>FIREPLACES</th>\n",
       "      <th>LANDAREA</th>\n",
       "      <th>YR_RMDL_ClASS</th>\n",
       "    </tr>\n",
       "  </thead>\n",
       "  <tbody>\n",
       "    <tr>\n",
       "      <th>count</th>\n",
       "      <td>107154.00000</td>\n",
       "      <td>107154</td>\n",
       "      <td>107154.000000</td>\n",
       "      <td>107154.000000</td>\n",
       "      <td>107154.000000</td>\n",
       "      <td>107154</td>\n",
       "      <td>107154.000000</td>\n",
       "      <td>107154.000000</td>\n",
       "      <td>107154.000000</td>\n",
       "      <td>107154.000000</td>\n",
       "      <td>...</td>\n",
       "      <td>107154.000000</td>\n",
       "      <td>107154.000000</td>\n",
       "      <td>107154.000000</td>\n",
       "      <td>107154.000000</td>\n",
       "      <td>107154.000000</td>\n",
       "      <td>107154.000000</td>\n",
       "      <td>107154.000000</td>\n",
       "      <td>107154.000000</td>\n",
       "      <td>107154.000000</td>\n",
       "      <td>107154</td>\n",
       "    </tr>\n",
       "    <tr>\n",
       "      <th>unique</th>\n",
       "      <td>NaN</td>\n",
       "      <td>107087</td>\n",
       "      <td>NaN</td>\n",
       "      <td>NaN</td>\n",
       "      <td>NaN</td>\n",
       "      <td>3</td>\n",
       "      <td>NaN</td>\n",
       "      <td>NaN</td>\n",
       "      <td>NaN</td>\n",
       "      <td>NaN</td>\n",
       "      <td>...</td>\n",
       "      <td>NaN</td>\n",
       "      <td>NaN</td>\n",
       "      <td>NaN</td>\n",
       "      <td>NaN</td>\n",
       "      <td>NaN</td>\n",
       "      <td>NaN</td>\n",
       "      <td>NaN</td>\n",
       "      <td>NaN</td>\n",
       "      <td>NaN</td>\n",
       "      <td>8</td>\n",
       "    </tr>\n",
       "    <tr>\n",
       "      <th>top</th>\n",
       "      <td>NaN</td>\n",
       "      <td>5881S   0004</td>\n",
       "      <td>NaN</td>\n",
       "      <td>NaN</td>\n",
       "      <td>NaN</td>\n",
       "      <td>Y</td>\n",
       "      <td>NaN</td>\n",
       "      <td>NaN</td>\n",
       "      <td>NaN</td>\n",
       "      <td>NaN</td>\n",
       "      <td>...</td>\n",
       "      <td>NaN</td>\n",
       "      <td>NaN</td>\n",
       "      <td>NaN</td>\n",
       "      <td>NaN</td>\n",
       "      <td>NaN</td>\n",
       "      <td>NaN</td>\n",
       "      <td>NaN</td>\n",
       "      <td>NaN</td>\n",
       "      <td>NaN</td>\n",
       "      <td>NONE</td>\n",
       "    </tr>\n",
       "    <tr>\n",
       "      <th>freq</th>\n",
       "      <td>NaN</td>\n",
       "      <td>5</td>\n",
       "      <td>NaN</td>\n",
       "      <td>NaN</td>\n",
       "      <td>NaN</td>\n",
       "      <td>66581</td>\n",
       "      <td>NaN</td>\n",
       "      <td>NaN</td>\n",
       "      <td>NaN</td>\n",
       "      <td>NaN</td>\n",
       "      <td>...</td>\n",
       "      <td>NaN</td>\n",
       "      <td>NaN</td>\n",
       "      <td>NaN</td>\n",
       "      <td>NaN</td>\n",
       "      <td>NaN</td>\n",
       "      <td>NaN</td>\n",
       "      <td>NaN</td>\n",
       "      <td>NaN</td>\n",
       "      <td>NaN</td>\n",
       "      <td>57708</td>\n",
       "    </tr>\n",
       "    <tr>\n",
       "      <th>mean</th>\n",
       "      <td>53577.50000</td>\n",
       "      <td>NaN</td>\n",
       "      <td>2.033186</td>\n",
       "      <td>0.607117</td>\n",
       "      <td>7.647778</td>\n",
       "      <td>NaN</td>\n",
       "      <td>1.198107</td>\n",
       "      <td>7.360033</td>\n",
       "      <td>3.372893</td>\n",
       "      <td>1929.684799</td>\n",
       "      <td>...</td>\n",
       "      <td>1713.966394</td>\n",
       "      <td>4.339894</td>\n",
       "      <td>5.012487</td>\n",
       "      <td>13.361274</td>\n",
       "      <td>3.989464</td>\n",
       "      <td>6.144540</td>\n",
       "      <td>1.219348</td>\n",
       "      <td>0.620499</td>\n",
       "      <td>3419.642029</td>\n",
       "      <td>NaN</td>\n",
       "    </tr>\n",
       "    <tr>\n",
       "      <th>std</th>\n",
       "      <td>30932.83971</td>\n",
       "      <td>NaN</td>\n",
       "      <td>1.064493</td>\n",
       "      <td>0.616372</td>\n",
       "      <td>5.038769</td>\n",
       "      <td>NaN</td>\n",
       "      <td>0.597237</td>\n",
       "      <td>2.345446</td>\n",
       "      <td>1.150193</td>\n",
       "      <td>94.579944</td>\n",
       "      <td>...</td>\n",
       "      <td>881.222668</td>\n",
       "      <td>1.545504</td>\n",
       "      <td>2.874190</td>\n",
       "      <td>3.927595</td>\n",
       "      <td>3.348786</td>\n",
       "      <td>1.957714</td>\n",
       "      <td>0.621375</td>\n",
       "      <td>0.894668</td>\n",
       "      <td>6122.659252</td>\n",
       "      <td>NaN</td>\n",
       "    </tr>\n",
       "    <tr>\n",
       "      <th>min</th>\n",
       "      <td>1.00000</td>\n",
       "      <td>NaN</td>\n",
       "      <td>0.000000</td>\n",
       "      <td>0.000000</td>\n",
       "      <td>0.000000</td>\n",
       "      <td>NaN</td>\n",
       "      <td>0.000000</td>\n",
       "      <td>0.000000</td>\n",
       "      <td>0.000000</td>\n",
       "      <td>0.000000</td>\n",
       "      <td>...</td>\n",
       "      <td>0.000000</td>\n",
       "      <td>0.000000</td>\n",
       "      <td>0.000000</td>\n",
       "      <td>0.000000</td>\n",
       "      <td>0.000000</td>\n",
       "      <td>0.000000</td>\n",
       "      <td>0.000000</td>\n",
       "      <td>0.000000</td>\n",
       "      <td>0.000000</td>\n",
       "      <td>NaN</td>\n",
       "    </tr>\n",
       "    <tr>\n",
       "      <th>25%</th>\n",
       "      <td>26789.25000</td>\n",
       "      <td>NaN</td>\n",
       "      <td>1.000000</td>\n",
       "      <td>0.000000</td>\n",
       "      <td>1.000000</td>\n",
       "      <td>NaN</td>\n",
       "      <td>1.000000</td>\n",
       "      <td>6.000000</td>\n",
       "      <td>3.000000</td>\n",
       "      <td>1914.000000</td>\n",
       "      <td>...</td>\n",
       "      <td>1190.000000</td>\n",
       "      <td>4.000000</td>\n",
       "      <td>1.000000</td>\n",
       "      <td>14.000000</td>\n",
       "      <td>1.000000</td>\n",
       "      <td>6.000000</td>\n",
       "      <td>1.000000</td>\n",
       "      <td>0.000000</td>\n",
       "      <td>1599.000000</td>\n",
       "      <td>NaN</td>\n",
       "    </tr>\n",
       "    <tr>\n",
       "      <th>50%</th>\n",
       "      <td>53577.50000</td>\n",
       "      <td>NaN</td>\n",
       "      <td>2.000000</td>\n",
       "      <td>1.000000</td>\n",
       "      <td>7.000000</td>\n",
       "      <td>NaN</td>\n",
       "      <td>1.000000</td>\n",
       "      <td>7.000000</td>\n",
       "      <td>3.000000</td>\n",
       "      <td>1930.000000</td>\n",
       "      <td>...</td>\n",
       "      <td>1480.000000</td>\n",
       "      <td>4.000000</td>\n",
       "      <td>7.000000</td>\n",
       "      <td>14.000000</td>\n",
       "      <td>2.000000</td>\n",
       "      <td>6.000000</td>\n",
       "      <td>1.000000</td>\n",
       "      <td>0.000000</td>\n",
       "      <td>2363.000000</td>\n",
       "      <td>NaN</td>\n",
       "    </tr>\n",
       "    <tr>\n",
       "      <th>75%</th>\n",
       "      <td>80365.75000</td>\n",
       "      <td>NaN</td>\n",
       "      <td>3.000000</td>\n",
       "      <td>1.000000</td>\n",
       "      <td>13.000000</td>\n",
       "      <td>NaN</td>\n",
       "      <td>1.000000</td>\n",
       "      <td>8.000000</td>\n",
       "      <td>4.000000</td>\n",
       "      <td>1947.000000</td>\n",
       "      <td>...</td>\n",
       "      <td>1966.000000</td>\n",
       "      <td>4.000000</td>\n",
       "      <td>7.000000</td>\n",
       "      <td>14.000000</td>\n",
       "      <td>6.000000</td>\n",
       "      <td>6.000000</td>\n",
       "      <td>1.000000</td>\n",
       "      <td>1.000000</td>\n",
       "      <td>4199.000000</td>\n",
       "      <td>NaN</td>\n",
       "    </tr>\n",
       "    <tr>\n",
       "      <th>max</th>\n",
       "      <td>107154.00000</td>\n",
       "      <td>NaN</td>\n",
       "      <td>24.000000</td>\n",
       "      <td>11.000000</td>\n",
       "      <td>13.000000</td>\n",
       "      <td>NaN</td>\n",
       "      <td>6.000000</td>\n",
       "      <td>101.000000</td>\n",
       "      <td>54.000000</td>\n",
       "      <td>2019.000000</td>\n",
       "      <td>...</td>\n",
       "      <td>45384.000000</td>\n",
       "      <td>99.000000</td>\n",
       "      <td>13.000000</td>\n",
       "      <td>24.000000</td>\n",
       "      <td>15.000000</td>\n",
       "      <td>11.000000</td>\n",
       "      <td>44.000000</td>\n",
       "      <td>13.000000</td>\n",
       "      <td>942632.000000</td>\n",
       "      <td>NaN</td>\n",
       "    </tr>\n",
       "  </tbody>\n",
       "</table>\n",
       "<p>11 rows × 22 columns</p>\n",
       "</div>"
      ],
      "text/plain": [
       "            OBJECTID           SSL         BATHRM      HF_BATHRM  \\\n",
       "count   107154.00000        107154  107154.000000  107154.000000   \n",
       "unique           NaN        107087            NaN            NaN   \n",
       "top              NaN  5881S   0004            NaN            NaN   \n",
       "freq             NaN             5            NaN            NaN   \n",
       "mean     53577.50000           NaN       2.033186       0.607117   \n",
       "std      30932.83971           NaN       1.064493       0.616372   \n",
       "min          1.00000           NaN       0.000000       0.000000   \n",
       "25%      26789.25000           NaN       1.000000       0.000000   \n",
       "50%      53577.50000           NaN       2.000000       1.000000   \n",
       "75%      80365.75000           NaN       3.000000       1.000000   \n",
       "max     107154.00000           NaN      24.000000      11.000000   \n",
       "\n",
       "                 HEAT      AC      NUM_UNITS          ROOMS          BEDRM  \\\n",
       "count   107154.000000  107154  107154.000000  107154.000000  107154.000000   \n",
       "unique            NaN       3            NaN            NaN            NaN   \n",
       "top               NaN       Y            NaN            NaN            NaN   \n",
       "freq              NaN   66581            NaN            NaN            NaN   \n",
       "mean         7.647778     NaN       1.198107       7.360033       3.372893   \n",
       "std          5.038769     NaN       0.597237       2.345446       1.150193   \n",
       "min          0.000000     NaN       0.000000       0.000000       0.000000   \n",
       "25%          1.000000     NaN       1.000000       6.000000       3.000000   \n",
       "50%          7.000000     NaN       1.000000       7.000000       3.000000   \n",
       "75%         13.000000     NaN       1.000000       8.000000       4.000000   \n",
       "max         13.000000     NaN       6.000000     101.000000      54.000000   \n",
       "\n",
       "                  AYB      ...                  GBA          STYLE  \\\n",
       "count   107154.000000      ...        107154.000000  107154.000000   \n",
       "unique            NaN      ...                  NaN            NaN   \n",
       "top               NaN      ...                  NaN            NaN   \n",
       "freq              NaN      ...                  NaN            NaN   \n",
       "mean      1929.684799      ...          1713.966394       4.339894   \n",
       "std         94.579944      ...           881.222668       1.545504   \n",
       "min          0.000000      ...             0.000000       0.000000   \n",
       "25%       1914.000000      ...          1190.000000       4.000000   \n",
       "50%       1930.000000      ...          1480.000000       4.000000   \n",
       "75%       1947.000000      ...          1966.000000       4.000000   \n",
       "max       2019.000000      ...         45384.000000      99.000000   \n",
       "\n",
       "               STRUCT        EXTWALL           ROOF        INTWALL  \\\n",
       "count   107154.000000  107154.000000  107154.000000  107154.000000   \n",
       "unique            NaN            NaN            NaN            NaN   \n",
       "top               NaN            NaN            NaN            NaN   \n",
       "freq              NaN            NaN            NaN            NaN   \n",
       "mean         5.012487      13.361274       3.989464       6.144540   \n",
       "std          2.874190       3.927595       3.348786       1.957714   \n",
       "min          0.000000       0.000000       0.000000       0.000000   \n",
       "25%          1.000000      14.000000       1.000000       6.000000   \n",
       "50%          7.000000      14.000000       2.000000       6.000000   \n",
       "75%          7.000000      14.000000       6.000000       6.000000   \n",
       "max         13.000000      24.000000      15.000000      11.000000   \n",
       "\n",
       "             KITCHENS     FIREPLACES       LANDAREA  YR_RMDL_ClASS  \n",
       "count   107154.000000  107154.000000  107154.000000         107154  \n",
       "unique            NaN            NaN            NaN              8  \n",
       "top               NaN            NaN            NaN           NONE  \n",
       "freq              NaN            NaN            NaN          57708  \n",
       "mean         1.219348       0.620499    3419.642029            NaN  \n",
       "std          0.621375       0.894668    6122.659252            NaN  \n",
       "min          0.000000       0.000000       0.000000            NaN  \n",
       "25%          1.000000       0.000000    1599.000000            NaN  \n",
       "50%          1.000000       0.000000    2363.000000            NaN  \n",
       "75%          1.000000       1.000000    4199.000000            NaN  \n",
       "max         44.000000      13.000000  942632.000000            NaN  \n",
       "\n",
       "[11 rows x 22 columns]"
      ]
     },
     "execution_count": 4,
     "metadata": {},
     "output_type": "execute_result"
    }
   ],
   "source": [
    "from sklearn.base import TransformerMixin\n",
    "class DataFrameImputer(TransformerMixin):\n",
    "    def __init__(self):\n",
    "        \"\"\"Impute missing values. Categorical are imputed with the most frequent value.\n",
    "        Others are imputed with mean.\n",
    "        \"\"\"\n",
    "    def fit(self, X, y=None):\n",
    "        self.fill = pd.Series([X[c].value_counts().index[0]\n",
    "            if X[c].dtype == np.dtype('O') else X[c].median() for c in X],\n",
    "            index=X.columns)\n",
    "        return self\n",
    "    def transform(self, X, y=None):\n",
    "        return X.fillna(self.fill)\n",
    "df = DataFrameImputer().fit_transform(df1)\n",
    "int_col = ['BATHRM','HF_BATHRM','HEAT','NUM_UNITS','ROOMS','BEDRM','AYB','STORIES','STYLE','STRUCT',\n",
    "           'EXTWALL','ROOF','INTWALL','KITCHENS','FIREPLACES','LANDAREA']\n",
    "for i in int_col:\n",
    "    df[i] = df[i].astype('int64')\n",
    "df.describe(include='all')"
   ]
  },
  {
   "cell_type": "markdown",
   "metadata": {},
   "source": [
    "We now have a cleaned up set of 22 different features for over 107k homes with all the missing values imputed. Before we begin analysis and clustering of our data we will explore these variables a little further to understand any transformations that may be required or any outliers that need to be addressed.\n",
    "\n",
    "##### Additional Outliers to be Addressed  \n",
    "***\n",
    "__Stories > 200__  \n",
    "These are likely reporting errors as the there is a limit to the height of building in DC that would prevent any building being over 200 stories. This causes us to question any of the validity of the data in these observations, thus we will remove them from our data."
   ]
  },
  {
   "cell_type": "code",
   "execution_count": 5,
   "metadata": {
    "scrolled": false
   },
   "outputs": [
    {
     "data": {
      "image/png": "[encoded data removed]",
      "text/plain": [
       "<Figure size 432x288 with 1 Axes>"
      ]
     },
     "metadata": {},
     "output_type": "display_data"
    }
   ],
   "source": [
    "%matplotlib inline\n",
    "from matplotlib import pyplot as plt\n",
    "import seaborn as sns\n",
    "sns.set()\n",
    "a = df.boxplot(column='STORIES',autorange=True)"
   ]
  },
  {
   "cell_type": "markdown",
   "metadata": {},
   "source": [
    "***\n",
    "__AYB < 1500__  \n",
    "While it may be possible from some homes to be originally built prior to 1900, these earlier homes represent a very small proportion of our data. The majority of them have years reported as 50 or below. In order to help secure overall data quality we will remove those observations from our data."
   ]
  },
  {
   "cell_type": "code",
   "execution_count": 6,
   "metadata": {},
   "outputs": [
    {
     "data": {
      "image/png": "[encoded data removed]",
      "text/plain": [
       "<Figure size 432x288 with 1 Axes>"
      ]
     },
     "metadata": {
      "needs_background": "light"
     },
     "output_type": "display_data"
    }
   ],
   "source": [
    "b = df.boxplot(column='AYB',autorange=True)"
   ]
  },
  {
   "cell_type": "markdown",
   "metadata": {},
   "source": [
    "***\n",
    "__Style > 25__  \n",
    "Style Dummy variables greater than 25 represent \"Outbuildings\" and \"Vacants\". We will not include these in our analysis.\n",
    "***"
   ]
  },
  {
   "cell_type": "markdown",
   "metadata": {},
   "source": [
    "__Kitchens > 20__  \n",
    "There is only a single home with > 20 kitchens. This appears to be a reporting error and will be excluded from analyis."
   ]
  },
  {
   "cell_type": "code",
   "execution_count": 7,
   "metadata": {},
   "outputs": [
    {
     "data": {
      "image/png": "[encoded data removed]",
      "text/plain": [
       "<Figure size 432x288 with 1 Axes>"
      ]
     },
     "metadata": {
      "needs_background": "light"
     },
     "output_type": "display_data"
    }
   ],
   "source": [
    "c = df.boxplot(column='KITCHENS',autorange=True)"
   ]
  },
  {
   "cell_type": "markdown",
   "metadata": {},
   "source": [
    "***\n",
    "__Rooms > 100 and BedRooms > Rooms__\n",
    "Based on the square footage for one home with > 100 rooms; it is likely this is a reporting error. \n",
    "Additionally any scenario where the count of bedrooms is greater the count of rooms is impossible.\n",
    "\n",
    "These cases will be excluded from our analysis"
   ]
  },
  {
   "cell_type": "code",
   "execution_count": 8,
   "metadata": {
    "scrolled": false
   },
   "outputs": [
    {
     "data": {
      "text/plain": [
       "<seaborn.axisgrid.PairGrid at 0x2328355ef98>"
      ]
     },
     "execution_count": 8,
     "metadata": {},
     "output_type": "execute_result"
    },
    {
     "data": {
      "image/png": "[encoded data removed]",
      "text/plain": [
       "<Figure size 576x576 with 20 Axes>"
      ]
     },
     "metadata": {
      "needs_background": "light"
     },
     "output_type": "display_data"
    }
   ],
   "source": [
    "#Plots before outlier Removals\n",
    "plotVar = ['STORIES','AYB','STYLE','KITCHENS']\n",
    "sns.pairplot(df[plotVar], height=2)"
   ]
  },
  {
   "cell_type": "code",
   "execution_count": 9,
   "metadata": {},
   "outputs": [
    {
     "data": {
      "text/plain": [
       "<seaborn.axisgrid.PairGrid at 0x2328084c630>"
      ]
     },
     "execution_count": 9,
     "metadata": {},
     "output_type": "execute_result"
    },
    {
     "data": {
      "image/png": "[encoded data removed]",
      "text/plain": [
       "<Figure size 576x576 with 20 Axes>"
      ]
     },
     "metadata": {
      "needs_background": "light"
     },
     "output_type": "display_data"
    }
   ],
   "source": [
    "#remove false records and replot\n",
    "df = df[df.STORIES < 200]\n",
    "df = df[df.AYB > 1500]\n",
    "df = df[df.STYLE < 25]\n",
    "df = df[df.KITCHENS < 20]\n",
    "df = df[df.ROOMS < 100]\n",
    "df = df[df.ROOMS >= df.BEDRM]\n",
    "sns.pairplot(df[plotVar], height=2)"
   ]
  },
  {
   "cell_type": "code",
   "execution_count": 10,
   "metadata": {},
   "outputs": [
    {
     "data": {
      "image/png": "[encoded data removed]",
      "text/plain": [
       "<Figure size 432x288 with 1 Axes>"
      ]
     },
     "metadata": {
      "needs_background": "light"
     },
     "output_type": "display_data"
    }
   ],
   "source": [
    "a = df.boxplot(column='STORIES',autorange=True)"
   ]
  },
  {
   "cell_type": "code",
   "execution_count": 11,
   "metadata": {},
   "outputs": [
    {
     "data": {
      "image/png": "[encoded data removed]",
      "text/plain": [
       "<Figure size 432x288 with 1 Axes>"
      ]
     },
     "metadata": {
      "needs_background": "light"
     },
     "output_type": "display_data"
    }
   ],
   "source": [
    "b = df.boxplot(column='AYB',autorange=True)"
   ]
  },
  {
   "cell_type": "code",
   "execution_count": 12,
   "metadata": {},
   "outputs": [
    {
     "data": {
      "image/png": "[encoded data removed]",
      "text/plain": [
       "<Figure size 432x288 with 1 Axes>"
      ]
     },
     "metadata": {
      "needs_background": "light"
     },
     "output_type": "display_data"
    }
   ],
   "source": [
    "c = df.boxplot(column='KITCHENS',autorange=True)"
   ]
  },
  {
   "cell_type": "markdown",
   "metadata": {},
   "source": [
    "***\n",
    "## Data Understanding 2\n",
    "<font color=blue>Visualize the any important attributes appropriately. Important: Provide an interpretation for any charts or graphs.</font>\n",
    "\n",
    "Let explore our data a little further to better understand the features that may be of importance for our analysis. First we will try to understand some of the different Wards in our data."
   ]
  },
  {
   "cell_type": "markdown",
   "metadata": {},
   "source": [
    "In order to help the client understand the how the home types for the various neighborhoods or wards relate we have to join with data collected through a different source to get distinct location information related to these addresses. However, not all address information is available for all the homes in our set so for the purposes of this we will only consider homes which we have neighborhood information available."
   ]
  },
  {
   "cell_type": "code",
   "execution_count": 13,
   "metadata": {
    "scrolled": true
   },
   "outputs": [],
   "source": [
    "# subset the variables of interest that we care about and inner join the two datasets \n",
    "df2 = df2.drop_duplicates(['SSL'], keep='last').set_index(\"SSL\")[[\"LATITUDE\",\"LONGITUDE\",\"ASSESSMENT_NBHD\",\"WARD\"]]\n",
    "df = pd.merge(df,df2,how=\"inner\",on=\"SSL\")"
   ]
  },
  {
   "cell_type": "code",
   "execution_count": 14,
   "metadata": {
    "scrolled": true
   },
   "outputs": [
    {
     "data": {
      "text/plain": [
       "(Text(0.5,0,'Latitude'), Text(0,0.5,'Longitude'))"
      ]
     },
     "execution_count": 14,
     "metadata": {},
     "output_type": "execute_result"
    },
    {
     "data": {
      "image/png": "[encoded data removed]",
      "text/plain": [
       "<Figure size 432x288 with 1 Axes>"
      ]
     },
     "metadata": {
      "needs_background": "light"
     },
     "output_type": "display_data"
    }
   ],
   "source": [
    "plt.figure()\n",
    "plt.scatter(df.LATITUDE, df.LONGITUDE, cmap=plt.cm.rainbow, s=1, linewidths=0)\n",
    "plt.xlabel('Latitude'), plt.ylabel('Longitude')"
   ]
  },
  {
   "cell_type": "code",
   "execution_count": 15,
   "metadata": {},
   "outputs": [
    {
     "data": {
      "image/png": "[encoded data removed]",
      "text/plain": [
       "<Figure size 432x288 with 1 Axes>"
      ]
     },
     "metadata": {
      "needs_background": "light"
     },
     "output_type": "display_data"
    }
   ],
   "source": [
    "from collections import Counter\n",
    "counts = Counter(df.WARD)\n",
    "labels, values = zip(*counts.items())\n",
    "# sort values in descending order\n",
    "indSort = np.argsort(values)[::-1]\n",
    "# rearrange data\n",
    "labels = np.array(labels)[indSort]\n",
    "values = np.array(values)[indSort]\n",
    "indexes = np.arange(len(labels))\n",
    "bar_width = 0.35\n",
    "plt.bar(indexes, values)\n",
    "# add labels\n",
    "plt.xticks(indexes + bar_width, labels)\n",
    "plt.show()"
   ]
  },
  {
   "cell_type": "markdown",
   "metadata": {},
   "source": [
    "***\n",
    "## Modeling and Evaluation  \n",
    "\n",
    "<font color=DarkRed>Different tasks will require different evaluation methods. Be as thorough as possible when analyzing\n",
    "the data you have chosen and use visualizations of the results to explain the performance and\n",
    "expected outcomes whenever possible. Guide the reader through your analysis with plenty of\n",
    "discussion of the results.</font>\n",
    "    \n",
    "#### Option A: Cluster Analysis  \n",
    "<font color=DarkRed>  \n",
    "__Train__: Perform cluster analysis using several clustering methods (adjust parameters).  \n",
    "__Eval__: Use internal and/or external validation measures to describe and compare the clusterings and the clusters— how did you determine a suitable number of clusters for each method?  \n",
    "__Visualize__: Use tables/visualization to discuss the found results. Explain each visualization in detail.  \n",
    "__Summarize__: Describe your results. What findings are the most interesting and why?</font>  "
   ]
  },
  {
   "cell_type": "markdown",
   "metadata": {},
   "source": [
    "***\n",
    "## Modeling and Evaluation 1\n",
    "<font color=blue>Train and adjust parameters</font>"
   ]
  },
  {
   "cell_type": "markdown",
   "metadata": {},
   "source": [
    "***\n",
    "## Modeling and Evaluation 2\n",
    "<font color=blue>Evaluate and Compare</font>  "
   ]
  },
  {
   "cell_type": "markdown",
   "metadata": {},
   "source": [
    "***\n",
    "## Modeling and Evaluation 3\n",
    "<font color=blue>Visualize Results</font>"
   ]
  },
  {
   "cell_type": "markdown",
   "metadata": {},
   "source": [
    "***\n",
    "## Modeling and Evaluation 4  \n",
    "<font color=blue>Summarize the Ramifications</font>  \n",
    "Blah blah.   "
   ]
  },
  {
   "cell_type": "markdown",
   "metadata": {},
   "source": [
    "***\n",
    "## Deployment\n",
    "<font color=blue>Be critical of your performance and tell the reader how you current model might be usable by other parties. Did you achieve your goals? If not, can you reign in the utility of your modeling? How useful is your model for interested parties (i.e., the companies or organizations that might want to use it)? How would your deploy your model for interested parties? What other data should be collected? How often would the model need to be updated, etc.?</font>  \n",
    "Blah derper blah blah blah.  "
   ]
  },
  {
   "cell_type": "markdown",
   "metadata": {},
   "source": [
    "***\n",
    "## Exceptional Work  \n",
    "<font color=blue>You have free reign to provide additional analyses or combine analyses.</font>  \n",
    "\n",
    "Blah blah. Blah blah blah BLAH!  "
   ]
  },
  {
   "cell_type": "code",
   "execution_count": 16,
   "metadata": {},
   "outputs": [
    {
     "data": {
      "text/plain": [
       "WARD\n",
       "Ward 1     8014\n",
       "Ward 2     5958\n",
       "Ward 3    14362\n",
       "Ward 4    20235\n",
       "Ward 5    17969\n",
       "Ward 6    15775\n",
       "Ward 7    14845\n",
       "Ward 8     8689\n",
       "Name: OBJECTID, dtype: int64"
      ]
     },
     "execution_count": 16,
     "metadata": {},
     "output_type": "execute_result"
    }
   ],
   "source": [
    "df.groupby(['WARD']).OBJECTID.count()"
   ]
  },
  {
   "cell_type": "code",
   "execution_count": 17,
   "metadata": {},
   "outputs": [
    {
     "data": {
      "text/plain": [
       "ASSESSMENT_NBHD\n",
       "16th Street Heights              1956\n",
       "American University              2361\n",
       "Anacostia                        1614\n",
       "Barry Farms                       350\n",
       "Berkley                           705\n",
       "Brentwood                         733\n",
       "Brightwood                       3724\n",
       "Brookland                        5558\n",
       "Burleith                          798\n",
       "Capitol Hill                     3049\n",
       "Central-tri 1                     174\n",
       "Chevy Chase                      4741\n",
       "Chillum                           857\n",
       "Cleveland Park                   1083\n",
       "Colonial Village                  627\n",
       "Columbia Heights                 5164\n",
       "Congress Heights                 3770\n",
       "Crestwood                         765\n",
       "Deanwood                         5626\n",
       "Eckington                        1742\n",
       "Foggy Bottom                      252\n",
       "Forest Hills                      810\n",
       "Fort Dupont Park                 3138\n",
       "Fort Lincoln                      609\n",
       "Foxhall                           366\n",
       "Garfield                          481\n",
       "Georgetown                       2555\n",
       "Glover Park                       979\n",
       "Hawthorne                         307\n",
       "Hillcrest                        2633\n",
       "Kalorama                          749\n",
       "Kent                              857\n",
       "Ledroit Park                     1401\n",
       "Lily Ponds                       1387\n",
       "Marshall Heights                 1363\n",
       "Massachusetts Avenue Heights      204\n",
       "Michigan Park                     906\n",
       "Mt. Pleasant                     1821\n",
       "North Cleveland Park              792\n",
       "Observatory Circle                403\n",
       "Old City 1                      11955\n",
       "Old City 2                       4827\n",
       "Palisades                         888\n",
       "Petworth                         5592\n",
       "Randle Heights                   2981\n",
       "Riggs Park                       2788\n",
       "Rock Creek Park                     1\n",
       "Shepherd Heights                  974\n",
       "Southwest Waterfront              284\n",
       "Spring Valley                     925\n",
       "Takoma Park                       859\n",
       "Trinidad                         2566\n",
       "Wakefield                         374\n",
       "Wesley Heights                    645\n",
       "Woodley                           206\n",
       "Woodridge                        2572\n",
       "Name: OBJECTID, dtype: int64"
      ]
     },
     "execution_count": 17,
     "metadata": {},
     "output_type": "execute_result"
    }
   ],
   "source": [
    "df.groupby(['ASSESSMENT_NBHD']).OBJECTID.count()"
   ]
  }
 ],
 "metadata": {
  "kernelspec": {
   "display_name": "Python 3",
   "language": "python",
   "name": "python3"
  },
  "language_info": {
   "codemirror_mode": {
    "name": "ipython",
    "version": 3
   },
   "file_extension": ".py",
   "mimetype": "text/x-python",
   "name": "python",
   "nbconvert_exporter": "python",
   "pygments_lexer": "ipython3",
   "version": "3.7.0"
  }
 },
 "nbformat": 4,
 "nbformat_minor": 2
}
